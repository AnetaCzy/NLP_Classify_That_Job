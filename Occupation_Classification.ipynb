{
  "cells": [
    {
      "cell_type": "markdown",
      "metadata": {
        "id": "kLCCsP_Qg3HT"
      },
      "source": [
        "Imports"
      ]
    },
    {
      "cell_type": "code",
      "execution_count": null,
      "metadata": {
        "id": "0z3IXS1HzRQl"
      },
      "outputs": [],
      "source": [
        "import logging\n",
        "import pandas as pd\n",
        "import numpy as np\n",
        "from numpy import random\n",
        "import gensim\n",
        "import nltk\n",
        "from sklearn.model_selection import train_test_split\n",
        "from sklearn.feature_extraction.text import CountVectorizer, TfidfVectorizer\n",
        "from sklearn.metrics import accuracy_score, confusion_matrix\n",
        "import matplotlib.pyplot as plt\n",
        "from nltk.corpus import stopwords\n",
        "import re\n",
        "from bs4 import BeautifulSoup\n",
        "%matplotlib inline"
      ]
    },
    {
      "cell_type": "code",
      "execution_count": null,
      "metadata": {
        "colab": {
          "base_uri": "https://localhost:8080/"
        },
        "id": "uGM80t_J0wMn",
        "outputId": "b6c2e5e1-0259-4578-a8a6-f5c1a3734f19"
      },
      "outputs": [
        {
          "output_type": "stream",
          "name": "stdout",
          "text": [
            "Mounted at /content/drive\n"
          ]
        }
      ],
      "source": [
        "from google.colab import drive\n",
        "drive.mount('/content/drive')"
      ]
    },
    {
      "cell_type": "code",
      "execution_count": null,
      "metadata": {
        "id": "Qi5k3v5xzRQp"
      },
      "outputs": [],
      "source": [
        "df = pd.read_fwf('/content/drive/MyDrive/Praca_licencjacka/zawody-2018-19.txt')\n",
        "df.to_csv('zawody-2018-19.txt.csv')"
      ]
    },
    {
      "cell_type": "code",
      "execution_count": null,
      "metadata": {
        "colab": {
          "base_uri": "https://localhost:8080/",
          "height": 206
        },
        "id": "bEyM6lRFzRQq",
        "outputId": "4a36d6d3-f794-48c3-b1cb-74b76020d61a"
      },
      "outputs": [
        {
          "output_type": "execute_result",
          "data": {
            "text/plain": [
              "   Occupation_Code                       Occupation_Name  \\\n",
              "0           432103                      magazynier paliw   \n",
              "1           234201  Nauczyciel wychowania przedszkolnego   \n",
              "2           515303      PRACOWNIK PORZĄDKOWY (1/2 ETATU)   \n",
              "3           522301                            Sprzedawca   \n",
              "4           522301                            Sprzedawca   \n",
              "\n",
              "                              Occupation_description  \n",
              "0  całokształt prac zwiazanych z gospodarką magaz...  \n",
              "1  Obowiązki opiekuńczo-wychowawczo-dydaktyczne, ...  \n",
              "2  SPRZĄTANIE CHODNIKÓW, ODŚNIEŻANIE PRACA: 1 OSO...  \n",
              "3  Obsługa klientów klientów na hali sprzedaży or...  \n",
              "4            obsługa klienta, obsługa kasy fiskalnej  "
            ],
            "text/html": [
              "\n",
              "  <div id=\"df-00f5c9fc-b29e-4cde-a764-14389660b177\">\n",
              "    <div class=\"colab-df-container\">\n",
              "      <div>\n",
              "<style scoped>\n",
              "    .dataframe tbody tr th:only-of-type {\n",
              "        vertical-align: middle;\n",
              "    }\n",
              "\n",
              "    .dataframe tbody tr th {\n",
              "        vertical-align: top;\n",
              "    }\n",
              "\n",
              "    .dataframe thead th {\n",
              "        text-align: right;\n",
              "    }\n",
              "</style>\n",
              "<table border=\"1\" class=\"dataframe\">\n",
              "  <thead>\n",
              "    <tr style=\"text-align: right;\">\n",
              "      <th></th>\n",
              "      <th>Occupation_Code</th>\n",
              "      <th>Occupation_Name</th>\n",
              "      <th>Occupation_description</th>\n",
              "    </tr>\n",
              "  </thead>\n",
              "  <tbody>\n",
              "    <tr>\n",
              "      <th>0</th>\n",
              "      <td>432103</td>\n",
              "      <td>magazynier paliw</td>\n",
              "      <td>całokształt prac zwiazanych z gospodarką magaz...</td>\n",
              "    </tr>\n",
              "    <tr>\n",
              "      <th>1</th>\n",
              "      <td>234201</td>\n",
              "      <td>Nauczyciel wychowania przedszkolnego</td>\n",
              "      <td>Obowiązki opiekuńczo-wychowawczo-dydaktyczne, ...</td>\n",
              "    </tr>\n",
              "    <tr>\n",
              "      <th>2</th>\n",
              "      <td>515303</td>\n",
              "      <td>PRACOWNIK PORZĄDKOWY (1/2 ETATU)</td>\n",
              "      <td>SPRZĄTANIE CHODNIKÓW, ODŚNIEŻANIE PRACA: 1 OSO...</td>\n",
              "    </tr>\n",
              "    <tr>\n",
              "      <th>3</th>\n",
              "      <td>522301</td>\n",
              "      <td>Sprzedawca</td>\n",
              "      <td>Obsługa klientów klientów na hali sprzedaży or...</td>\n",
              "    </tr>\n",
              "    <tr>\n",
              "      <th>4</th>\n",
              "      <td>522301</td>\n",
              "      <td>Sprzedawca</td>\n",
              "      <td>obsługa klienta, obsługa kasy fiskalnej</td>\n",
              "    </tr>\n",
              "  </tbody>\n",
              "</table>\n",
              "</div>\n",
              "      <button class=\"colab-df-convert\" onclick=\"convertToInteractive('df-00f5c9fc-b29e-4cde-a764-14389660b177')\"\n",
              "              title=\"Convert this dataframe to an interactive table.\"\n",
              "              style=\"display:none;\">\n",
              "        \n",
              "  <svg xmlns=\"http://www.w3.org/2000/svg\" height=\"24px\"viewBox=\"0 0 24 24\"\n",
              "       width=\"24px\">\n",
              "    <path d=\"M0 0h24v24H0V0z\" fill=\"none\"/>\n",
              "    <path d=\"M18.56 5.44l.94 2.06.94-2.06 2.06-.94-2.06-.94-.94-2.06-.94 2.06-2.06.94zm-11 1L8.5 8.5l.94-2.06 2.06-.94-2.06-.94L8.5 2.5l-.94 2.06-2.06.94zm10 10l.94 2.06.94-2.06 2.06-.94-2.06-.94-.94-2.06-.94 2.06-2.06.94z\"/><path d=\"M17.41 7.96l-1.37-1.37c-.4-.4-.92-.59-1.43-.59-.52 0-1.04.2-1.43.59L10.3 9.45l-7.72 7.72c-.78.78-.78 2.05 0 2.83L4 21.41c.39.39.9.59 1.41.59.51 0 1.02-.2 1.41-.59l7.78-7.78 2.81-2.81c.8-.78.8-2.07 0-2.86zM5.41 20L4 18.59l7.72-7.72 1.47 1.35L5.41 20z\"/>\n",
              "  </svg>\n",
              "      </button>\n",
              "      \n",
              "  <style>\n",
              "    .colab-df-container {\n",
              "      display:flex;\n",
              "      flex-wrap:wrap;\n",
              "      gap: 12px;\n",
              "    }\n",
              "\n",
              "    .colab-df-convert {\n",
              "      background-color: #E8F0FE;\n",
              "      border: none;\n",
              "      border-radius: 50%;\n",
              "      cursor: pointer;\n",
              "      display: none;\n",
              "      fill: #1967D2;\n",
              "      height: 32px;\n",
              "      padding: 0 0 0 0;\n",
              "      width: 32px;\n",
              "    }\n",
              "\n",
              "    .colab-df-convert:hover {\n",
              "      background-color: #E2EBFA;\n",
              "      box-shadow: 0px 1px 2px rgba(60, 64, 67, 0.3), 0px 1px 3px 1px rgba(60, 64, 67, 0.15);\n",
              "      fill: #174EA6;\n",
              "    }\n",
              "\n",
              "    [theme=dark] .colab-df-convert {\n",
              "      background-color: #3B4455;\n",
              "      fill: #D2E3FC;\n",
              "    }\n",
              "\n",
              "    [theme=dark] .colab-df-convert:hover {\n",
              "      background-color: #434B5C;\n",
              "      box-shadow: 0px 1px 3px 1px rgba(0, 0, 0, 0.15);\n",
              "      filter: drop-shadow(0px 1px 2px rgba(0, 0, 0, 0.3));\n",
              "      fill: #FFFFFF;\n",
              "    }\n",
              "  </style>\n",
              "\n",
              "      <script>\n",
              "        const buttonEl =\n",
              "          document.querySelector('#df-00f5c9fc-b29e-4cde-a764-14389660b177 button.colab-df-convert');\n",
              "        buttonEl.style.display =\n",
              "          google.colab.kernel.accessAllowed ? 'block' : 'none';\n",
              "\n",
              "        async function convertToInteractive(key) {\n",
              "          const element = document.querySelector('#df-00f5c9fc-b29e-4cde-a764-14389660b177');\n",
              "          const dataTable =\n",
              "            await google.colab.kernel.invokeFunction('convertToInteractive',\n",
              "                                                     [key], {});\n",
              "          if (!dataTable) return;\n",
              "\n",
              "          const docLinkHtml = 'Like what you see? Visit the ' +\n",
              "            '<a target=\"_blank\" href=https://colab.research.google.com/notebooks/data_table.ipynb>data table notebook</a>'\n",
              "            + ' to learn more about interactive tables.';\n",
              "          element.innerHTML = '';\n",
              "          dataTable['output_type'] = 'display_data';\n",
              "          await google.colab.output.renderOutput(dataTable, element);\n",
              "          const docLink = document.createElement('div');\n",
              "          docLink.innerHTML = docLinkHtml;\n",
              "          element.appendChild(docLink);\n",
              "        }\n",
              "      </script>\n",
              "    </div>\n",
              "  </div>\n",
              "  "
            ]
          },
          "metadata": {},
          "execution_count": 4
        }
      ],
      "source": [
        "df = pd.read_csv('/content/drive/MyDrive/Praca_licencjacka/zawody-2018-19.txt', sep=';')\n",
        "#df = pd.read_csv('/content/drive/MyDrive/Praca_licencjacka/zawody-2018-19.txt', sep=';', nrows=10000)\n",
        "\n",
        "df.columns = ['Occupation_Code','Occupation_Name','Occupation_description']\n",
        "df.head(5)"
      ]
    },
    {
      "cell_type": "code",
      "execution_count": null,
      "metadata": {
        "colab": {
          "base_uri": "https://localhost:8080/"
        },
        "id": "qrVy6hv4zRQr",
        "outputId": "bdc57dcc-8d3e-4731-b2ba-dc2621aafe6f"
      },
      "outputs": [
        {
          "output_type": "stream",
          "name": "stdout",
          "text": [
            "<class 'pandas.core.frame.DataFrame'>\n",
            "RangeIndex: 709068 entries, 0 to 709067\n",
            "Data columns (total 3 columns):\n",
            " #   Column                  Non-Null Count   Dtype \n",
            "---  ------                  --------------   ----- \n",
            " 0   Occupation_Code         709068 non-null  int64 \n",
            " 1   Occupation_Name         709068 non-null  object\n",
            " 2   Occupation_description  709068 non-null  object\n",
            "dtypes: int64(1), object(2)\n",
            "memory usage: 16.2+ MB\n"
          ]
        },
        {
          "output_type": "execute_result",
          "data": {
            "text/plain": [
              "(709068, 3)"
            ]
          },
          "metadata": {},
          "execution_count": 5
        }
      ],
      "source": [
        "# getting basic info about the dataset\n",
        "df.info()\n",
        "df.shape"
      ]
    },
    {
      "cell_type": "code",
      "execution_count": null,
      "metadata": {
        "colab": {
          "base_uri": "https://localhost:8080/"
        },
        "id": "WSuXPQx2zRQr",
        "outputId": "301b0bfe-cbec-420c-a8b1-92f9f2b0b420"
      },
      "outputs": [
        {
          "output_type": "execute_result",
          "data": {
            "text/plain": [
              "Occupation_Code           0\n",
              "Occupation_Name           0\n",
              "Occupation_description    0\n",
              "dtype: int64"
            ]
          },
          "metadata": {},
          "execution_count": 6
        }
      ],
      "source": [
        "# checking for null values, if any\n",
        "df.isnull().sum()"
      ]
    },
    {
      "cell_type": "code",
      "execution_count": null,
      "metadata": {
        "colab": {
          "base_uri": "https://localhost:8080/",
          "height": 285
        },
        "id": "Uoky0fCNzRQs",
        "outputId": "86fbb0a2-b77c-4dac-e812-d75719fce232"
      },
      "outputs": [
        {
          "output_type": "execute_result",
          "data": {
            "text/plain": [
              "   Occupation_Code                       Occupation_Name  \\\n",
              "0           432103                      magazynier paliw   \n",
              "1           234201  Nauczyciel wychowania przedszkolnego   \n",
              "2           515303      PRACOWNIK PORZĄDKOWY (1/2 ETATU)   \n",
              "3           522301                            Sprzedawca   \n",
              "4           522301                            Sprzedawca   \n",
              "\n",
              "                              Occupation_description  \\\n",
              "0  całokształt prac zwiazanych z gospodarką magaz...   \n",
              "1  Obowiązki opiekuńczo-wychowawczo-dydaktyczne, ...   \n",
              "2  SPRZĄTANIE CHODNIKÓW, ODŚNIEŻANIE PRACA: 1 OSO...   \n",
              "3  Obsługa klientów klientów na hali sprzedaży or...   \n",
              "4            obsługa klienta, obsługa kasy fiskalnej   \n",
              "\n",
              "                                Job_Name&Description  \n",
              "0  magazynier paliw | całokształt prac zwiazanych...  \n",
              "1  Nauczyciel wychowania przedszkolnego | Obowiąz...  \n",
              "2  PRACOWNIK PORZĄDKOWY (1/2 ETATU) | SPRZĄTANIE ...  \n",
              "3  Sprzedawca | Obsługa klientów klientów na hali...  \n",
              "4  Sprzedawca | obsługa klienta, obsługa kasy fis...  "
            ],
            "text/html": [
              "\n",
              "  <div id=\"df-88c82102-0e5e-4a68-b981-2afe8390ef5b\">\n",
              "    <div class=\"colab-df-container\">\n",
              "      <div>\n",
              "<style scoped>\n",
              "    .dataframe tbody tr th:only-of-type {\n",
              "        vertical-align: middle;\n",
              "    }\n",
              "\n",
              "    .dataframe tbody tr th {\n",
              "        vertical-align: top;\n",
              "    }\n",
              "\n",
              "    .dataframe thead th {\n",
              "        text-align: right;\n",
              "    }\n",
              "</style>\n",
              "<table border=\"1\" class=\"dataframe\">\n",
              "  <thead>\n",
              "    <tr style=\"text-align: right;\">\n",
              "      <th></th>\n",
              "      <th>Occupation_Code</th>\n",
              "      <th>Occupation_Name</th>\n",
              "      <th>Occupation_description</th>\n",
              "      <th>Job_Name&amp;Description</th>\n",
              "    </tr>\n",
              "  </thead>\n",
              "  <tbody>\n",
              "    <tr>\n",
              "      <th>0</th>\n",
              "      <td>432103</td>\n",
              "      <td>magazynier paliw</td>\n",
              "      <td>całokształt prac zwiazanych z gospodarką magaz...</td>\n",
              "      <td>magazynier paliw | całokształt prac zwiazanych...</td>\n",
              "    </tr>\n",
              "    <tr>\n",
              "      <th>1</th>\n",
              "      <td>234201</td>\n",
              "      <td>Nauczyciel wychowania przedszkolnego</td>\n",
              "      <td>Obowiązki opiekuńczo-wychowawczo-dydaktyczne, ...</td>\n",
              "      <td>Nauczyciel wychowania przedszkolnego | Obowiąz...</td>\n",
              "    </tr>\n",
              "    <tr>\n",
              "      <th>2</th>\n",
              "      <td>515303</td>\n",
              "      <td>PRACOWNIK PORZĄDKOWY (1/2 ETATU)</td>\n",
              "      <td>SPRZĄTANIE CHODNIKÓW, ODŚNIEŻANIE PRACA: 1 OSO...</td>\n",
              "      <td>PRACOWNIK PORZĄDKOWY (1/2 ETATU) | SPRZĄTANIE ...</td>\n",
              "    </tr>\n",
              "    <tr>\n",
              "      <th>3</th>\n",
              "      <td>522301</td>\n",
              "      <td>Sprzedawca</td>\n",
              "      <td>Obsługa klientów klientów na hali sprzedaży or...</td>\n",
              "      <td>Sprzedawca | Obsługa klientów klientów na hali...</td>\n",
              "    </tr>\n",
              "    <tr>\n",
              "      <th>4</th>\n",
              "      <td>522301</td>\n",
              "      <td>Sprzedawca</td>\n",
              "      <td>obsługa klienta, obsługa kasy fiskalnej</td>\n",
              "      <td>Sprzedawca | obsługa klienta, obsługa kasy fis...</td>\n",
              "    </tr>\n",
              "  </tbody>\n",
              "</table>\n",
              "</div>\n",
              "      <button class=\"colab-df-convert\" onclick=\"convertToInteractive('df-88c82102-0e5e-4a68-b981-2afe8390ef5b')\"\n",
              "              title=\"Convert this dataframe to an interactive table.\"\n",
              "              style=\"display:none;\">\n",
              "        \n",
              "  <svg xmlns=\"http://www.w3.org/2000/svg\" height=\"24px\"viewBox=\"0 0 24 24\"\n",
              "       width=\"24px\">\n",
              "    <path d=\"M0 0h24v24H0V0z\" fill=\"none\"/>\n",
              "    <path d=\"M18.56 5.44l.94 2.06.94-2.06 2.06-.94-2.06-.94-.94-2.06-.94 2.06-2.06.94zm-11 1L8.5 8.5l.94-2.06 2.06-.94-2.06-.94L8.5 2.5l-.94 2.06-2.06.94zm10 10l.94 2.06.94-2.06 2.06-.94-2.06-.94-.94-2.06-.94 2.06-2.06.94z\"/><path d=\"M17.41 7.96l-1.37-1.37c-.4-.4-.92-.59-1.43-.59-.52 0-1.04.2-1.43.59L10.3 9.45l-7.72 7.72c-.78.78-.78 2.05 0 2.83L4 21.41c.39.39.9.59 1.41.59.51 0 1.02-.2 1.41-.59l7.78-7.78 2.81-2.81c.8-.78.8-2.07 0-2.86zM5.41 20L4 18.59l7.72-7.72 1.47 1.35L5.41 20z\"/>\n",
              "  </svg>\n",
              "      </button>\n",
              "      \n",
              "  <style>\n",
              "    .colab-df-container {\n",
              "      display:flex;\n",
              "      flex-wrap:wrap;\n",
              "      gap: 12px;\n",
              "    }\n",
              "\n",
              "    .colab-df-convert {\n",
              "      background-color: #E8F0FE;\n",
              "      border: none;\n",
              "      border-radius: 50%;\n",
              "      cursor: pointer;\n",
              "      display: none;\n",
              "      fill: #1967D2;\n",
              "      height: 32px;\n",
              "      padding: 0 0 0 0;\n",
              "      width: 32px;\n",
              "    }\n",
              "\n",
              "    .colab-df-convert:hover {\n",
              "      background-color: #E2EBFA;\n",
              "      box-shadow: 0px 1px 2px rgba(60, 64, 67, 0.3), 0px 1px 3px 1px rgba(60, 64, 67, 0.15);\n",
              "      fill: #174EA6;\n",
              "    }\n",
              "\n",
              "    [theme=dark] .colab-df-convert {\n",
              "      background-color: #3B4455;\n",
              "      fill: #D2E3FC;\n",
              "    }\n",
              "\n",
              "    [theme=dark] .colab-df-convert:hover {\n",
              "      background-color: #434B5C;\n",
              "      box-shadow: 0px 1px 3px 1px rgba(0, 0, 0, 0.15);\n",
              "      filter: drop-shadow(0px 1px 2px rgba(0, 0, 0, 0.3));\n",
              "      fill: #FFFFFF;\n",
              "    }\n",
              "  </style>\n",
              "\n",
              "      <script>\n",
              "        const buttonEl =\n",
              "          document.querySelector('#df-88c82102-0e5e-4a68-b981-2afe8390ef5b button.colab-df-convert');\n",
              "        buttonEl.style.display =\n",
              "          google.colab.kernel.accessAllowed ? 'block' : 'none';\n",
              "\n",
              "        async function convertToInteractive(key) {\n",
              "          const element = document.querySelector('#df-88c82102-0e5e-4a68-b981-2afe8390ef5b');\n",
              "          const dataTable =\n",
              "            await google.colab.kernel.invokeFunction('convertToInteractive',\n",
              "                                                     [key], {});\n",
              "          if (!dataTable) return;\n",
              "\n",
              "          const docLinkHtml = 'Like what you see? Visit the ' +\n",
              "            '<a target=\"_blank\" href=https://colab.research.google.com/notebooks/data_table.ipynb>data table notebook</a>'\n",
              "            + ' to learn more about interactive tables.';\n",
              "          element.innerHTML = '';\n",
              "          dataTable['output_type'] = 'display_data';\n",
              "          await google.colab.output.renderOutput(dataTable, element);\n",
              "          const docLink = document.createElement('div');\n",
              "          docLink.innerHTML = docLinkHtml;\n",
              "          element.appendChild(docLink);\n",
              "        }\n",
              "      </script>\n",
              "    </div>\n",
              "  </div>\n",
              "  "
            ]
          },
          "metadata": {},
          "execution_count": 7
        }
      ],
      "source": [
        "#joining text columns together\n",
        "df['Job_Name&Description'] = df['Occupation_Name'] + ' | ' + df['Occupation_description']\n",
        "df.head(5)"
      ]
    },
    {
      "cell_type": "code",
      "execution_count": null,
      "metadata": {
        "colab": {
          "base_uri": "https://localhost:8080/",
          "height": 363
        },
        "id": "qCRapSXMzRQs",
        "outputId": "0e389e97-884e-42bc-b0e0-308e3cdf44bc"
      },
      "outputs": [
        {
          "output_type": "execute_result",
          "data": {
            "text/plain": [
              "   Occupation_Code                               Job_Name&Description\n",
              "0           432103  magazynier paliw | całokształt prac zwiazanych...\n",
              "1           234201  Nauczyciel wychowania przedszkolnego | Obowiąz...\n",
              "2           515303  PRACOWNIK PORZĄDKOWY (1/2 ETATU) | SPRZĄTANIE ...\n",
              "3           522301  Sprzedawca | Obsługa klientów klientów na hali...\n",
              "4           522301  Sprzedawca | obsługa klienta, obsługa kasy fis...\n",
              "5           522301                       Sprzedawca | obsługa klienta\n",
              "6           522301  Sprzedawca | Wprowadzanie faktur, dokumentów, ...\n",
              "7           712612  MONTER INSTALACJI | Wykonywanie wykopów pod ka...\n",
              "8           522301  Sprzedawca | Obsługa kasy fiskalnej, przyjmowa...\n",
              "9           932908                             Pomocnik mechanika | ."
            ],
            "text/html": [
              "\n",
              "  <div id=\"df-bc3bb095-9c5d-4092-bf54-765b4b01394e\">\n",
              "    <div class=\"colab-df-container\">\n",
              "      <div>\n",
              "<style scoped>\n",
              "    .dataframe tbody tr th:only-of-type {\n",
              "        vertical-align: middle;\n",
              "    }\n",
              "\n",
              "    .dataframe tbody tr th {\n",
              "        vertical-align: top;\n",
              "    }\n",
              "\n",
              "    .dataframe thead th {\n",
              "        text-align: right;\n",
              "    }\n",
              "</style>\n",
              "<table border=\"1\" class=\"dataframe\">\n",
              "  <thead>\n",
              "    <tr style=\"text-align: right;\">\n",
              "      <th></th>\n",
              "      <th>Occupation_Code</th>\n",
              "      <th>Job_Name&amp;Description</th>\n",
              "    </tr>\n",
              "  </thead>\n",
              "  <tbody>\n",
              "    <tr>\n",
              "      <th>0</th>\n",
              "      <td>432103</td>\n",
              "      <td>magazynier paliw | całokształt prac zwiazanych...</td>\n",
              "    </tr>\n",
              "    <tr>\n",
              "      <th>1</th>\n",
              "      <td>234201</td>\n",
              "      <td>Nauczyciel wychowania przedszkolnego | Obowiąz...</td>\n",
              "    </tr>\n",
              "    <tr>\n",
              "      <th>2</th>\n",
              "      <td>515303</td>\n",
              "      <td>PRACOWNIK PORZĄDKOWY (1/2 ETATU) | SPRZĄTANIE ...</td>\n",
              "    </tr>\n",
              "    <tr>\n",
              "      <th>3</th>\n",
              "      <td>522301</td>\n",
              "      <td>Sprzedawca | Obsługa klientów klientów na hali...</td>\n",
              "    </tr>\n",
              "    <tr>\n",
              "      <th>4</th>\n",
              "      <td>522301</td>\n",
              "      <td>Sprzedawca | obsługa klienta, obsługa kasy fis...</td>\n",
              "    </tr>\n",
              "    <tr>\n",
              "      <th>5</th>\n",
              "      <td>522301</td>\n",
              "      <td>Sprzedawca | obsługa klienta</td>\n",
              "    </tr>\n",
              "    <tr>\n",
              "      <th>6</th>\n",
              "      <td>522301</td>\n",
              "      <td>Sprzedawca | Wprowadzanie faktur, dokumentów, ...</td>\n",
              "    </tr>\n",
              "    <tr>\n",
              "      <th>7</th>\n",
              "      <td>712612</td>\n",
              "      <td>MONTER INSTALACJI | Wykonywanie wykopów pod ka...</td>\n",
              "    </tr>\n",
              "    <tr>\n",
              "      <th>8</th>\n",
              "      <td>522301</td>\n",
              "      <td>Sprzedawca | Obsługa kasy fiskalnej, przyjmowa...</td>\n",
              "    </tr>\n",
              "    <tr>\n",
              "      <th>9</th>\n",
              "      <td>932908</td>\n",
              "      <td>Pomocnik mechanika | .</td>\n",
              "    </tr>\n",
              "  </tbody>\n",
              "</table>\n",
              "</div>\n",
              "      <button class=\"colab-df-convert\" onclick=\"convertToInteractive('df-bc3bb095-9c5d-4092-bf54-765b4b01394e')\"\n",
              "              title=\"Convert this dataframe to an interactive table.\"\n",
              "              style=\"display:none;\">\n",
              "        \n",
              "  <svg xmlns=\"http://www.w3.org/2000/svg\" height=\"24px\"viewBox=\"0 0 24 24\"\n",
              "       width=\"24px\">\n",
              "    <path d=\"M0 0h24v24H0V0z\" fill=\"none\"/>\n",
              "    <path d=\"M18.56 5.44l.94 2.06.94-2.06 2.06-.94-2.06-.94-.94-2.06-.94 2.06-2.06.94zm-11 1L8.5 8.5l.94-2.06 2.06-.94-2.06-.94L8.5 2.5l-.94 2.06-2.06.94zm10 10l.94 2.06.94-2.06 2.06-.94-2.06-.94-.94-2.06-.94 2.06-2.06.94z\"/><path d=\"M17.41 7.96l-1.37-1.37c-.4-.4-.92-.59-1.43-.59-.52 0-1.04.2-1.43.59L10.3 9.45l-7.72 7.72c-.78.78-.78 2.05 0 2.83L4 21.41c.39.39.9.59 1.41.59.51 0 1.02-.2 1.41-.59l7.78-7.78 2.81-2.81c.8-.78.8-2.07 0-2.86zM5.41 20L4 18.59l7.72-7.72 1.47 1.35L5.41 20z\"/>\n",
              "  </svg>\n",
              "      </button>\n",
              "      \n",
              "  <style>\n",
              "    .colab-df-container {\n",
              "      display:flex;\n",
              "      flex-wrap:wrap;\n",
              "      gap: 12px;\n",
              "    }\n",
              "\n",
              "    .colab-df-convert {\n",
              "      background-color: #E8F0FE;\n",
              "      border: none;\n",
              "      border-radius: 50%;\n",
              "      cursor: pointer;\n",
              "      display: none;\n",
              "      fill: #1967D2;\n",
              "      height: 32px;\n",
              "      padding: 0 0 0 0;\n",
              "      width: 32px;\n",
              "    }\n",
              "\n",
              "    .colab-df-convert:hover {\n",
              "      background-color: #E2EBFA;\n",
              "      box-shadow: 0px 1px 2px rgba(60, 64, 67, 0.3), 0px 1px 3px 1px rgba(60, 64, 67, 0.15);\n",
              "      fill: #174EA6;\n",
              "    }\n",
              "\n",
              "    [theme=dark] .colab-df-convert {\n",
              "      background-color: #3B4455;\n",
              "      fill: #D2E3FC;\n",
              "    }\n",
              "\n",
              "    [theme=dark] .colab-df-convert:hover {\n",
              "      background-color: #434B5C;\n",
              "      box-shadow: 0px 1px 3px 1px rgba(0, 0, 0, 0.15);\n",
              "      filter: drop-shadow(0px 1px 2px rgba(0, 0, 0, 0.3));\n",
              "      fill: #FFFFFF;\n",
              "    }\n",
              "  </style>\n",
              "\n",
              "      <script>\n",
              "        const buttonEl =\n",
              "          document.querySelector('#df-bc3bb095-9c5d-4092-bf54-765b4b01394e button.colab-df-convert');\n",
              "        buttonEl.style.display =\n",
              "          google.colab.kernel.accessAllowed ? 'block' : 'none';\n",
              "\n",
              "        async function convertToInteractive(key) {\n",
              "          const element = document.querySelector('#df-bc3bb095-9c5d-4092-bf54-765b4b01394e');\n",
              "          const dataTable =\n",
              "            await google.colab.kernel.invokeFunction('convertToInteractive',\n",
              "                                                     [key], {});\n",
              "          if (!dataTable) return;\n",
              "\n",
              "          const docLinkHtml = 'Like what you see? Visit the ' +\n",
              "            '<a target=\"_blank\" href=https://colab.research.google.com/notebooks/data_table.ipynb>data table notebook</a>'\n",
              "            + ' to learn more about interactive tables.';\n",
              "          element.innerHTML = '';\n",
              "          dataTable['output_type'] = 'display_data';\n",
              "          await google.colab.output.renderOutput(dataTable, element);\n",
              "          const docLink = document.createElement('div');\n",
              "          docLink.innerHTML = docLinkHtml;\n",
              "          element.appendChild(docLink);\n",
              "        }\n",
              "      </script>\n",
              "    </div>\n",
              "  </div>\n",
              "  "
            ]
          },
          "metadata": {},
          "execution_count": 8
        }
      ],
      "source": [
        "# initializing a new dataframe with only the Job_Name&Description column for faster operation\n",
        "jobs_df = df[['Occupation_Code','Job_Name&Description']]\n",
        "\n",
        "jobs_df.head(10)\n",
        "#jobs_df.sample(10, random_state = 5)"
      ]
    },
    {
      "cell_type": "code",
      "execution_count": null,
      "metadata": {
        "colab": {
          "base_uri": "https://localhost:8080/"
        },
        "id": "XrRTnj_1zRQt",
        "outputId": "b9860293-7256-4ae6-bed0-4b6b4c2d0083",
        "scrolled": true
      },
      "outputs": [
        {
          "output_type": "stream",
          "name": "stdout",
          "text": [
            "[nltk_data] Downloading package punkt to /root/nltk_data...\n",
            "[nltk_data]   Unzipping tokenizers/punkt.zip.\n",
            "[nltk_data] Downloading package averaged_perceptron_tagger to\n",
            "[nltk_data]     /root/nltk_data...\n",
            "[nltk_data]   Unzipping taggers/averaged_perceptron_tagger.zip.\n"
          ]
        }
      ],
      "source": [
        "import nltk\n",
        "nltk.download('punkt')\n",
        "nltk.download('averaged_perceptron_tagger')\n",
        "from nltk.tokenize import word_tokenize"
      ]
    },
    {
      "cell_type": "code",
      "execution_count": null,
      "metadata": {
        "colab": {
          "base_uri": "https://localhost:8080/",
          "height": 571
        },
        "id": "mSgkbDtEzRQu",
        "outputId": "26cdc92d-045b-48cf-cb70-fd9e4d818f11"
      },
      "outputs": [
        {
          "output_type": "stream",
          "name": "stderr",
          "text": [
            "/usr/local/lib/python3.7/dist-packages/ipykernel_launcher.py:3: SettingWithCopyWarning: \n",
            "A value is trying to be set on a copy of a slice from a DataFrame.\n",
            "Try using .loc[row_indexer,col_indexer] = value instead\n",
            "\n",
            "See the caveats in the documentation: https://pandas.pydata.org/pandas-docs/stable/user_guide/indexing.html#returning-a-view-versus-a-copy\n",
            "  This is separate from the ipykernel package so we can avoid doing imports until\n",
            "/usr/local/lib/python3.7/dist-packages/ipykernel_launcher.py:4: SettingWithCopyWarning: \n",
            "A value is trying to be set on a copy of a slice from a DataFrame.\n",
            "Try using .loc[row_indexer,col_indexer] = value instead\n",
            "\n",
            "See the caveats in the documentation: https://pandas.pydata.org/pandas-docs/stable/user_guide/indexing.html#returning-a-view-versus-a-copy\n",
            "  after removing the cwd from sys.path.\n"
          ]
        },
        {
          "output_type": "execute_result",
          "data": {
            "text/plain": [
              "        Occupation_Code                               Job_Name&Description\n",
              "488066           817211  pracownik fizyczny w tartaku  obróbka drewna p...\n",
              "582690           833203  kierowca ce trasa krajowa  cementonaczepa  prz...\n",
              "471607           311104  asystent geodety  praktyczna pomoc w zakresie ...\n",
              "332820           921490  pracownik porządkowy  czynności związane  utrz...\n",
              "228167           242304  nauczyciel doradztwa zawodowego  zajęcia z dor...\n",
              "532322           515303  pracownik niewykwalifikowany  pracownik niewyk...\n",
              "221280           244002  rzeczoznawca  praca na stanowisku rzeczoznawcy...\n",
              "513171           814307        krajacz  obsługa maszyn do krojenia papieru\n",
              "11711            332302  zastępca kierownika działu zaopatrzenia  ustal...\n",
              "450678           512001  kucharz  przygotowywanie posiłków dla dzieci w..."
            ],
            "text/html": [
              "\n",
              "  <div id=\"df-9e443e29-776e-46bf-8784-4def1aeee8d2\">\n",
              "    <div class=\"colab-df-container\">\n",
              "      <div>\n",
              "<style scoped>\n",
              "    .dataframe tbody tr th:only-of-type {\n",
              "        vertical-align: middle;\n",
              "    }\n",
              "\n",
              "    .dataframe tbody tr th {\n",
              "        vertical-align: top;\n",
              "    }\n",
              "\n",
              "    .dataframe thead th {\n",
              "        text-align: right;\n",
              "    }\n",
              "</style>\n",
              "<table border=\"1\" class=\"dataframe\">\n",
              "  <thead>\n",
              "    <tr style=\"text-align: right;\">\n",
              "      <th></th>\n",
              "      <th>Occupation_Code</th>\n",
              "      <th>Job_Name&amp;Description</th>\n",
              "    </tr>\n",
              "  </thead>\n",
              "  <tbody>\n",
              "    <tr>\n",
              "      <th>488066</th>\n",
              "      <td>817211</td>\n",
              "      <td>pracownik fizyczny w tartaku  obróbka drewna p...</td>\n",
              "    </tr>\n",
              "    <tr>\n",
              "      <th>582690</th>\n",
              "      <td>833203</td>\n",
              "      <td>kierowca ce trasa krajowa  cementonaczepa  prz...</td>\n",
              "    </tr>\n",
              "    <tr>\n",
              "      <th>471607</th>\n",
              "      <td>311104</td>\n",
              "      <td>asystent geodety  praktyczna pomoc w zakresie ...</td>\n",
              "    </tr>\n",
              "    <tr>\n",
              "      <th>332820</th>\n",
              "      <td>921490</td>\n",
              "      <td>pracownik porządkowy  czynności związane  utrz...</td>\n",
              "    </tr>\n",
              "    <tr>\n",
              "      <th>228167</th>\n",
              "      <td>242304</td>\n",
              "      <td>nauczyciel doradztwa zawodowego  zajęcia z dor...</td>\n",
              "    </tr>\n",
              "    <tr>\n",
              "      <th>532322</th>\n",
              "      <td>515303</td>\n",
              "      <td>pracownik niewykwalifikowany  pracownik niewyk...</td>\n",
              "    </tr>\n",
              "    <tr>\n",
              "      <th>221280</th>\n",
              "      <td>244002</td>\n",
              "      <td>rzeczoznawca  praca na stanowisku rzeczoznawcy...</td>\n",
              "    </tr>\n",
              "    <tr>\n",
              "      <th>513171</th>\n",
              "      <td>814307</td>\n",
              "      <td>krajacz  obsługa maszyn do krojenia papieru</td>\n",
              "    </tr>\n",
              "    <tr>\n",
              "      <th>11711</th>\n",
              "      <td>332302</td>\n",
              "      <td>zastępca kierownika działu zaopatrzenia  ustal...</td>\n",
              "    </tr>\n",
              "    <tr>\n",
              "      <th>450678</th>\n",
              "      <td>512001</td>\n",
              "      <td>kucharz  przygotowywanie posiłków dla dzieci w...</td>\n",
              "    </tr>\n",
              "  </tbody>\n",
              "</table>\n",
              "</div>\n",
              "      <button class=\"colab-df-convert\" onclick=\"convertToInteractive('df-9e443e29-776e-46bf-8784-4def1aeee8d2')\"\n",
              "              title=\"Convert this dataframe to an interactive table.\"\n",
              "              style=\"display:none;\">\n",
              "        \n",
              "  <svg xmlns=\"http://www.w3.org/2000/svg\" height=\"24px\"viewBox=\"0 0 24 24\"\n",
              "       width=\"24px\">\n",
              "    <path d=\"M0 0h24v24H0V0z\" fill=\"none\"/>\n",
              "    <path d=\"M18.56 5.44l.94 2.06.94-2.06 2.06-.94-2.06-.94-.94-2.06-.94 2.06-2.06.94zm-11 1L8.5 8.5l.94-2.06 2.06-.94-2.06-.94L8.5 2.5l-.94 2.06-2.06.94zm10 10l.94 2.06.94-2.06 2.06-.94-2.06-.94-.94-2.06-.94 2.06-2.06.94z\"/><path d=\"M17.41 7.96l-1.37-1.37c-.4-.4-.92-.59-1.43-.59-.52 0-1.04.2-1.43.59L10.3 9.45l-7.72 7.72c-.78.78-.78 2.05 0 2.83L4 21.41c.39.39.9.59 1.41.59.51 0 1.02-.2 1.41-.59l7.78-7.78 2.81-2.81c.8-.78.8-2.07 0-2.86zM5.41 20L4 18.59l7.72-7.72 1.47 1.35L5.41 20z\"/>\n",
              "  </svg>\n",
              "      </button>\n",
              "      \n",
              "  <style>\n",
              "    .colab-df-container {\n",
              "      display:flex;\n",
              "      flex-wrap:wrap;\n",
              "      gap: 12px;\n",
              "    }\n",
              "\n",
              "    .colab-df-convert {\n",
              "      background-color: #E8F0FE;\n",
              "      border: none;\n",
              "      border-radius: 50%;\n",
              "      cursor: pointer;\n",
              "      display: none;\n",
              "      fill: #1967D2;\n",
              "      height: 32px;\n",
              "      padding: 0 0 0 0;\n",
              "      width: 32px;\n",
              "    }\n",
              "\n",
              "    .colab-df-convert:hover {\n",
              "      background-color: #E2EBFA;\n",
              "      box-shadow: 0px 1px 2px rgba(60, 64, 67, 0.3), 0px 1px 3px 1px rgba(60, 64, 67, 0.15);\n",
              "      fill: #174EA6;\n",
              "    }\n",
              "\n",
              "    [theme=dark] .colab-df-convert {\n",
              "      background-color: #3B4455;\n",
              "      fill: #D2E3FC;\n",
              "    }\n",
              "\n",
              "    [theme=dark] .colab-df-convert:hover {\n",
              "      background-color: #434B5C;\n",
              "      box-shadow: 0px 1px 3px 1px rgba(0, 0, 0, 0.15);\n",
              "      filter: drop-shadow(0px 1px 2px rgba(0, 0, 0, 0.3));\n",
              "      fill: #FFFFFF;\n",
              "    }\n",
              "  </style>\n",
              "\n",
              "      <script>\n",
              "        const buttonEl =\n",
              "          document.querySelector('#df-9e443e29-776e-46bf-8784-4def1aeee8d2 button.colab-df-convert');\n",
              "        buttonEl.style.display =\n",
              "          google.colab.kernel.accessAllowed ? 'block' : 'none';\n",
              "\n",
              "        async function convertToInteractive(key) {\n",
              "          const element = document.querySelector('#df-9e443e29-776e-46bf-8784-4def1aeee8d2');\n",
              "          const dataTable =\n",
              "            await google.colab.kernel.invokeFunction('convertToInteractive',\n",
              "                                                     [key], {});\n",
              "          if (!dataTable) return;\n",
              "\n",
              "          const docLinkHtml = 'Like what you see? Visit the ' +\n",
              "            '<a target=\"_blank\" href=https://colab.research.google.com/notebooks/data_table.ipynb>data table notebook</a>'\n",
              "            + ' to learn more about interactive tables.';\n",
              "          element.innerHTML = '';\n",
              "          dataTable['output_type'] = 'display_data';\n",
              "          await google.colab.output.renderOutput(dataTable, element);\n",
              "          const docLink = document.createElement('div');\n",
              "          docLink.innerHTML = docLinkHtml;\n",
              "          element.appendChild(docLink);\n",
              "        }\n",
              "      </script>\n",
              "    </div>\n",
              "  </div>\n",
              "  "
            ]
          },
          "metadata": {},
          "execution_count": 10
        }
      ],
      "source": [
        "# Noise Cleaning - spacing, special characters, lowercasing\n",
        "import regex as re\n",
        "jobs_df['Job_Name&Description'] = jobs_df['Job_Name&Description'].str.lower()\n",
        "jobs_df['Job_Name&Description'] = jobs_df['Job_Name&Description'].apply(lambda x: re.sub(r'[^\\w\\d\\s\\']+', '', x))\n",
        "\n",
        "jobs_df.sample(10, random_state = 5)"
      ]
    },
    {
      "cell_type": "code",
      "execution_count": null,
      "metadata": {
        "colab": {
          "base_uri": "https://localhost:8080/"
        },
        "id": "x7nVFzsLzRQv",
        "outputId": "0a15cf35-9276-499b-a6c1-32b7887aa9f1"
      },
      "outputs": [
        {
          "output_type": "stream",
          "name": "stderr",
          "text": [
            "/usr/local/lib/python3.7/dist-packages/pandas/core/generic.py:5516: SettingWithCopyWarning: \n",
            "A value is trying to be set on a copy of a slice from a DataFrame.\n",
            "Try using .loc[row_indexer,col_indexer] = value instead\n",
            "\n",
            "See the caveats in the documentation: https://pandas.pydata.org/pandas-docs/stable/user_guide/indexing.html#returning-a-view-versus-a-copy\n",
            "  self[name] = value\n"
          ]
        }
      ],
      "source": [
        "#changing 'Occupation_Code' for string data stype\n",
        "jobs_df.Occupation_Code = jobs_df.Occupation_Code.astype(str)\n",
        "#jobs_df.sample(10)"
      ]
    },
    {
      "cell_type": "code",
      "execution_count": null,
      "metadata": {
        "colab": {
          "base_uri": "https://localhost:8080/",
          "height": 467
        },
        "id": "9dwlZ8XNzRQv",
        "outputId": "edffe3f0-5a14-4203-d4fe-3ac3fe55cf55"
      },
      "outputs": [
        {
          "output_type": "stream",
          "name": "stderr",
          "text": [
            "/usr/local/lib/python3.7/dist-packages/ipykernel_launcher.py:2: SettingWithCopyWarning: \n",
            "A value is trying to be set on a copy of a slice from a DataFrame.\n",
            "Try using .loc[row_indexer,col_indexer] = value instead\n",
            "\n",
            "See the caveats in the documentation: https://pandas.pydata.org/pandas-docs/stable/user_guide/indexing.html#returning-a-view-versus-a-copy\n",
            "  \n"
          ]
        },
        {
          "output_type": "execute_result",
          "data": {
            "text/plain": [
              "       Occupation_Code                               Job_Name&Description\n",
              "366757          514190  pomoc fryzjera  przyjmowanie klientówzapisyobs...\n",
              "24091           815301                 szwaczka maszynowa  do uzgodnienia\n",
              "667895          411090  pozostali pracownicy obsługi biurowej staż   w...\n",
              "499686          229201  fizjoterapeuta  przeprowadzanie zabiegów z zak...\n",
              "285027          325301                   optyk okularowy  optyk okularowy\n",
              "72866           711401            betoniarz r87076920918  prace budowlane\n",
              "88253           524902  doradca klienta  praca biurowa rozliczanie dok...\n",
              "265395          931301  pracownik ogólnobudowlany  remonty klatek scho...\n",
              "437344          441202  kurier  wypełnianie listów przewozowych odbier...\n",
              "659308          516490  pielęgniarz zwierząt  obsługa zwierząt laborat..."
            ],
            "text/html": [
              "\n",
              "  <div id=\"df-b90dbb48-394c-462d-aec1-3126fe78d9f3\">\n",
              "    <div class=\"colab-df-container\">\n",
              "      <div>\n",
              "<style scoped>\n",
              "    .dataframe tbody tr th:only-of-type {\n",
              "        vertical-align: middle;\n",
              "    }\n",
              "\n",
              "    .dataframe tbody tr th {\n",
              "        vertical-align: top;\n",
              "    }\n",
              "\n",
              "    .dataframe thead th {\n",
              "        text-align: right;\n",
              "    }\n",
              "</style>\n",
              "<table border=\"1\" class=\"dataframe\">\n",
              "  <thead>\n",
              "    <tr style=\"text-align: right;\">\n",
              "      <th></th>\n",
              "      <th>Occupation_Code</th>\n",
              "      <th>Job_Name&amp;Description</th>\n",
              "    </tr>\n",
              "  </thead>\n",
              "  <tbody>\n",
              "    <tr>\n",
              "      <th>366757</th>\n",
              "      <td>514190</td>\n",
              "      <td>pomoc fryzjera  przyjmowanie klientówzapisyobs...</td>\n",
              "    </tr>\n",
              "    <tr>\n",
              "      <th>24091</th>\n",
              "      <td>815301</td>\n",
              "      <td>szwaczka maszynowa  do uzgodnienia</td>\n",
              "    </tr>\n",
              "    <tr>\n",
              "      <th>667895</th>\n",
              "      <td>411090</td>\n",
              "      <td>pozostali pracownicy obsługi biurowej staż   w...</td>\n",
              "    </tr>\n",
              "    <tr>\n",
              "      <th>499686</th>\n",
              "      <td>229201</td>\n",
              "      <td>fizjoterapeuta  przeprowadzanie zabiegów z zak...</td>\n",
              "    </tr>\n",
              "    <tr>\n",
              "      <th>285027</th>\n",
              "      <td>325301</td>\n",
              "      <td>optyk okularowy  optyk okularowy</td>\n",
              "    </tr>\n",
              "    <tr>\n",
              "      <th>72866</th>\n",
              "      <td>711401</td>\n",
              "      <td>betoniarz r87076920918  prace budowlane</td>\n",
              "    </tr>\n",
              "    <tr>\n",
              "      <th>88253</th>\n",
              "      <td>524902</td>\n",
              "      <td>doradca klienta  praca biurowa rozliczanie dok...</td>\n",
              "    </tr>\n",
              "    <tr>\n",
              "      <th>265395</th>\n",
              "      <td>931301</td>\n",
              "      <td>pracownik ogólnobudowlany  remonty klatek scho...</td>\n",
              "    </tr>\n",
              "    <tr>\n",
              "      <th>437344</th>\n",
              "      <td>441202</td>\n",
              "      <td>kurier  wypełnianie listów przewozowych odbier...</td>\n",
              "    </tr>\n",
              "    <tr>\n",
              "      <th>659308</th>\n",
              "      <td>516490</td>\n",
              "      <td>pielęgniarz zwierząt  obsługa zwierząt laborat...</td>\n",
              "    </tr>\n",
              "  </tbody>\n",
              "</table>\n",
              "</div>\n",
              "      <button class=\"colab-df-convert\" onclick=\"convertToInteractive('df-b90dbb48-394c-462d-aec1-3126fe78d9f3')\"\n",
              "              title=\"Convert this dataframe to an interactive table.\"\n",
              "              style=\"display:none;\">\n",
              "        \n",
              "  <svg xmlns=\"http://www.w3.org/2000/svg\" height=\"24px\"viewBox=\"0 0 24 24\"\n",
              "       width=\"24px\">\n",
              "    <path d=\"M0 0h24v24H0V0z\" fill=\"none\"/>\n",
              "    <path d=\"M18.56 5.44l.94 2.06.94-2.06 2.06-.94-2.06-.94-.94-2.06-.94 2.06-2.06.94zm-11 1L8.5 8.5l.94-2.06 2.06-.94-2.06-.94L8.5 2.5l-.94 2.06-2.06.94zm10 10l.94 2.06.94-2.06 2.06-.94-2.06-.94-.94-2.06-.94 2.06-2.06.94z\"/><path d=\"M17.41 7.96l-1.37-1.37c-.4-.4-.92-.59-1.43-.59-.52 0-1.04.2-1.43.59L10.3 9.45l-7.72 7.72c-.78.78-.78 2.05 0 2.83L4 21.41c.39.39.9.59 1.41.59.51 0 1.02-.2 1.41-.59l7.78-7.78 2.81-2.81c.8-.78.8-2.07 0-2.86zM5.41 20L4 18.59l7.72-7.72 1.47 1.35L5.41 20z\"/>\n",
              "  </svg>\n",
              "      </button>\n",
              "      \n",
              "  <style>\n",
              "    .colab-df-container {\n",
              "      display:flex;\n",
              "      flex-wrap:wrap;\n",
              "      gap: 12px;\n",
              "    }\n",
              "\n",
              "    .colab-df-convert {\n",
              "      background-color: #E8F0FE;\n",
              "      border: none;\n",
              "      border-radius: 50%;\n",
              "      cursor: pointer;\n",
              "      display: none;\n",
              "      fill: #1967D2;\n",
              "      height: 32px;\n",
              "      padding: 0 0 0 0;\n",
              "      width: 32px;\n",
              "    }\n",
              "\n",
              "    .colab-df-convert:hover {\n",
              "      background-color: #E2EBFA;\n",
              "      box-shadow: 0px 1px 2px rgba(60, 64, 67, 0.3), 0px 1px 3px 1px rgba(60, 64, 67, 0.15);\n",
              "      fill: #174EA6;\n",
              "    }\n",
              "\n",
              "    [theme=dark] .colab-df-convert {\n",
              "      background-color: #3B4455;\n",
              "      fill: #D2E3FC;\n",
              "    }\n",
              "\n",
              "    [theme=dark] .colab-df-convert:hover {\n",
              "      background-color: #434B5C;\n",
              "      box-shadow: 0px 1px 3px 1px rgba(0, 0, 0, 0.15);\n",
              "      filter: drop-shadow(0px 1px 2px rgba(0, 0, 0, 0.3));\n",
              "      fill: #FFFFFF;\n",
              "    }\n",
              "  </style>\n",
              "\n",
              "      <script>\n",
              "        const buttonEl =\n",
              "          document.querySelector('#df-b90dbb48-394c-462d-aec1-3126fe78d9f3 button.colab-df-convert');\n",
              "        buttonEl.style.display =\n",
              "          google.colab.kernel.accessAllowed ? 'block' : 'none';\n",
              "\n",
              "        async function convertToInteractive(key) {\n",
              "          const element = document.querySelector('#df-b90dbb48-394c-462d-aec1-3126fe78d9f3');\n",
              "          const dataTable =\n",
              "            await google.colab.kernel.invokeFunction('convertToInteractive',\n",
              "                                                     [key], {});\n",
              "          if (!dataTable) return;\n",
              "\n",
              "          const docLinkHtml = 'Like what you see? Visit the ' +\n",
              "            '<a target=\"_blank\" href=https://colab.research.google.com/notebooks/data_table.ipynb>data table notebook</a>'\n",
              "            + ' to learn more about interactive tables.';\n",
              "          element.innerHTML = '';\n",
              "          dataTable['output_type'] = 'display_data';\n",
              "          await google.colab.output.renderOutput(dataTable, element);\n",
              "          const docLink = document.createElement('div');\n",
              "          docLink.innerHTML = docLinkHtml;\n",
              "          element.appendChild(docLink);\n",
              "        }\n",
              "      </script>\n",
              "    </div>\n",
              "  </div>\n",
              "  "
            ]
          },
          "metadata": {},
          "execution_count": 12
        }
      ],
      "source": [
        "#formating 'Occupation_Code' for 6-digit numbers\n",
        "jobs_df['Occupation_Code']=jobs_df['Occupation_Code'].str.pad(width=6, side='right', fillchar='0')\n",
        "jobs_df.sample(10)"
      ]
    },
    {
      "cell_type": "code",
      "execution_count": null,
      "metadata": {
        "colab": {
          "base_uri": "https://localhost:8080/",
          "height": 467
        },
        "id": "V-7lofObzRQw",
        "outputId": "5bee2731-9196-4ec7-e110-5df263b38cc0"
      },
      "outputs": [
        {
          "output_type": "stream",
          "name": "stderr",
          "text": [
            "/usr/local/lib/python3.7/dist-packages/ipykernel_launcher.py:2: SettingWithCopyWarning: \n",
            "A value is trying to be set on a copy of a slice from a DataFrame.\n",
            "Try using .loc[row_indexer,col_indexer] = value instead\n",
            "\n",
            "See the caveats in the documentation: https://pandas.pydata.org/pandas-docs/stable/user_guide/indexing.html#returning-a-view-versus-a-copy\n",
            "  \n"
          ]
        },
        {
          "output_type": "execute_result",
          "data": {
            "text/plain": [
              "       Occupation_Code                               Job_Name&Description  \\\n",
              "488066          817211  pracownik fizyczny w tartaku  obróbka drewna p...   \n",
              "582690          833203  kierowca ce trasa krajowa  cementonaczepa  prz...   \n",
              "471607          311104  asystent geodety  praktyczna pomoc w zakresie ...   \n",
              "332820          921490  pracownik porządkowy  czynności związane  utrz...   \n",
              "228167          242304  nauczyciel doradztwa zawodowego  zajęcia z dor...   \n",
              "532322          515303  pracownik niewykwalifikowany  pracownik niewyk...   \n",
              "221280          244002  rzeczoznawca  praca na stanowisku rzeczoznawcy...   \n",
              "513171          814307        krajacz  obsługa maszyn do krojenia papieru   \n",
              "11711           332302  zastępca kierownika działu zaopatrzenia  ustal...   \n",
              "450678          512001  kucharz  przygotowywanie posiłków dla dzieci w...   \n",
              "\n",
              "                           tokenized_Job_Name&Description  \n",
              "488066  [pracownik, fizyczny, w, tartaku, obróbka, dre...  \n",
              "582690  [kierowca, ce, trasa, krajowa, cementonaczepa,...  \n",
              "471607  [asystent, geodety, praktyczna, pomoc, w, zakr...  \n",
              "332820  [pracownik, porządkowy, czynności, związane, u...  \n",
              "228167  [nauczyciel, doradztwa, zawodowego, zajęcia, z...  \n",
              "532322  [pracownik, niewykwalifikowany, pracownik, nie...  \n",
              "221280  [rzeczoznawca, praca, na, stanowisku, rzeczozn...  \n",
              "513171  [krajacz, obsługa, maszyn, do, krojenia, papieru]  \n",
              "11711   [zastępca, kierownika, działu, zaopatrzenia, u...  \n",
              "450678  [kucharz, przygotowywanie, posiłków, dla, dzie...  "
            ],
            "text/html": [
              "\n",
              "  <div id=\"df-fb1ce301-033c-4866-a521-27ae630918a5\">\n",
              "    <div class=\"colab-df-container\">\n",
              "      <div>\n",
              "<style scoped>\n",
              "    .dataframe tbody tr th:only-of-type {\n",
              "        vertical-align: middle;\n",
              "    }\n",
              "\n",
              "    .dataframe tbody tr th {\n",
              "        vertical-align: top;\n",
              "    }\n",
              "\n",
              "    .dataframe thead th {\n",
              "        text-align: right;\n",
              "    }\n",
              "</style>\n",
              "<table border=\"1\" class=\"dataframe\">\n",
              "  <thead>\n",
              "    <tr style=\"text-align: right;\">\n",
              "      <th></th>\n",
              "      <th>Occupation_Code</th>\n",
              "      <th>Job_Name&amp;Description</th>\n",
              "      <th>tokenized_Job_Name&amp;Description</th>\n",
              "    </tr>\n",
              "  </thead>\n",
              "  <tbody>\n",
              "    <tr>\n",
              "      <th>488066</th>\n",
              "      <td>817211</td>\n",
              "      <td>pracownik fizyczny w tartaku  obróbka drewna p...</td>\n",
              "      <td>[pracownik, fizyczny, w, tartaku, obróbka, dre...</td>\n",
              "    </tr>\n",
              "    <tr>\n",
              "      <th>582690</th>\n",
              "      <td>833203</td>\n",
              "      <td>kierowca ce trasa krajowa  cementonaczepa  prz...</td>\n",
              "      <td>[kierowca, ce, trasa, krajowa, cementonaczepa,...</td>\n",
              "    </tr>\n",
              "    <tr>\n",
              "      <th>471607</th>\n",
              "      <td>311104</td>\n",
              "      <td>asystent geodety  praktyczna pomoc w zakresie ...</td>\n",
              "      <td>[asystent, geodety, praktyczna, pomoc, w, zakr...</td>\n",
              "    </tr>\n",
              "    <tr>\n",
              "      <th>332820</th>\n",
              "      <td>921490</td>\n",
              "      <td>pracownik porządkowy  czynności związane  utrz...</td>\n",
              "      <td>[pracownik, porządkowy, czynności, związane, u...</td>\n",
              "    </tr>\n",
              "    <tr>\n",
              "      <th>228167</th>\n",
              "      <td>242304</td>\n",
              "      <td>nauczyciel doradztwa zawodowego  zajęcia z dor...</td>\n",
              "      <td>[nauczyciel, doradztwa, zawodowego, zajęcia, z...</td>\n",
              "    </tr>\n",
              "    <tr>\n",
              "      <th>532322</th>\n",
              "      <td>515303</td>\n",
              "      <td>pracownik niewykwalifikowany  pracownik niewyk...</td>\n",
              "      <td>[pracownik, niewykwalifikowany, pracownik, nie...</td>\n",
              "    </tr>\n",
              "    <tr>\n",
              "      <th>221280</th>\n",
              "      <td>244002</td>\n",
              "      <td>rzeczoznawca  praca na stanowisku rzeczoznawcy...</td>\n",
              "      <td>[rzeczoznawca, praca, na, stanowisku, rzeczozn...</td>\n",
              "    </tr>\n",
              "    <tr>\n",
              "      <th>513171</th>\n",
              "      <td>814307</td>\n",
              "      <td>krajacz  obsługa maszyn do krojenia papieru</td>\n",
              "      <td>[krajacz, obsługa, maszyn, do, krojenia, papieru]</td>\n",
              "    </tr>\n",
              "    <tr>\n",
              "      <th>11711</th>\n",
              "      <td>332302</td>\n",
              "      <td>zastępca kierownika działu zaopatrzenia  ustal...</td>\n",
              "      <td>[zastępca, kierownika, działu, zaopatrzenia, u...</td>\n",
              "    </tr>\n",
              "    <tr>\n",
              "      <th>450678</th>\n",
              "      <td>512001</td>\n",
              "      <td>kucharz  przygotowywanie posiłków dla dzieci w...</td>\n",
              "      <td>[kucharz, przygotowywanie, posiłków, dla, dzie...</td>\n",
              "    </tr>\n",
              "  </tbody>\n",
              "</table>\n",
              "</div>\n",
              "      <button class=\"colab-df-convert\" onclick=\"convertToInteractive('df-fb1ce301-033c-4866-a521-27ae630918a5')\"\n",
              "              title=\"Convert this dataframe to an interactive table.\"\n",
              "              style=\"display:none;\">\n",
              "        \n",
              "  <svg xmlns=\"http://www.w3.org/2000/svg\" height=\"24px\"viewBox=\"0 0 24 24\"\n",
              "       width=\"24px\">\n",
              "    <path d=\"M0 0h24v24H0V0z\" fill=\"none\"/>\n",
              "    <path d=\"M18.56 5.44l.94 2.06.94-2.06 2.06-.94-2.06-.94-.94-2.06-.94 2.06-2.06.94zm-11 1L8.5 8.5l.94-2.06 2.06-.94-2.06-.94L8.5 2.5l-.94 2.06-2.06.94zm10 10l.94 2.06.94-2.06 2.06-.94-2.06-.94-.94-2.06-.94 2.06-2.06.94z\"/><path d=\"M17.41 7.96l-1.37-1.37c-.4-.4-.92-.59-1.43-.59-.52 0-1.04.2-1.43.59L10.3 9.45l-7.72 7.72c-.78.78-.78 2.05 0 2.83L4 21.41c.39.39.9.59 1.41.59.51 0 1.02-.2 1.41-.59l7.78-7.78 2.81-2.81c.8-.78.8-2.07 0-2.86zM5.41 20L4 18.59l7.72-7.72 1.47 1.35L5.41 20z\"/>\n",
              "  </svg>\n",
              "      </button>\n",
              "      \n",
              "  <style>\n",
              "    .colab-df-container {\n",
              "      display:flex;\n",
              "      flex-wrap:wrap;\n",
              "      gap: 12px;\n",
              "    }\n",
              "\n",
              "    .colab-df-convert {\n",
              "      background-color: #E8F0FE;\n",
              "      border: none;\n",
              "      border-radius: 50%;\n",
              "      cursor: pointer;\n",
              "      display: none;\n",
              "      fill: #1967D2;\n",
              "      height: 32px;\n",
              "      padding: 0 0 0 0;\n",
              "      width: 32px;\n",
              "    }\n",
              "\n",
              "    .colab-df-convert:hover {\n",
              "      background-color: #E2EBFA;\n",
              "      box-shadow: 0px 1px 2px rgba(60, 64, 67, 0.3), 0px 1px 3px 1px rgba(60, 64, 67, 0.15);\n",
              "      fill: #174EA6;\n",
              "    }\n",
              "\n",
              "    [theme=dark] .colab-df-convert {\n",
              "      background-color: #3B4455;\n",
              "      fill: #D2E3FC;\n",
              "    }\n",
              "\n",
              "    [theme=dark] .colab-df-convert:hover {\n",
              "      background-color: #434B5C;\n",
              "      box-shadow: 0px 1px 3px 1px rgba(0, 0, 0, 0.15);\n",
              "      filter: drop-shadow(0px 1px 2px rgba(0, 0, 0, 0.3));\n",
              "      fill: #FFFFFF;\n",
              "    }\n",
              "  </style>\n",
              "\n",
              "      <script>\n",
              "        const buttonEl =\n",
              "          document.querySelector('#df-fb1ce301-033c-4866-a521-27ae630918a5 button.colab-df-convert');\n",
              "        buttonEl.style.display =\n",
              "          google.colab.kernel.accessAllowed ? 'block' : 'none';\n",
              "\n",
              "        async function convertToInteractive(key) {\n",
              "          const element = document.querySelector('#df-fb1ce301-033c-4866-a521-27ae630918a5');\n",
              "          const dataTable =\n",
              "            await google.colab.kernel.invokeFunction('convertToInteractive',\n",
              "                                                     [key], {});\n",
              "          if (!dataTable) return;\n",
              "\n",
              "          const docLinkHtml = 'Like what you see? Visit the ' +\n",
              "            '<a target=\"_blank\" href=https://colab.research.google.com/notebooks/data_table.ipynb>data table notebook</a>'\n",
              "            + ' to learn more about interactive tables.';\n",
              "          element.innerHTML = '';\n",
              "          dataTable['output_type'] = 'display_data';\n",
              "          await google.colab.output.renderOutput(dataTable, element);\n",
              "          const docLink = document.createElement('div');\n",
              "          docLink.innerHTML = docLinkHtml;\n",
              "          element.appendChild(docLink);\n",
              "        }\n",
              "      </script>\n",
              "    </div>\n",
              "  </div>\n",
              "  "
            ]
          },
          "metadata": {},
          "execution_count": 13
        }
      ],
      "source": [
        "#nltk tokenization\n",
        "jobs_df['tokenized_Job_Name&Description'] = jobs_df['Job_Name&Description'].apply(word_tokenize)\n",
        "jobs_df.sample(10, random_state = 5)"
      ]
    },
    {
      "cell_type": "markdown",
      "metadata": {
        "id": "fcqmL5DRferB"
      },
      "source": [
        "Stopwords"
      ]
    },
    {
      "cell_type": "code",
      "execution_count": null,
      "metadata": {
        "colab": {
          "base_uri": "https://localhost:8080/"
        },
        "id": "65FVXh-7euoC",
        "outputId": "43cb1a93-c277-4a9c-8d98-9fe8f570499b"
      },
      "outputs": [
        {
          "output_type": "stream",
          "name": "stdout",
          "text": [
            "[nltk_data] Downloading package stopwords to /root/nltk_data...\n",
            "[nltk_data]   Unzipping corpora/stopwords.zip.\n"
          ]
        },
        {
          "output_type": "execute_result",
          "data": {
            "text/plain": [
              "True"
            ]
          },
          "metadata": {},
          "execution_count": 14
        }
      ],
      "source": [
        "import nltk\n",
        "nltk.download('stopwords')"
      ]
    },
    {
      "cell_type": "code",
      "execution_count": null,
      "metadata": {
        "colab": {
          "base_uri": "https://localhost:8080/"
        },
        "id": "V2YQXrqLfKvB",
        "outputId": "8872b9cb-a749-40b9-9758-d4013b66a12f"
      },
      "outputs": [
        {
          "output_type": "execute_result",
          "data": {
            "text/plain": [
              "['arabic',\n",
              " 'azerbaijani',\n",
              " 'bengali',\n",
              " 'danish',\n",
              " 'dutch',\n",
              " 'english',\n",
              " 'finnish',\n",
              " 'french',\n",
              " 'german',\n",
              " 'greek',\n",
              " 'hungarian',\n",
              " 'indonesian',\n",
              " 'italian',\n",
              " 'kazakh',\n",
              " 'nepali',\n",
              " 'norwegian',\n",
              " 'portuguese',\n",
              " 'romanian',\n",
              " 'russian',\n",
              " 'slovene',\n",
              " 'spanish',\n",
              " 'swedish',\n",
              " 'tajik',\n",
              " 'turkish']"
            ]
          },
          "metadata": {},
          "execution_count": 15
        }
      ],
      "source": [
        "stopwords.fileids()"
      ]
    },
    {
      "cell_type": "markdown",
      "metadata": {
        "id": "ieSrjrC-hWp8"
      },
      "source": [
        "Stopwords"
      ]
    },
    {
      "cell_type": "code",
      "execution_count": null,
      "metadata": {
        "colab": {
          "base_uri": "https://localhost:8080/",
          "height": 424
        },
        "id": "pVz6I5pQhVxo",
        "outputId": "00680f91-a46d-4cf1-f176-6301304780c5"
      },
      "outputs": [
        {
          "output_type": "execute_result",
          "data": {
            "text/plain": [
              "              a\n",
              "0           aby\n",
              "1           ach\n",
              "2           acz\n",
              "3    aczkolwiek\n",
              "4            aj\n",
              "..          ...\n",
              "344       żadna\n",
              "345       żadne\n",
              "346     żadnych\n",
              "347          że\n",
              "348        żeby\n",
              "\n",
              "[349 rows x 1 columns]"
            ],
            "text/html": [
              "\n",
              "  <div id=\"df-600b4598-67de-4758-a22a-ab6625d4513f\">\n",
              "    <div class=\"colab-df-container\">\n",
              "      <div>\n",
              "<style scoped>\n",
              "    .dataframe tbody tr th:only-of-type {\n",
              "        vertical-align: middle;\n",
              "    }\n",
              "\n",
              "    .dataframe tbody tr th {\n",
              "        vertical-align: top;\n",
              "    }\n",
              "\n",
              "    .dataframe thead th {\n",
              "        text-align: right;\n",
              "    }\n",
              "</style>\n",
              "<table border=\"1\" class=\"dataframe\">\n",
              "  <thead>\n",
              "    <tr style=\"text-align: right;\">\n",
              "      <th></th>\n",
              "      <th>a</th>\n",
              "    </tr>\n",
              "  </thead>\n",
              "  <tbody>\n",
              "    <tr>\n",
              "      <th>0</th>\n",
              "      <td>aby</td>\n",
              "    </tr>\n",
              "    <tr>\n",
              "      <th>1</th>\n",
              "      <td>ach</td>\n",
              "    </tr>\n",
              "    <tr>\n",
              "      <th>2</th>\n",
              "      <td>acz</td>\n",
              "    </tr>\n",
              "    <tr>\n",
              "      <th>3</th>\n",
              "      <td>aczkolwiek</td>\n",
              "    </tr>\n",
              "    <tr>\n",
              "      <th>4</th>\n",
              "      <td>aj</td>\n",
              "    </tr>\n",
              "    <tr>\n",
              "      <th>...</th>\n",
              "      <td>...</td>\n",
              "    </tr>\n",
              "    <tr>\n",
              "      <th>344</th>\n",
              "      <td>żadna</td>\n",
              "    </tr>\n",
              "    <tr>\n",
              "      <th>345</th>\n",
              "      <td>żadne</td>\n",
              "    </tr>\n",
              "    <tr>\n",
              "      <th>346</th>\n",
              "      <td>żadnych</td>\n",
              "    </tr>\n",
              "    <tr>\n",
              "      <th>347</th>\n",
              "      <td>że</td>\n",
              "    </tr>\n",
              "    <tr>\n",
              "      <th>348</th>\n",
              "      <td>żeby</td>\n",
              "    </tr>\n",
              "  </tbody>\n",
              "</table>\n",
              "<p>349 rows × 1 columns</p>\n",
              "</div>\n",
              "      <button class=\"colab-df-convert\" onclick=\"convertToInteractive('df-600b4598-67de-4758-a22a-ab6625d4513f')\"\n",
              "              title=\"Convert this dataframe to an interactive table.\"\n",
              "              style=\"display:none;\">\n",
              "        \n",
              "  <svg xmlns=\"http://www.w3.org/2000/svg\" height=\"24px\"viewBox=\"0 0 24 24\"\n",
              "       width=\"24px\">\n",
              "    <path d=\"M0 0h24v24H0V0z\" fill=\"none\"/>\n",
              "    <path d=\"M18.56 5.44l.94 2.06.94-2.06 2.06-.94-2.06-.94-.94-2.06-.94 2.06-2.06.94zm-11 1L8.5 8.5l.94-2.06 2.06-.94-2.06-.94L8.5 2.5l-.94 2.06-2.06.94zm10 10l.94 2.06.94-2.06 2.06-.94-2.06-.94-.94-2.06-.94 2.06-2.06.94z\"/><path d=\"M17.41 7.96l-1.37-1.37c-.4-.4-.92-.59-1.43-.59-.52 0-1.04.2-1.43.59L10.3 9.45l-7.72 7.72c-.78.78-.78 2.05 0 2.83L4 21.41c.39.39.9.59 1.41.59.51 0 1.02-.2 1.41-.59l7.78-7.78 2.81-2.81c.8-.78.8-2.07 0-2.86zM5.41 20L4 18.59l7.72-7.72 1.47 1.35L5.41 20z\"/>\n",
              "  </svg>\n",
              "      </button>\n",
              "      \n",
              "  <style>\n",
              "    .colab-df-container {\n",
              "      display:flex;\n",
              "      flex-wrap:wrap;\n",
              "      gap: 12px;\n",
              "    }\n",
              "\n",
              "    .colab-df-convert {\n",
              "      background-color: #E8F0FE;\n",
              "      border: none;\n",
              "      border-radius: 50%;\n",
              "      cursor: pointer;\n",
              "      display: none;\n",
              "      fill: #1967D2;\n",
              "      height: 32px;\n",
              "      padding: 0 0 0 0;\n",
              "      width: 32px;\n",
              "    }\n",
              "\n",
              "    .colab-df-convert:hover {\n",
              "      background-color: #E2EBFA;\n",
              "      box-shadow: 0px 1px 2px rgba(60, 64, 67, 0.3), 0px 1px 3px 1px rgba(60, 64, 67, 0.15);\n",
              "      fill: #174EA6;\n",
              "    }\n",
              "\n",
              "    [theme=dark] .colab-df-convert {\n",
              "      background-color: #3B4455;\n",
              "      fill: #D2E3FC;\n",
              "    }\n",
              "\n",
              "    [theme=dark] .colab-df-convert:hover {\n",
              "      background-color: #434B5C;\n",
              "      box-shadow: 0px 1px 3px 1px rgba(0, 0, 0, 0.15);\n",
              "      filter: drop-shadow(0px 1px 2px rgba(0, 0, 0, 0.3));\n",
              "      fill: #FFFFFF;\n",
              "    }\n",
              "  </style>\n",
              "\n",
              "      <script>\n",
              "        const buttonEl =\n",
              "          document.querySelector('#df-600b4598-67de-4758-a22a-ab6625d4513f button.colab-df-convert');\n",
              "        buttonEl.style.display =\n",
              "          google.colab.kernel.accessAllowed ? 'block' : 'none';\n",
              "\n",
              "        async function convertToInteractive(key) {\n",
              "          const element = document.querySelector('#df-600b4598-67de-4758-a22a-ab6625d4513f');\n",
              "          const dataTable =\n",
              "            await google.colab.kernel.invokeFunction('convertToInteractive',\n",
              "                                                     [key], {});\n",
              "          if (!dataTable) return;\n",
              "\n",
              "          const docLinkHtml = 'Like what you see? Visit the ' +\n",
              "            '<a target=\"_blank\" href=https://colab.research.google.com/notebooks/data_table.ipynb>data table notebook</a>'\n",
              "            + ' to learn more about interactive tables.';\n",
              "          element.innerHTML = '';\n",
              "          dataTable['output_type'] = 'display_data';\n",
              "          await google.colab.output.renderOutput(dataTable, element);\n",
              "          const docLink = document.createElement('div');\n",
              "          docLink.innerHTML = docLinkHtml;\n",
              "          element.appendChild(docLink);\n",
              "        }\n",
              "      </script>\n",
              "    </div>\n",
              "  </div>\n",
              "  "
            ]
          },
          "metadata": {},
          "execution_count": 16
        }
      ],
      "source": [
        "stop_words = pd.read_fwf('/content/drive/MyDrive/Praca_licencjacka/stopwords_pl.txt')\n",
        "stop_words"
      ]
    },
    {
      "cell_type": "code",
      "execution_count": null,
      "metadata": {
        "colab": {
          "base_uri": "https://localhost:8080/",
          "height": 684
        },
        "id": "N1yrFofSzRQx",
        "outputId": "79b29be8-44db-429b-8564-5b45dbc7b660"
      },
      "outputs": [
        {
          "output_type": "stream",
          "name": "stderr",
          "text": [
            "/usr/local/lib/python3.7/dist-packages/ipykernel_launcher.py:3: SettingWithCopyWarning: \n",
            "A value is trying to be set on a copy of a slice from a DataFrame.\n",
            "Try using .loc[row_indexer,col_indexer] = value instead\n",
            "\n",
            "See the caveats in the documentation: https://pandas.pydata.org/pandas-docs/stable/user_guide/indexing.html#returning-a-view-versus-a-copy\n",
            "  This is separate from the ipykernel package so we can avoid doing imports until\n"
          ]
        },
        {
          "output_type": "execute_result",
          "data": {
            "text/plain": [
              "       Occupation_Code                               Job_Name&Description  \\\n",
              "488066          817211  pracownik fizyczny w tartaku  obróbka drewna p...   \n",
              "582690          833203  kierowca ce trasa krajowa  cementonaczepa  prz...   \n",
              "471607          311104  asystent geodety  praktyczna pomoc w zakresie ...   \n",
              "332820          921490  pracownik porządkowy  czynności związane  utrz...   \n",
              "228167          242304  nauczyciel doradztwa zawodowego  zajęcia z dor...   \n",
              "532322          515303  pracownik niewykwalifikowany  pracownik niewyk...   \n",
              "221280          244002  rzeczoznawca  praca na stanowisku rzeczoznawcy...   \n",
              "513171          814307        krajacz  obsługa maszyn do krojenia papieru   \n",
              "11711           332302  zastępca kierownika działu zaopatrzenia  ustal...   \n",
              "450678          512001  kucharz  przygotowywanie posiłków dla dzieci w...   \n",
              "\n",
              "                           tokenized_Job_Name&Description  \\\n",
              "488066  [pracownik, fizyczny, w, tartaku, obróbka, dre...   \n",
              "582690  [kierowca, ce, trasa, krajowa, cementonaczepa,...   \n",
              "471607  [asystent, geodety, praktyczna, pomoc, w, zakr...   \n",
              "332820  [pracownik, porządkowy, czynności, związane, u...   \n",
              "228167  [nauczyciel, doradztwa, zawodowego, zajęcia, z...   \n",
              "532322  [pracownik, niewykwalifikowany, pracownik, nie...   \n",
              "221280  [rzeczoznawca, praca, na, stanowisku, rzeczozn...   \n",
              "513171  [krajacz, obsługa, maszyn, do, krojenia, papieru]   \n",
              "11711   [zastępca, kierownika, działu, zaopatrzenia, u...   \n",
              "450678  [kucharz, przygotowywanie, posiłków, dla, dzie...   \n",
              "\n",
              "                      tokenized_Job_Name&Description_join  \n",
              "488066  pracownik fizyczny w tartaku obróbka drewna pr...  \n",
              "582690  kierowca ce trasa krajowa cementonaczepa przew...  \n",
              "471607  asystent geodety praktyczna pomoc w zakresie p...  \n",
              "332820  pracownik porządkowy czynności związane utrzym...  \n",
              "228167  nauczyciel doradztwa zawodowego zajęcia z dora...  \n",
              "532322  pracownik niewykwalifikowany pracownik niewykw...  \n",
              "221280  rzeczoznawca praca na stanowisku rzeczoznawcy ...  \n",
              "513171         krajacz obsługa maszyn do krojenia papieru  \n",
              "11711   zastępca kierownika działu zaopatrzenia ustala...  \n",
              "450678  kucharz przygotowywanie posiłków dla dzieci w ...  "
            ],
            "text/html": [
              "\n",
              "  <div id=\"df-b81606de-1f7b-458c-acbf-f4e9e55e5bde\">\n",
              "    <div class=\"colab-df-container\">\n",
              "      <div>\n",
              "<style scoped>\n",
              "    .dataframe tbody tr th:only-of-type {\n",
              "        vertical-align: middle;\n",
              "    }\n",
              "\n",
              "    .dataframe tbody tr th {\n",
              "        vertical-align: top;\n",
              "    }\n",
              "\n",
              "    .dataframe thead th {\n",
              "        text-align: right;\n",
              "    }\n",
              "</style>\n",
              "<table border=\"1\" class=\"dataframe\">\n",
              "  <thead>\n",
              "    <tr style=\"text-align: right;\">\n",
              "      <th></th>\n",
              "      <th>Occupation_Code</th>\n",
              "      <th>Job_Name&amp;Description</th>\n",
              "      <th>tokenized_Job_Name&amp;Description</th>\n",
              "      <th>tokenized_Job_Name&amp;Description_join</th>\n",
              "    </tr>\n",
              "  </thead>\n",
              "  <tbody>\n",
              "    <tr>\n",
              "      <th>488066</th>\n",
              "      <td>817211</td>\n",
              "      <td>pracownik fizyczny w tartaku  obróbka drewna p...</td>\n",
              "      <td>[pracownik, fizyczny, w, tartaku, obróbka, dre...</td>\n",
              "      <td>pracownik fizyczny w tartaku obróbka drewna pr...</td>\n",
              "    </tr>\n",
              "    <tr>\n",
              "      <th>582690</th>\n",
              "      <td>833203</td>\n",
              "      <td>kierowca ce trasa krajowa  cementonaczepa  prz...</td>\n",
              "      <td>[kierowca, ce, trasa, krajowa, cementonaczepa,...</td>\n",
              "      <td>kierowca ce trasa krajowa cementonaczepa przew...</td>\n",
              "    </tr>\n",
              "    <tr>\n",
              "      <th>471607</th>\n",
              "      <td>311104</td>\n",
              "      <td>asystent geodety  praktyczna pomoc w zakresie ...</td>\n",
              "      <td>[asystent, geodety, praktyczna, pomoc, w, zakr...</td>\n",
              "      <td>asystent geodety praktyczna pomoc w zakresie p...</td>\n",
              "    </tr>\n",
              "    <tr>\n",
              "      <th>332820</th>\n",
              "      <td>921490</td>\n",
              "      <td>pracownik porządkowy  czynności związane  utrz...</td>\n",
              "      <td>[pracownik, porządkowy, czynności, związane, u...</td>\n",
              "      <td>pracownik porządkowy czynności związane utrzym...</td>\n",
              "    </tr>\n",
              "    <tr>\n",
              "      <th>228167</th>\n",
              "      <td>242304</td>\n",
              "      <td>nauczyciel doradztwa zawodowego  zajęcia z dor...</td>\n",
              "      <td>[nauczyciel, doradztwa, zawodowego, zajęcia, z...</td>\n",
              "      <td>nauczyciel doradztwa zawodowego zajęcia z dora...</td>\n",
              "    </tr>\n",
              "    <tr>\n",
              "      <th>532322</th>\n",
              "      <td>515303</td>\n",
              "      <td>pracownik niewykwalifikowany  pracownik niewyk...</td>\n",
              "      <td>[pracownik, niewykwalifikowany, pracownik, nie...</td>\n",
              "      <td>pracownik niewykwalifikowany pracownik niewykw...</td>\n",
              "    </tr>\n",
              "    <tr>\n",
              "      <th>221280</th>\n",
              "      <td>244002</td>\n",
              "      <td>rzeczoznawca  praca na stanowisku rzeczoznawcy...</td>\n",
              "      <td>[rzeczoznawca, praca, na, stanowisku, rzeczozn...</td>\n",
              "      <td>rzeczoznawca praca na stanowisku rzeczoznawcy ...</td>\n",
              "    </tr>\n",
              "    <tr>\n",
              "      <th>513171</th>\n",
              "      <td>814307</td>\n",
              "      <td>krajacz  obsługa maszyn do krojenia papieru</td>\n",
              "      <td>[krajacz, obsługa, maszyn, do, krojenia, papieru]</td>\n",
              "      <td>krajacz obsługa maszyn do krojenia papieru</td>\n",
              "    </tr>\n",
              "    <tr>\n",
              "      <th>11711</th>\n",
              "      <td>332302</td>\n",
              "      <td>zastępca kierownika działu zaopatrzenia  ustal...</td>\n",
              "      <td>[zastępca, kierownika, działu, zaopatrzenia, u...</td>\n",
              "      <td>zastępca kierownika działu zaopatrzenia ustala...</td>\n",
              "    </tr>\n",
              "    <tr>\n",
              "      <th>450678</th>\n",
              "      <td>512001</td>\n",
              "      <td>kucharz  przygotowywanie posiłków dla dzieci w...</td>\n",
              "      <td>[kucharz, przygotowywanie, posiłków, dla, dzie...</td>\n",
              "      <td>kucharz przygotowywanie posiłków dla dzieci w ...</td>\n",
              "    </tr>\n",
              "  </tbody>\n",
              "</table>\n",
              "</div>\n",
              "      <button class=\"colab-df-convert\" onclick=\"convertToInteractive('df-b81606de-1f7b-458c-acbf-f4e9e55e5bde')\"\n",
              "              title=\"Convert this dataframe to an interactive table.\"\n",
              "              style=\"display:none;\">\n",
              "        \n",
              "  <svg xmlns=\"http://www.w3.org/2000/svg\" height=\"24px\"viewBox=\"0 0 24 24\"\n",
              "       width=\"24px\">\n",
              "    <path d=\"M0 0h24v24H0V0z\" fill=\"none\"/>\n",
              "    <path d=\"M18.56 5.44l.94 2.06.94-2.06 2.06-.94-2.06-.94-.94-2.06-.94 2.06-2.06.94zm-11 1L8.5 8.5l.94-2.06 2.06-.94-2.06-.94L8.5 2.5l-.94 2.06-2.06.94zm10 10l.94 2.06.94-2.06 2.06-.94-2.06-.94-.94-2.06-.94 2.06-2.06.94z\"/><path d=\"M17.41 7.96l-1.37-1.37c-.4-.4-.92-.59-1.43-.59-.52 0-1.04.2-1.43.59L10.3 9.45l-7.72 7.72c-.78.78-.78 2.05 0 2.83L4 21.41c.39.39.9.59 1.41.59.51 0 1.02-.2 1.41-.59l7.78-7.78 2.81-2.81c.8-.78.8-2.07 0-2.86zM5.41 20L4 18.59l7.72-7.72 1.47 1.35L5.41 20z\"/>\n",
              "  </svg>\n",
              "      </button>\n",
              "      \n",
              "  <style>\n",
              "    .colab-df-container {\n",
              "      display:flex;\n",
              "      flex-wrap:wrap;\n",
              "      gap: 12px;\n",
              "    }\n",
              "\n",
              "    .colab-df-convert {\n",
              "      background-color: #E8F0FE;\n",
              "      border: none;\n",
              "      border-radius: 50%;\n",
              "      cursor: pointer;\n",
              "      display: none;\n",
              "      fill: #1967D2;\n",
              "      height: 32px;\n",
              "      padding: 0 0 0 0;\n",
              "      width: 32px;\n",
              "    }\n",
              "\n",
              "    .colab-df-convert:hover {\n",
              "      background-color: #E2EBFA;\n",
              "      box-shadow: 0px 1px 2px rgba(60, 64, 67, 0.3), 0px 1px 3px 1px rgba(60, 64, 67, 0.15);\n",
              "      fill: #174EA6;\n",
              "    }\n",
              "\n",
              "    [theme=dark] .colab-df-convert {\n",
              "      background-color: #3B4455;\n",
              "      fill: #D2E3FC;\n",
              "    }\n",
              "\n",
              "    [theme=dark] .colab-df-convert:hover {\n",
              "      background-color: #434B5C;\n",
              "      box-shadow: 0px 1px 3px 1px rgba(0, 0, 0, 0.15);\n",
              "      filter: drop-shadow(0px 1px 2px rgba(0, 0, 0, 0.3));\n",
              "      fill: #FFFFFF;\n",
              "    }\n",
              "  </style>\n",
              "\n",
              "      <script>\n",
              "        const buttonEl =\n",
              "          document.querySelector('#df-b81606de-1f7b-458c-acbf-f4e9e55e5bde button.colab-df-convert');\n",
              "        buttonEl.style.display =\n",
              "          google.colab.kernel.accessAllowed ? 'block' : 'none';\n",
              "\n",
              "        async function convertToInteractive(key) {\n",
              "          const element = document.querySelector('#df-b81606de-1f7b-458c-acbf-f4e9e55e5bde');\n",
              "          const dataTable =\n",
              "            await google.colab.kernel.invokeFunction('convertToInteractive',\n",
              "                                                     [key], {});\n",
              "          if (!dataTable) return;\n",
              "\n",
              "          const docLinkHtml = 'Like what you see? Visit the ' +\n",
              "            '<a target=\"_blank\" href=https://colab.research.google.com/notebooks/data_table.ipynb>data table notebook</a>'\n",
              "            + ' to learn more about interactive tables.';\n",
              "          element.innerHTML = '';\n",
              "          dataTable['output_type'] = 'display_data';\n",
              "          await google.colab.output.renderOutput(dataTable, element);\n",
              "          const docLink = document.createElement('div');\n",
              "          docLink.innerHTML = docLinkHtml;\n",
              "          element.appendChild(docLink);\n",
              "        }\n",
              "      </script>\n",
              "    </div>\n",
              "  </div>\n",
              "  "
            ]
          },
          "metadata": {},
          "execution_count": 17
        }
      ],
      "source": [
        "#removing stopwords\n",
        "\n",
        "jobs_df['tokenized_Job_Name&Description'] = jobs_df['tokenized_Job_Name&Description'].apply(lambda x: [word for word in x if word not in stop_words])\n",
        "jobs_df['tokenized_Job_Name&Description_join'] = [' '.join(map(str, l)) for l in jobs_df['tokenized_Job_Name&Description']]\n",
        "\n",
        "jobs_df.sample(10, random_state = 5)"
      ]
    },
    {
      "cell_type": "code",
      "execution_count": null,
      "metadata": {
        "colab": {
          "base_uri": "https://localhost:8080/",
          "height": 363
        },
        "id": "z87HOgbzzRQx",
        "outputId": "82a50cc8-ade7-44c8-fa9c-6d9f580a2f2a"
      },
      "outputs": [
        {
          "output_type": "execute_result",
          "data": {
            "text/plain": [
              "  Occupation_Code                tokenized_Job_Name&Description_join\n",
              "0          432103  magazynier paliw całokształt prac zwiazanych z...\n",
              "1          234201  nauczyciel wychowania przedszkolnego obowiązki...\n",
              "2          515303  pracownik porządkowy 12 etatu sprzątanie chodn...\n",
              "3          522301  sprzedawca obsługa klientów klientów na hali s...\n",
              "4          522301  sprzedawca obsługa klienta obsługa kasy fiskalnej\n",
              "5          522301                         sprzedawca obsługa klienta\n",
              "6          522301  sprzedawca wprowadzanie faktur dokumentów sprz...\n",
              "7          712612  monter instalacji wykonywanie wykopów pod kana...\n",
              "8          522301  sprzedawca obsługa kasy fiskalnej przyjmowanie...\n",
              "9          932908                                 pomocnik mechanika"
            ],
            "text/html": [
              "\n",
              "  <div id=\"df-c35cd8d0-41bf-4922-95f8-b77cd872f538\">\n",
              "    <div class=\"colab-df-container\">\n",
              "      <div>\n",
              "<style scoped>\n",
              "    .dataframe tbody tr th:only-of-type {\n",
              "        vertical-align: middle;\n",
              "    }\n",
              "\n",
              "    .dataframe tbody tr th {\n",
              "        vertical-align: top;\n",
              "    }\n",
              "\n",
              "    .dataframe thead th {\n",
              "        text-align: right;\n",
              "    }\n",
              "</style>\n",
              "<table border=\"1\" class=\"dataframe\">\n",
              "  <thead>\n",
              "    <tr style=\"text-align: right;\">\n",
              "      <th></th>\n",
              "      <th>Occupation_Code</th>\n",
              "      <th>tokenized_Job_Name&amp;Description_join</th>\n",
              "    </tr>\n",
              "  </thead>\n",
              "  <tbody>\n",
              "    <tr>\n",
              "      <th>0</th>\n",
              "      <td>432103</td>\n",
              "      <td>magazynier paliw całokształt prac zwiazanych z...</td>\n",
              "    </tr>\n",
              "    <tr>\n",
              "      <th>1</th>\n",
              "      <td>234201</td>\n",
              "      <td>nauczyciel wychowania przedszkolnego obowiązki...</td>\n",
              "    </tr>\n",
              "    <tr>\n",
              "      <th>2</th>\n",
              "      <td>515303</td>\n",
              "      <td>pracownik porządkowy 12 etatu sprzątanie chodn...</td>\n",
              "    </tr>\n",
              "    <tr>\n",
              "      <th>3</th>\n",
              "      <td>522301</td>\n",
              "      <td>sprzedawca obsługa klientów klientów na hali s...</td>\n",
              "    </tr>\n",
              "    <tr>\n",
              "      <th>4</th>\n",
              "      <td>522301</td>\n",
              "      <td>sprzedawca obsługa klienta obsługa kasy fiskalnej</td>\n",
              "    </tr>\n",
              "    <tr>\n",
              "      <th>5</th>\n",
              "      <td>522301</td>\n",
              "      <td>sprzedawca obsługa klienta</td>\n",
              "    </tr>\n",
              "    <tr>\n",
              "      <th>6</th>\n",
              "      <td>522301</td>\n",
              "      <td>sprzedawca wprowadzanie faktur dokumentów sprz...</td>\n",
              "    </tr>\n",
              "    <tr>\n",
              "      <th>7</th>\n",
              "      <td>712612</td>\n",
              "      <td>monter instalacji wykonywanie wykopów pod kana...</td>\n",
              "    </tr>\n",
              "    <tr>\n",
              "      <th>8</th>\n",
              "      <td>522301</td>\n",
              "      <td>sprzedawca obsługa kasy fiskalnej przyjmowanie...</td>\n",
              "    </tr>\n",
              "    <tr>\n",
              "      <th>9</th>\n",
              "      <td>932908</td>\n",
              "      <td>pomocnik mechanika</td>\n",
              "    </tr>\n",
              "  </tbody>\n",
              "</table>\n",
              "</div>\n",
              "      <button class=\"colab-df-convert\" onclick=\"convertToInteractive('df-c35cd8d0-41bf-4922-95f8-b77cd872f538')\"\n",
              "              title=\"Convert this dataframe to an interactive table.\"\n",
              "              style=\"display:none;\">\n",
              "        \n",
              "  <svg xmlns=\"http://www.w3.org/2000/svg\" height=\"24px\"viewBox=\"0 0 24 24\"\n",
              "       width=\"24px\">\n",
              "    <path d=\"M0 0h24v24H0V0z\" fill=\"none\"/>\n",
              "    <path d=\"M18.56 5.44l.94 2.06.94-2.06 2.06-.94-2.06-.94-.94-2.06-.94 2.06-2.06.94zm-11 1L8.5 8.5l.94-2.06 2.06-.94-2.06-.94L8.5 2.5l-.94 2.06-2.06.94zm10 10l.94 2.06.94-2.06 2.06-.94-2.06-.94-.94-2.06-.94 2.06-2.06.94z\"/><path d=\"M17.41 7.96l-1.37-1.37c-.4-.4-.92-.59-1.43-.59-.52 0-1.04.2-1.43.59L10.3 9.45l-7.72 7.72c-.78.78-.78 2.05 0 2.83L4 21.41c.39.39.9.59 1.41.59.51 0 1.02-.2 1.41-.59l7.78-7.78 2.81-2.81c.8-.78.8-2.07 0-2.86zM5.41 20L4 18.59l7.72-7.72 1.47 1.35L5.41 20z\"/>\n",
              "  </svg>\n",
              "      </button>\n",
              "      \n",
              "  <style>\n",
              "    .colab-df-container {\n",
              "      display:flex;\n",
              "      flex-wrap:wrap;\n",
              "      gap: 12px;\n",
              "    }\n",
              "\n",
              "    .colab-df-convert {\n",
              "      background-color: #E8F0FE;\n",
              "      border: none;\n",
              "      border-radius: 50%;\n",
              "      cursor: pointer;\n",
              "      display: none;\n",
              "      fill: #1967D2;\n",
              "      height: 32px;\n",
              "      padding: 0 0 0 0;\n",
              "      width: 32px;\n",
              "    }\n",
              "\n",
              "    .colab-df-convert:hover {\n",
              "      background-color: #E2EBFA;\n",
              "      box-shadow: 0px 1px 2px rgba(60, 64, 67, 0.3), 0px 1px 3px 1px rgba(60, 64, 67, 0.15);\n",
              "      fill: #174EA6;\n",
              "    }\n",
              "\n",
              "    [theme=dark] .colab-df-convert {\n",
              "      background-color: #3B4455;\n",
              "      fill: #D2E3FC;\n",
              "    }\n",
              "\n",
              "    [theme=dark] .colab-df-convert:hover {\n",
              "      background-color: #434B5C;\n",
              "      box-shadow: 0px 1px 3px 1px rgba(0, 0, 0, 0.15);\n",
              "      filter: drop-shadow(0px 1px 2px rgba(0, 0, 0, 0.3));\n",
              "      fill: #FFFFFF;\n",
              "    }\n",
              "  </style>\n",
              "\n",
              "      <script>\n",
              "        const buttonEl =\n",
              "          document.querySelector('#df-c35cd8d0-41bf-4922-95f8-b77cd872f538 button.colab-df-convert');\n",
              "        buttonEl.style.display =\n",
              "          google.colab.kernel.accessAllowed ? 'block' : 'none';\n",
              "\n",
              "        async function convertToInteractive(key) {\n",
              "          const element = document.querySelector('#df-c35cd8d0-41bf-4922-95f8-b77cd872f538');\n",
              "          const dataTable =\n",
              "            await google.colab.kernel.invokeFunction('convertToInteractive',\n",
              "                                                     [key], {});\n",
              "          if (!dataTable) return;\n",
              "\n",
              "          const docLinkHtml = 'Like what you see? Visit the ' +\n",
              "            '<a target=\"_blank\" href=https://colab.research.google.com/notebooks/data_table.ipynb>data table notebook</a>'\n",
              "            + ' to learn more about interactive tables.';\n",
              "          element.innerHTML = '';\n",
              "          dataTable['output_type'] = 'display_data';\n",
              "          await google.colab.output.renderOutput(dataTable, element);\n",
              "          const docLink = document.createElement('div');\n",
              "          docLink.innerHTML = docLinkHtml;\n",
              "          element.appendChild(docLink);\n",
              "        }\n",
              "      </script>\n",
              "    </div>\n",
              "  </div>\n",
              "  "
            ]
          },
          "metadata": {},
          "execution_count": 18
        }
      ],
      "source": [
        "#Clean data\n",
        "clean_df = jobs_df [['Occupation_Code','tokenized_Job_Name&Description_join']]\n",
        "clean_df.head(10)"
      ]
    },
    {
      "cell_type": "code",
      "execution_count": null,
      "metadata": {
        "colab": {
          "base_uri": "https://localhost:8080/"
        },
        "id": "rJGp08IizRQx",
        "outputId": "1117274b-398d-474e-d5c0-88dba8a9e1f4"
      },
      "outputs": [
        {
          "output_type": "execute_result",
          "data": {
            "text/plain": [
              "Occupation_Code                        0\n",
              "tokenized_Job_Name&Description_join    0\n",
              "dtype: int64"
            ]
          },
          "metadata": {},
          "execution_count": 19
        }
      ],
      "source": [
        "clean_df.isnull().sum()"
      ]
    },
    {
      "cell_type": "code",
      "execution_count": null,
      "metadata": {
        "colab": {
          "base_uri": "https://localhost:8080/",
          "height": 467
        },
        "id": "BTwFf6SZzRQy",
        "outputId": "79c0cbf5-a1d0-4f0b-c92a-5e0c06523b00"
      },
      "outputs": [
        {
          "output_type": "stream",
          "name": "stderr",
          "text": [
            "/usr/local/lib/python3.7/dist-packages/ipykernel_launcher.py:2: SettingWithCopyWarning: \n",
            "A value is trying to be set on a copy of a slice from a DataFrame.\n",
            "Try using .loc[row_indexer,col_indexer] = value instead\n",
            "\n",
            "See the caveats in the documentation: https://pandas.pydata.org/pandas-docs/stable/user_guide/indexing.html#returning-a-view-versus-a-copy\n",
            "  \n"
          ]
        },
        {
          "output_type": "execute_result",
          "data": {
            "text/plain": [
              "       Occupation_Code                tokenized_Job_Name&Description_join  \\\n",
              "488066          817211  pracownik fizyczny w tartaku obróbka drewna pr...   \n",
              "582690          833203  kierowca ce trasa krajowa cementonaczepa przew...   \n",
              "471607          311104  asystent geodety praktyczna pomoc w zakresie p...   \n",
              "332820          921490  pracownik porządkowy czynności związane utrzym...   \n",
              "228167          242304  nauczyciel doradztwa zawodowego zajęcia z dora...   \n",
              "532322          515303  pracownik niewykwalifikowany pracownik niewykw...   \n",
              "221280          244002  rzeczoznawca praca na stanowisku rzeczoznawcy ...   \n",
              "513171          814307         krajacz obsługa maszyn do krojenia papieru   \n",
              "11711           332302  zastępca kierownika działu zaopatrzenia ustala...   \n",
              "450678          512001  kucharz przygotowywanie posiłków dla dzieci w ...   \n",
              "\n",
              "       KZiS_category  \n",
              "488066             8  \n",
              "582690             8  \n",
              "471607             3  \n",
              "332820             9  \n",
              "228167             2  \n",
              "532322             5  \n",
              "221280             2  \n",
              "513171             8  \n",
              "11711              3  \n",
              "450678             5  "
            ],
            "text/html": [
              "\n",
              "  <div id=\"df-245117d5-a7bb-4c59-b850-64da3f2f017c\">\n",
              "    <div class=\"colab-df-container\">\n",
              "      <div>\n",
              "<style scoped>\n",
              "    .dataframe tbody tr th:only-of-type {\n",
              "        vertical-align: middle;\n",
              "    }\n",
              "\n",
              "    .dataframe tbody tr th {\n",
              "        vertical-align: top;\n",
              "    }\n",
              "\n",
              "    .dataframe thead th {\n",
              "        text-align: right;\n",
              "    }\n",
              "</style>\n",
              "<table border=\"1\" class=\"dataframe\">\n",
              "  <thead>\n",
              "    <tr style=\"text-align: right;\">\n",
              "      <th></th>\n",
              "      <th>Occupation_Code</th>\n",
              "      <th>tokenized_Job_Name&amp;Description_join</th>\n",
              "      <th>KZiS_category</th>\n",
              "    </tr>\n",
              "  </thead>\n",
              "  <tbody>\n",
              "    <tr>\n",
              "      <th>488066</th>\n",
              "      <td>817211</td>\n",
              "      <td>pracownik fizyczny w tartaku obróbka drewna pr...</td>\n",
              "      <td>8</td>\n",
              "    </tr>\n",
              "    <tr>\n",
              "      <th>582690</th>\n",
              "      <td>833203</td>\n",
              "      <td>kierowca ce trasa krajowa cementonaczepa przew...</td>\n",
              "      <td>8</td>\n",
              "    </tr>\n",
              "    <tr>\n",
              "      <th>471607</th>\n",
              "      <td>311104</td>\n",
              "      <td>asystent geodety praktyczna pomoc w zakresie p...</td>\n",
              "      <td>3</td>\n",
              "    </tr>\n",
              "    <tr>\n",
              "      <th>332820</th>\n",
              "      <td>921490</td>\n",
              "      <td>pracownik porządkowy czynności związane utrzym...</td>\n",
              "      <td>9</td>\n",
              "    </tr>\n",
              "    <tr>\n",
              "      <th>228167</th>\n",
              "      <td>242304</td>\n",
              "      <td>nauczyciel doradztwa zawodowego zajęcia z dora...</td>\n",
              "      <td>2</td>\n",
              "    </tr>\n",
              "    <tr>\n",
              "      <th>532322</th>\n",
              "      <td>515303</td>\n",
              "      <td>pracownik niewykwalifikowany pracownik niewykw...</td>\n",
              "      <td>5</td>\n",
              "    </tr>\n",
              "    <tr>\n",
              "      <th>221280</th>\n",
              "      <td>244002</td>\n",
              "      <td>rzeczoznawca praca na stanowisku rzeczoznawcy ...</td>\n",
              "      <td>2</td>\n",
              "    </tr>\n",
              "    <tr>\n",
              "      <th>513171</th>\n",
              "      <td>814307</td>\n",
              "      <td>krajacz obsługa maszyn do krojenia papieru</td>\n",
              "      <td>8</td>\n",
              "    </tr>\n",
              "    <tr>\n",
              "      <th>11711</th>\n",
              "      <td>332302</td>\n",
              "      <td>zastępca kierownika działu zaopatrzenia ustala...</td>\n",
              "      <td>3</td>\n",
              "    </tr>\n",
              "    <tr>\n",
              "      <th>450678</th>\n",
              "      <td>512001</td>\n",
              "      <td>kucharz przygotowywanie posiłków dla dzieci w ...</td>\n",
              "      <td>5</td>\n",
              "    </tr>\n",
              "  </tbody>\n",
              "</table>\n",
              "</div>\n",
              "      <button class=\"colab-df-convert\" onclick=\"convertToInteractive('df-245117d5-a7bb-4c59-b850-64da3f2f017c')\"\n",
              "              title=\"Convert this dataframe to an interactive table.\"\n",
              "              style=\"display:none;\">\n",
              "        \n",
              "  <svg xmlns=\"http://www.w3.org/2000/svg\" height=\"24px\"viewBox=\"0 0 24 24\"\n",
              "       width=\"24px\">\n",
              "    <path d=\"M0 0h24v24H0V0z\" fill=\"none\"/>\n",
              "    <path d=\"M18.56 5.44l.94 2.06.94-2.06 2.06-.94-2.06-.94-.94-2.06-.94 2.06-2.06.94zm-11 1L8.5 8.5l.94-2.06 2.06-.94-2.06-.94L8.5 2.5l-.94 2.06-2.06.94zm10 10l.94 2.06.94-2.06 2.06-.94-2.06-.94-.94-2.06-.94 2.06-2.06.94z\"/><path d=\"M17.41 7.96l-1.37-1.37c-.4-.4-.92-.59-1.43-.59-.52 0-1.04.2-1.43.59L10.3 9.45l-7.72 7.72c-.78.78-.78 2.05 0 2.83L4 21.41c.39.39.9.59 1.41.59.51 0 1.02-.2 1.41-.59l7.78-7.78 2.81-2.81c.8-.78.8-2.07 0-2.86zM5.41 20L4 18.59l7.72-7.72 1.47 1.35L5.41 20z\"/>\n",
              "  </svg>\n",
              "      </button>\n",
              "      \n",
              "  <style>\n",
              "    .colab-df-container {\n",
              "      display:flex;\n",
              "      flex-wrap:wrap;\n",
              "      gap: 12px;\n",
              "    }\n",
              "\n",
              "    .colab-df-convert {\n",
              "      background-color: #E8F0FE;\n",
              "      border: none;\n",
              "      border-radius: 50%;\n",
              "      cursor: pointer;\n",
              "      display: none;\n",
              "      fill: #1967D2;\n",
              "      height: 32px;\n",
              "      padding: 0 0 0 0;\n",
              "      width: 32px;\n",
              "    }\n",
              "\n",
              "    .colab-df-convert:hover {\n",
              "      background-color: #E2EBFA;\n",
              "      box-shadow: 0px 1px 2px rgba(60, 64, 67, 0.3), 0px 1px 3px 1px rgba(60, 64, 67, 0.15);\n",
              "      fill: #174EA6;\n",
              "    }\n",
              "\n",
              "    [theme=dark] .colab-df-convert {\n",
              "      background-color: #3B4455;\n",
              "      fill: #D2E3FC;\n",
              "    }\n",
              "\n",
              "    [theme=dark] .colab-df-convert:hover {\n",
              "      background-color: #434B5C;\n",
              "      box-shadow: 0px 1px 3px 1px rgba(0, 0, 0, 0.15);\n",
              "      filter: drop-shadow(0px 1px 2px rgba(0, 0, 0, 0.3));\n",
              "      fill: #FFFFFF;\n",
              "    }\n",
              "  </style>\n",
              "\n",
              "      <script>\n",
              "        const buttonEl =\n",
              "          document.querySelector('#df-245117d5-a7bb-4c59-b850-64da3f2f017c button.colab-df-convert');\n",
              "        buttonEl.style.display =\n",
              "          google.colab.kernel.accessAllowed ? 'block' : 'none';\n",
              "\n",
              "        async function convertToInteractive(key) {\n",
              "          const element = document.querySelector('#df-245117d5-a7bb-4c59-b850-64da3f2f017c');\n",
              "          const dataTable =\n",
              "            await google.colab.kernel.invokeFunction('convertToInteractive',\n",
              "                                                     [key], {});\n",
              "          if (!dataTable) return;\n",
              "\n",
              "          const docLinkHtml = 'Like what you see? Visit the ' +\n",
              "            '<a target=\"_blank\" href=https://colab.research.google.com/notebooks/data_table.ipynb>data table notebook</a>'\n",
              "            + ' to learn more about interactive tables.';\n",
              "          element.innerHTML = '';\n",
              "          dataTable['output_type'] = 'display_data';\n",
              "          await google.colab.output.renderOutput(dataTable, element);\n",
              "          const docLink = document.createElement('div');\n",
              "          docLink.innerHTML = docLinkHtml;\n",
              "          element.appendChild(docLink);\n",
              "        }\n",
              "      </script>\n",
              "    </div>\n",
              "  </div>\n",
              "  "
            ]
          },
          "metadata": {},
          "execution_count": 20
        }
      ],
      "source": [
        "#przypisanie do kat\n",
        "clean_df['KZiS_category'] = clean_df['Occupation_Code'].astype(str).str[0]\n",
        "clean_df.sample(10, random_state = 5)"
      ]
    },
    {
      "cell_type": "code",
      "execution_count": null,
      "metadata": {
        "colab": {
          "base_uri": "https://localhost:8080/"
        },
        "id": "XfnK9c1fzRQy",
        "outputId": "b9b573e2-68e6-4b83-a604-e0b5c54bc776"
      },
      "outputs": [
        {
          "output_type": "execute_result",
          "data": {
            "text/plain": [
              "5    138888\n",
              "7    134159\n",
              "9    124251\n",
              "4     77780\n",
              "8     76059\n",
              "2     75635\n",
              "3     65891\n",
              "1     11224\n",
              "6      5179\n",
              "0         2\n",
              "Name: KZiS_category, dtype: int64"
            ]
          },
          "metadata": {},
          "execution_count": 21
        }
      ],
      "source": [
        "#Ile jest rekordów w każdej kategorii\n",
        "df_count = clean_df['KZiS_category'].value_counts()\n",
        "df_count"
      ]
    },
    {
      "cell_type": "code",
      "execution_count": null,
      "metadata": {
        "id": "Z68YYjhfGokF"
      },
      "outputs": [],
      "source": []
    },
    {
      "cell_type": "code",
      "execution_count": null,
      "metadata": {
        "colab": {
          "base_uri": "https://localhost:8080/",
          "height": 206
        },
        "id": "0rLvl_e6zRQy",
        "outputId": "adc51885-74f7-423d-c055-065f8d969324"
      },
      "outputs": [
        {
          "output_type": "execute_result",
          "data": {
            "text/plain": [
              "  Occupation_Code                tokenized_Job_Name&Description_join  \\\n",
              "0          432103  magazynier paliw całokształt prac zwiazanych z...   \n",
              "1          234201  nauczyciel wychowania przedszkolnego obowiązki...   \n",
              "2          515303  pracownik porządkowy 12 etatu sprzątanie chodn...   \n",
              "3          522301  sprzedawca obsługa klientów klientów na hali s...   \n",
              "4          522301  sprzedawca obsługa klienta obsługa kasy fiskalnej   \n",
              "\n",
              "  KZiS_category  \n",
              "0             4  \n",
              "1             2  \n",
              "2             5  \n",
              "3             5  \n",
              "4             5  "
            ],
            "text/html": [
              "\n",
              "  <div id=\"df-f6538c1a-3d57-44b1-a27e-820732736251\">\n",
              "    <div class=\"colab-df-container\">\n",
              "      <div>\n",
              "<style scoped>\n",
              "    .dataframe tbody tr th:only-of-type {\n",
              "        vertical-align: middle;\n",
              "    }\n",
              "\n",
              "    .dataframe tbody tr th {\n",
              "        vertical-align: top;\n",
              "    }\n",
              "\n",
              "    .dataframe thead th {\n",
              "        text-align: right;\n",
              "    }\n",
              "</style>\n",
              "<table border=\"1\" class=\"dataframe\">\n",
              "  <thead>\n",
              "    <tr style=\"text-align: right;\">\n",
              "      <th></th>\n",
              "      <th>Occupation_Code</th>\n",
              "      <th>tokenized_Job_Name&amp;Description_join</th>\n",
              "      <th>KZiS_category</th>\n",
              "    </tr>\n",
              "  </thead>\n",
              "  <tbody>\n",
              "    <tr>\n",
              "      <th>0</th>\n",
              "      <td>432103</td>\n",
              "      <td>magazynier paliw całokształt prac zwiazanych z...</td>\n",
              "      <td>4</td>\n",
              "    </tr>\n",
              "    <tr>\n",
              "      <th>1</th>\n",
              "      <td>234201</td>\n",
              "      <td>nauczyciel wychowania przedszkolnego obowiązki...</td>\n",
              "      <td>2</td>\n",
              "    </tr>\n",
              "    <tr>\n",
              "      <th>2</th>\n",
              "      <td>515303</td>\n",
              "      <td>pracownik porządkowy 12 etatu sprzątanie chodn...</td>\n",
              "      <td>5</td>\n",
              "    </tr>\n",
              "    <tr>\n",
              "      <th>3</th>\n",
              "      <td>522301</td>\n",
              "      <td>sprzedawca obsługa klientów klientów na hali s...</td>\n",
              "      <td>5</td>\n",
              "    </tr>\n",
              "    <tr>\n",
              "      <th>4</th>\n",
              "      <td>522301</td>\n",
              "      <td>sprzedawca obsługa klienta obsługa kasy fiskalnej</td>\n",
              "      <td>5</td>\n",
              "    </tr>\n",
              "  </tbody>\n",
              "</table>\n",
              "</div>\n",
              "      <button class=\"colab-df-convert\" onclick=\"convertToInteractive('df-f6538c1a-3d57-44b1-a27e-820732736251')\"\n",
              "              title=\"Convert this dataframe to an interactive table.\"\n",
              "              style=\"display:none;\">\n",
              "        \n",
              "  <svg xmlns=\"http://www.w3.org/2000/svg\" height=\"24px\"viewBox=\"0 0 24 24\"\n",
              "       width=\"24px\">\n",
              "    <path d=\"M0 0h24v24H0V0z\" fill=\"none\"/>\n",
              "    <path d=\"M18.56 5.44l.94 2.06.94-2.06 2.06-.94-2.06-.94-.94-2.06-.94 2.06-2.06.94zm-11 1L8.5 8.5l.94-2.06 2.06-.94-2.06-.94L8.5 2.5l-.94 2.06-2.06.94zm10 10l.94 2.06.94-2.06 2.06-.94-2.06-.94-.94-2.06-.94 2.06-2.06.94z\"/><path d=\"M17.41 7.96l-1.37-1.37c-.4-.4-.92-.59-1.43-.59-.52 0-1.04.2-1.43.59L10.3 9.45l-7.72 7.72c-.78.78-.78 2.05 0 2.83L4 21.41c.39.39.9.59 1.41.59.51 0 1.02-.2 1.41-.59l7.78-7.78 2.81-2.81c.8-.78.8-2.07 0-2.86zM5.41 20L4 18.59l7.72-7.72 1.47 1.35L5.41 20z\"/>\n",
              "  </svg>\n",
              "      </button>\n",
              "      \n",
              "  <style>\n",
              "    .colab-df-container {\n",
              "      display:flex;\n",
              "      flex-wrap:wrap;\n",
              "      gap: 12px;\n",
              "    }\n",
              "\n",
              "    .colab-df-convert {\n",
              "      background-color: #E8F0FE;\n",
              "      border: none;\n",
              "      border-radius: 50%;\n",
              "      cursor: pointer;\n",
              "      display: none;\n",
              "      fill: #1967D2;\n",
              "      height: 32px;\n",
              "      padding: 0 0 0 0;\n",
              "      width: 32px;\n",
              "    }\n",
              "\n",
              "    .colab-df-convert:hover {\n",
              "      background-color: #E2EBFA;\n",
              "      box-shadow: 0px 1px 2px rgba(60, 64, 67, 0.3), 0px 1px 3px 1px rgba(60, 64, 67, 0.15);\n",
              "      fill: #174EA6;\n",
              "    }\n",
              "\n",
              "    [theme=dark] .colab-df-convert {\n",
              "      background-color: #3B4455;\n",
              "      fill: #D2E3FC;\n",
              "    }\n",
              "\n",
              "    [theme=dark] .colab-df-convert:hover {\n",
              "      background-color: #434B5C;\n",
              "      box-shadow: 0px 1px 3px 1px rgba(0, 0, 0, 0.15);\n",
              "      filter: drop-shadow(0px 1px 2px rgba(0, 0, 0, 0.3));\n",
              "      fill: #FFFFFF;\n",
              "    }\n",
              "  </style>\n",
              "\n",
              "      <script>\n",
              "        const buttonEl =\n",
              "          document.querySelector('#df-f6538c1a-3d57-44b1-a27e-820732736251 button.colab-df-convert');\n",
              "        buttonEl.style.display =\n",
              "          google.colab.kernel.accessAllowed ? 'block' : 'none';\n",
              "\n",
              "        async function convertToInteractive(key) {\n",
              "          const element = document.querySelector('#df-f6538c1a-3d57-44b1-a27e-820732736251');\n",
              "          const dataTable =\n",
              "            await google.colab.kernel.invokeFunction('convertToInteractive',\n",
              "                                                     [key], {});\n",
              "          if (!dataTable) return;\n",
              "\n",
              "          const docLinkHtml = 'Like what you see? Visit the ' +\n",
              "            '<a target=\"_blank\" href=https://colab.research.google.com/notebooks/data_table.ipynb>data table notebook</a>'\n",
              "            + ' to learn more about interactive tables.';\n",
              "          element.innerHTML = '';\n",
              "          dataTable['output_type'] = 'display_data';\n",
              "          await google.colab.output.renderOutput(dataTable, element);\n",
              "          const docLink = document.createElement('div');\n",
              "          docLink.innerHTML = docLinkHtml;\n",
              "          element.appendChild(docLink);\n",
              "        }\n",
              "      </script>\n",
              "    </div>\n",
              "  </div>\n",
              "  "
            ]
          },
          "metadata": {},
          "execution_count": 22
        }
      ],
      "source": [
        "#usuwamy wszystkie wiersze, dla których occupation code nie zaczyna się od 6 lub 10 i 0\n",
        "df=clean_df.loc[~df['Occupation_Code'].astype(str).str.startswith(('0','6', '10'))]\n",
        "df.head(5)"
      ]
    },
    {
      "cell_type": "code",
      "execution_count": null,
      "metadata": {
        "id": "ve30ZvzgzRQz"
      },
      "outputs": [],
      "source": [
        "import matplotlib.pyplot as plt\n",
        "import seaborn as sns\n",
        "\n",
        "sns.set(style=\"whitegrid\")"
      ]
    },
    {
      "cell_type": "code",
      "execution_count": null,
      "metadata": {
        "colab": {
          "base_uri": "https://localhost:8080/",
          "height": 302
        },
        "id": "gu3VguBwzRQz",
        "outputId": "73cc5af2-00a1-4e9a-912b-7940bf18789a"
      },
      "outputs": [
        {
          "output_type": "execute_result",
          "data": {
            "text/plain": [
              "<matplotlib.axes._subplots.AxesSubplot at 0x7fce6c97a510>"
            ]
          },
          "metadata": {},
          "execution_count": 24
        },
        {
          "output_type": "display_data",
          "data": {
            "text/plain": [
              "<Figure size 432x288 with 1 Axes>"
            ],
            "image/png": "[encoded data removed]"
          },
          "metadata": {}
        }
      ],
      "source": [
        "sns.countplot(x=\"KZiS_category\",data=df)"
      ]
    },
    {
      "cell_type": "code",
      "execution_count": null,
      "metadata": {
        "colab": {
          "base_uri": "https://localhost:8080/"
        },
        "id": "JPwGthAczRQz",
        "outputId": "efd71f34-0998-4ae7-f030-2cdbedeccd8c"
      },
      "outputs": [
        {
          "output_type": "stream",
          "name": "stderr",
          "text": [
            "/usr/local/lib/python3.7/dist-packages/pandas/core/frame.py:4913: SettingWithCopyWarning: \n",
            "A value is trying to be set on a copy of a slice from a DataFrame\n",
            "\n",
            "See the caveats in the documentation: https://pandas.pydata.org/pandas-docs/stable/user_guide/indexing.html#returning-a-view-versus-a-copy\n",
            "  errors=errors,\n"
          ]
        }
      ],
      "source": [
        "df.drop('Occupation_Code', axis=1, inplace=True)"
      ]
    },
    {
      "cell_type": "code",
      "execution_count": null,
      "metadata": {
        "colab": {
          "base_uri": "https://localhost:8080/",
          "height": 293
        },
        "id": "13D5BKGrzRQ0",
        "outputId": "155acb02-9d14-49b6-cb5f-90d72819b575"
      },
      "outputs": [
        {
          "output_type": "stream",
          "name": "stderr",
          "text": [
            "/usr/local/lib/python3.7/dist-packages/pandas/core/frame.py:5047: SettingWithCopyWarning: \n",
            "A value is trying to be set on a copy of a slice from a DataFrame\n",
            "\n",
            "See the caveats in the documentation: https://pandas.pydata.org/pandas-docs/stable/user_guide/indexing.html#returning-a-view-versus-a-copy\n",
            "  errors=errors,\n"
          ]
        },
        {
          "output_type": "execute_result",
          "data": {
            "text/plain": [
              "                                                text cat\n",
              "0  magazynier paliw całokształt prac zwiazanych z...   4\n",
              "1  nauczyciel wychowania przedszkolnego obowiązki...   2\n",
              "2  pracownik porządkowy 12 etatu sprzątanie chodn...   5\n",
              "3  sprzedawca obsługa klientów klientów na hali s...   5\n",
              "4  sprzedawca obsługa klienta obsługa kasy fiskalnej   5"
            ],
            "text/html": [
              "\n",
              "  <div id=\"df-48069010-3e87-4eee-91f8-bc784d2aa9e1\">\n",
              "    <div class=\"colab-df-container\">\n",
              "      <div>\n",
              "<style scoped>\n",
              "    .dataframe tbody tr th:only-of-type {\n",
              "        vertical-align: middle;\n",
              "    }\n",
              "\n",
              "    .dataframe tbody tr th {\n",
              "        vertical-align: top;\n",
              "    }\n",
              "\n",
              "    .dataframe thead th {\n",
              "        text-align: right;\n",
              "    }\n",
              "</style>\n",
              "<table border=\"1\" class=\"dataframe\">\n",
              "  <thead>\n",
              "    <tr style=\"text-align: right;\">\n",
              "      <th></th>\n",
              "      <th>text</th>\n",
              "      <th>cat</th>\n",
              "    </tr>\n",
              "  </thead>\n",
              "  <tbody>\n",
              "    <tr>\n",
              "      <th>0</th>\n",
              "      <td>magazynier paliw całokształt prac zwiazanych z...</td>\n",
              "      <td>4</td>\n",
              "    </tr>\n",
              "    <tr>\n",
              "      <th>1</th>\n",
              "      <td>nauczyciel wychowania przedszkolnego obowiązki...</td>\n",
              "      <td>2</td>\n",
              "    </tr>\n",
              "    <tr>\n",
              "      <th>2</th>\n",
              "      <td>pracownik porządkowy 12 etatu sprzątanie chodn...</td>\n",
              "      <td>5</td>\n",
              "    </tr>\n",
              "    <tr>\n",
              "      <th>3</th>\n",
              "      <td>sprzedawca obsługa klientów klientów na hali s...</td>\n",
              "      <td>5</td>\n",
              "    </tr>\n",
              "    <tr>\n",
              "      <th>4</th>\n",
              "      <td>sprzedawca obsługa klienta obsługa kasy fiskalnej</td>\n",
              "      <td>5</td>\n",
              "    </tr>\n",
              "  </tbody>\n",
              "</table>\n",
              "</div>\n",
              "      <button class=\"colab-df-convert\" onclick=\"convertToInteractive('df-48069010-3e87-4eee-91f8-bc784d2aa9e1')\"\n",
              "              title=\"Convert this dataframe to an interactive table.\"\n",
              "              style=\"display:none;\">\n",
              "        \n",
              "  <svg xmlns=\"http://www.w3.org/2000/svg\" height=\"24px\"viewBox=\"0 0 24 24\"\n",
              "       width=\"24px\">\n",
              "    <path d=\"M0 0h24v24H0V0z\" fill=\"none\"/>\n",
              "    <path d=\"M18.56 5.44l.94 2.06.94-2.06 2.06-.94-2.06-.94-.94-2.06-.94 2.06-2.06.94zm-11 1L8.5 8.5l.94-2.06 2.06-.94-2.06-.94L8.5 2.5l-.94 2.06-2.06.94zm10 10l.94 2.06.94-2.06 2.06-.94-2.06-.94-.94-2.06-.94 2.06-2.06.94z\"/><path d=\"M17.41 7.96l-1.37-1.37c-.4-.4-.92-.59-1.43-.59-.52 0-1.04.2-1.43.59L10.3 9.45l-7.72 7.72c-.78.78-.78 2.05 0 2.83L4 21.41c.39.39.9.59 1.41.59.51 0 1.02-.2 1.41-.59l7.78-7.78 2.81-2.81c.8-.78.8-2.07 0-2.86zM5.41 20L4 18.59l7.72-7.72 1.47 1.35L5.41 20z\"/>\n",
              "  </svg>\n",
              "      </button>\n",
              "      \n",
              "  <style>\n",
              "    .colab-df-container {\n",
              "      display:flex;\n",
              "      flex-wrap:wrap;\n",
              "      gap: 12px;\n",
              "    }\n",
              "\n",
              "    .colab-df-convert {\n",
              "      background-color: #E8F0FE;\n",
              "      border: none;\n",
              "      border-radius: 50%;\n",
              "      cursor: pointer;\n",
              "      display: none;\n",
              "      fill: #1967D2;\n",
              "      height: 32px;\n",
              "      padding: 0 0 0 0;\n",
              "      width: 32px;\n",
              "    }\n",
              "\n",
              "    .colab-df-convert:hover {\n",
              "      background-color: #E2EBFA;\n",
              "      box-shadow: 0px 1px 2px rgba(60, 64, 67, 0.3), 0px 1px 3px 1px rgba(60, 64, 67, 0.15);\n",
              "      fill: #174EA6;\n",
              "    }\n",
              "\n",
              "    [theme=dark] .colab-df-convert {\n",
              "      background-color: #3B4455;\n",
              "      fill: #D2E3FC;\n",
              "    }\n",
              "\n",
              "    [theme=dark] .colab-df-convert:hover {\n",
              "      background-color: #434B5C;\n",
              "      box-shadow: 0px 1px 3px 1px rgba(0, 0, 0, 0.15);\n",
              "      filter: drop-shadow(0px 1px 2px rgba(0, 0, 0, 0.3));\n",
              "      fill: #FFFFFF;\n",
              "    }\n",
              "  </style>\n",
              "\n",
              "      <script>\n",
              "        const buttonEl =\n",
              "          document.querySelector('#df-48069010-3e87-4eee-91f8-bc784d2aa9e1 button.colab-df-convert');\n",
              "        buttonEl.style.display =\n",
              "          google.colab.kernel.accessAllowed ? 'block' : 'none';\n",
              "\n",
              "        async function convertToInteractive(key) {\n",
              "          const element = document.querySelector('#df-48069010-3e87-4eee-91f8-bc784d2aa9e1');\n",
              "          const dataTable =\n",
              "            await google.colab.kernel.invokeFunction('convertToInteractive',\n",
              "                                                     [key], {});\n",
              "          if (!dataTable) return;\n",
              "\n",
              "          const docLinkHtml = 'Like what you see? Visit the ' +\n",
              "            '<a target=\"_blank\" href=https://colab.research.google.com/notebooks/data_table.ipynb>data table notebook</a>'\n",
              "            + ' to learn more about interactive tables.';\n",
              "          element.innerHTML = '';\n",
              "          dataTable['output_type'] = 'display_data';\n",
              "          await google.colab.output.renderOutput(dataTable, element);\n",
              "          const docLink = document.createElement('div');\n",
              "          docLink.innerHTML = docLinkHtml;\n",
              "          element.appendChild(docLink);\n",
              "        }\n",
              "      </script>\n",
              "    </div>\n",
              "  </div>\n",
              "  "
            ]
          },
          "metadata": {},
          "execution_count": 26
        }
      ],
      "source": [
        "df.rename(columns={'tokenized_Job_Name&Description_join':'text', 'KZiS_category':'cat'}, inplace=True)\n",
        "df.head(5)"
      ]
    },
    {
      "cell_type": "code",
      "execution_count": null,
      "metadata": {
        "colab": {
          "base_uri": "https://localhost:8080/"
        },
        "id": "Ls-_xi7zzRQ0",
        "outputId": "f0d0a1aa-b7bd-4af0-cdfc-9b157506e8bf"
      },
      "outputs": [
        {
          "output_type": "stream",
          "name": "stdout",
          "text": [
            "14212787\n"
          ]
        }
      ],
      "source": [
        "#ile słów w kolumnie text\n",
        "print(df['text'].apply(lambda x: len(x.split(' '))).sum())\n"
      ]
    },
    {
      "cell_type": "code",
      "execution_count": null,
      "metadata": {
        "colab": {
          "base_uri": "https://localhost:8080/"
        },
        "id": "_A7N7gPkzRQ0",
        "outputId": "7f5ec764-18d7-4dc0-d30d-f2e030226781"
      },
      "outputs": [
        {
          "output_type": "stream",
          "name": "stdout",
          "text": [
            "operator maszyn prawidłowe wykonywanie zadań produkcyjnych na wyznaczonym odcinku odpowiadanie za utrzymanie w ruchu maszyn i urządzeń uruchamianie maszyny za pomocą pulpitów sterujących zgodnie z obowiązującymi instrukcjami obsługi maszyn bezpośredni nadzor nad pracą maszyn wykonywanie nałożonych i wytyczonych zadań przez kierownika zmiany dbanie o powierzoną maszynę pilnowanie ciągłości wykonywanej pracy współpraca z ustawiaczami maszyn oraz innymi operatorami urządzeń współpracujących w celu zachowania ciągłości wykonywanej produkcji\n",
            "Tag: 8\n"
          ]
        }
      ],
      "source": [
        "#sprawdzenie kategorii (data exploration)\n",
        "def print_plot(index):\n",
        "    example = df[df.index == index][['text', 'cat']].values[0]\n",
        "    if len(example) > 0:\n",
        "        print(example[0])\n",
        "        print('Tag:', example[1])\n",
        "print_plot(10)"
      ]
    },
    {
      "cell_type": "code",
      "execution_count": null,
      "metadata": {
        "colab": {
          "base_uri": "https://localhost:8080/"
        },
        "id": "J4DTjI_EzRQ0",
        "outputId": "71bed499-91fd-47d9-d3d9-ac7a568c182f"
      },
      "outputs": [
        {
          "output_type": "stream",
          "name": "stdout",
          "text": [
            "nauczyciel przedszkola prowadzenie zajęć dydaktycznowychowawczych z dziećmi\n",
            "Tag: 2\n"
          ]
        }
      ],
      "source": [
        "print_plot(30)\n"
      ]
    },
    {
      "cell_type": "markdown",
      "metadata": {
        "id": "pQR5dv_lzRQ5"
      },
      "source": [
        "After splitting the data set, the next steps includes feature engineering. I will convert the text documents to a matrix of token counts (CountVectorizer), then transform a count matrix to a normalized tf-idf representation (tf-idf transformer). After that, we can train several classifiers from Scikit-Learn library"
      ]
    },
    {
      "cell_type": "code",
      "execution_count": null,
      "metadata": {
        "id": "TVWBedthzRQ5"
      },
      "outputs": [],
      "source": [
        "X = df.text\n",
        "y = df.cat\n",
        "X_train, X_test, y_train, y_test = train_test_split(X, y, test_size=0.3, random_state = 42)"
      ]
    },
    {
      "cell_type": "code",
      "execution_count": null,
      "metadata": {
        "colab": {
          "base_uri": "https://localhost:8080/"
        },
        "id": "aBiMyDEb_7Z-",
        "outputId": "a0c14171-75fa-4c6d-d2a5-ede8b024fa08"
      },
      "outputs": [
        {
          "output_type": "stream",
          "name": "stdout",
          "text": [
            "(492720,)\n",
            "(492720,)\n",
            "(211167,)\n",
            "(211167,)\n"
          ]
        }
      ],
      "source": [
        "#to know the shape of the train and test dataset.\n",
        "print(X_train.shape)\n",
        "print(y_train.shape)\n",
        "print(X_test.shape)\n",
        "print(y_test.shape)"
      ]
    },
    {
      "cell_type": "markdown",
      "metadata": {
        "id": "LZrEg6L3zRQ5"
      },
      "source": [
        "## Naive Bayes Classifier for Multinomial Models\n"
      ]
    },
    {
      "cell_type": "code",
      "execution_count": null,
      "metadata": {
        "colab": {
          "base_uri": "https://localhost:8080/"
        },
        "id": "WQu1yofOzRQ5",
        "outputId": "dfa82508-1613-44ff-92d6-95c8bce9cfa8"
      },
      "outputs": [
        {
          "output_type": "stream",
          "name": "stdout",
          "text": [
            "CPU times: user 4 µs, sys: 0 ns, total: 4 µs\n",
            "Wall time: 8.34 µs\n",
            "accuracy 0.7899529756069841\n",
            "              precision    recall  f1-score   support\n",
            "\n",
            "           1       0.91      0.04      0.08      3440\n",
            "           2       0.76      0.81      0.79     22833\n",
            "           3       0.75      0.54      0.63     19783\n",
            "           4       0.77      0.80      0.78     23197\n",
            "           5       0.82      0.87      0.85     41669\n",
            "           7       0.77      0.92      0.84     40285\n",
            "           8       0.88      0.70      0.78     22675\n",
            "           9       0.78      0.80      0.79     37285\n",
            "\n",
            "    accuracy                           0.79    211167\n",
            "   macro avg       0.81      0.68      0.69    211167\n",
            "weighted avg       0.79      0.79      0.78    211167\n",
            "\n"
          ]
        }
      ],
      "source": [
        "from sklearn.naive_bayes import MultinomialNB\n",
        "from sklearn.pipeline import Pipeline\n",
        "from sklearn.feature_extraction.text import TfidfTransformer\n",
        "\n",
        "nb = Pipeline([('vect', CountVectorizer()),\n",
        "               ('tfidf', TfidfTransformer()),\n",
        "               ('clf', MultinomialNB()),\n",
        "              ])\n",
        "nb.fit(X_train, y_train)\n",
        "\n",
        "%time\n",
        "from sklearn.metrics import classification_report\n",
        "y_pred = nb.predict(X_test)\n",
        "\n",
        "print('accuracy %s' % accuracy_score(y_pred, y_test))\n",
        "print(classification_report(y_test, y_pred))"
      ]
    },
    {
      "cell_type": "code",
      "source": [
        "np.unique(y_test), np.unique(y_pred)"
      ],
      "metadata": {
        "colab": {
          "base_uri": "https://localhost:8080/"
        },
        "id": "hIWj6CMA0RVL",
        "outputId": "dfc14803-1c6c-4031-cd25-10075c2164cf"
      },
      "execution_count": null,
      "outputs": [
        {
          "output_type": "execute_result",
          "data": {
            "text/plain": [
              "(array(['1', '2', '3', '4', '5', '7', '8', '9'], dtype=object),\n",
              " array(['1', '2', '3', '4', '5', '7', '8', '9'], dtype='<U1'))"
            ]
          },
          "metadata": {},
          "execution_count": 33
        }
      ]
    },
    {
      "cell_type": "markdown",
      "metadata": {
        "id": "u_YI22zpI4iK"
      },
      "source": []
    },
    {
      "cell_type": "code",
      "execution_count": null,
      "metadata": {
        "id": "Vj-fSZWX_X4P"
      },
      "outputs": [],
      "source": [
        "# cm = confusion_matrix(y_test, y_pred)\n",
        "# plt.figure(figsize=(8,4)) --> figsize = wielkość tabeli x,y\n",
        "# sns.heatmap(cm, annot=True)\n",
        "# plt.title('Confusion Matrix')\n",
        "# plt.ylabel('Actal Values')\n",
        "# plt.xlabel('Predicted Values')\n",
        "# plt.show()"
      ]
    },
    {
      "cell_type": "code",
      "execution_count": null,
      "metadata": {
        "colab": {
          "base_uri": "https://localhost:8080/"
        },
        "id": "7H97rMvBiQeZ",
        "outputId": "f3b39a3f-b0c8-4a61-81e1-7c60693a1c5a"
      },
      "outputs": [
        {
          "output_type": "execute_result",
          "data": {
            "text/plain": [
              "array([[  139,  1480,   750,   189,   566,   189,    12,   115],\n",
              "       [    2, 18525,  1116,  1433,  1129,   525,    13,    90],\n",
              "       [    3,  2030, 10735,  2422,  1891,  1823,   361,   518],\n",
              "       [    1,  1119,   670, 18458,  1308,   147,   493,  1001],\n",
              "       [    3,   859,   593,   484, 36277,   309,    93,  3051],\n",
              "       [    1,   130,   172,    44,   399, 36969,   529,  2041],\n",
              "       [    0,    33,   122,   342,   256,  4447, 15818,  1657],\n",
              "       [    3,    52,    81,   619,  2169,  3843,   627, 29891]])"
            ]
          },
          "metadata": {},
          "execution_count": 35
        }
      ],
      "source": [
        "from sklearn.metrics import confusion_matrix\n",
        "cm2=confusion_matrix(y_test, y_pred)\n",
        "cm2"
      ]
    },
    {
      "cell_type": "markdown",
      "metadata": {
        "id": "pj1Gda23nhVM"
      },
      "source": [
        "Confusion matrix --> contains the number of observations classified into particular classes."
      ]
    },
    {
      "cell_type": "code",
      "execution_count": null,
      "metadata": {
        "colab": {
          "base_uri": "https://localhost:8080/",
          "height": 318
        },
        "id": "6Xfm7WoxAimV",
        "outputId": "7b63ba7d-08d1-4dbf-e94c-11a0cf3fe40d"
      },
      "outputs": [
        {
          "output_type": "execute_result",
          "data": {
            "text/plain": [
              "Text(0.5, 12.5, 'Predicted Values')"
            ]
          },
          "metadata": {},
          "execution_count": 36
        },
        {
          "output_type": "display_data",
          "data": {
            "text/plain": [
              "<Figure size 432x288 with 2 Axes>"
            ],
            "image/png": "[encoded data removed]"
          },
          "metadata": {}
        }
      ],
      "source": [
        "cm = confusion_matrix(y_test, y_pred)\n",
        "\n",
        "fig, ax = plt.subplots()\n",
        "sns.heatmap(cm, annot=True, fmt='d', ax=ax, cmap=plt.cm.Blues,\n",
        "            cbar=True)\n",
        "plt.title('Confusion Matrix')\n",
        "plt.ylabel('Actual Values')\n",
        "plt.xlabel('Predicted Values')\n"
      ]
    },
    {
      "cell_type": "markdown",
      "metadata": {
        "id": "KyCilx9nkq4F"
      },
      "source": [
        "Walidacja Krzyżowa --> Cross Validation"
      ]
    },
    {
      "cell_type": "code",
      "execution_count": null,
      "metadata": {
        "colab": {
          "base_uri": "https://localhost:8080/"
        },
        "id": "WRwCLIjPkyb6",
        "outputId": "1d8fbcab-6b9c-4030-dd3c-a903039a4455"
      },
      "outputs": [
        {
          "output_type": "execute_result",
          "data": {
            "text/plain": [
              "KFold(n_splits=8, random_state=9, shuffle=True)"
            ]
          },
          "metadata": {},
          "execution_count": 37
        }
      ],
      "source": [
        "from sklearn.model_selection import KFold\n",
        "kfold = KFold(n_splits=8, random_state=9, shuffle=True)\n",
        "kfold"
      ]
    },
    {
      "cell_type": "code",
      "execution_count": null,
      "metadata": {
        "id": "40PM9KMulYfE"
      },
      "outputs": [],
      "source": [
        "from sklearn.model_selection import cross_val_score\n",
        "scores = cross_val_score(estimator=nb, X=X_test, y=y_pred, cv=kfold)"
      ]
    },
    {
      "cell_type": "code",
      "execution_count": null,
      "metadata": {
        "colab": {
          "base_uri": "https://localhost:8080/"
        },
        "id": "uUODOf_9m4I3",
        "outputId": "3ccc4637-c884-4c18-9574-b03de4403dea"
      },
      "outputs": [
        {
          "output_type": "execute_result",
          "data": {
            "text/plain": [
              "array([0.88358085, 0.88577815, 0.88441431, 0.88180027, 0.89070314,\n",
              "       0.88456584, 0.88327777, 0.88221254])"
            ]
          },
          "metadata": {},
          "execution_count": 39
        }
      ],
      "source": [
        "scores"
      ]
    },
    {
      "cell_type": "code",
      "execution_count": null,
      "metadata": {
        "colab": {
          "base_uri": "https://localhost:8080/"
        },
        "id": "yj4lxGQkm7A1",
        "outputId": "042858e5-1d85-40ab-bc9a-028078960d99"
      },
      "outputs": [
        {
          "output_type": "stream",
          "name": "stdout",
          "text": [
            "Średnia dokładność: 88.45%\n",
            "Odchylenie standardowe dokładności: 0.26%\n"
          ]
        }
      ],
      "source": [
        "print(f'Średnia dokładność: {scores.mean():.2%}')\n",
        "print(f'Odchylenie standardowe dokładności: {scores.std():.2%}')"
      ]
    },
    {
      "cell_type": "markdown",
      "metadata": {
        "id": "5t9Jn-2bnoVq"
      },
      "source": [
        "%Confusion matrix --> contains the percentage of observations classified to particular classes expressed as a percentage (number / number of all observations)."
      ]
    },
    {
      "cell_type": "code",
      "execution_count": null,
      "metadata": {
        "colab": {
          "base_uri": "https://localhost:8080/",
          "height": 318
        },
        "id": "UQN5oifFCG01",
        "outputId": "23ad68ac-00ed-4858-df8f-adb7e28f2d01"
      },
      "outputs": [
        {
          "output_type": "execute_result",
          "data": {
            "text/plain": [
              "Text(0.5, 12.5, 'Predicted Values')"
            ]
          },
          "metadata": {},
          "execution_count": 41
        },
        {
          "output_type": "display_data",
          "data": {
            "text/plain": [
              "<Figure size 432x288 with 1 Axes>"
            ],
            "image/png": "[encoded data removed]"
          },
          "metadata": {}
        }
      ],
      "source": [
        "cm_proc = confusion_matrix(y_test, y_pred)\n",
        "\n",
        "fig, ax = plt.subplots()\n",
        "sns.heatmap(cm_proc/np.sum(cm_proc, axis=1 ), annot=True, fmt='.2%', ax=ax, cmap=plt.cm.Blues,\n",
        "            cbar=False)\n",
        "plt.title('Confusion Matrix')\n",
        "plt.ylabel('Actal Values')\n",
        "plt.xlabel('Predicted Values')\n",
        "\n",
        "#fig, ax = plt.subplots(nrows=1, ncols=2)"
      ]
    },
    {
      "cell_type": "code",
      "source": [
        "cm_proc"
      ],
      "metadata": {
        "colab": {
          "base_uri": "https://localhost:8080/"
        },
        "id": "RPp2Dd3NzLws",
        "outputId": "c50b1c2b-d267-464d-9054-cefbe255c385"
      },
      "execution_count": null,
      "outputs": [
        {
          "output_type": "execute_result",
          "data": {
            "text/plain": [
              "array([[  139,  1480,   750,   189,   566,   189,    12,   115],\n",
              "       [    2, 18525,  1116,  1433,  1129,   525,    13,    90],\n",
              "       [    3,  2030, 10735,  2422,  1891,  1823,   361,   518],\n",
              "       [    1,  1119,   670, 18458,  1308,   147,   493,  1001],\n",
              "       [    3,   859,   593,   484, 36277,   309,    93,  3051],\n",
              "       [    1,   130,   172,    44,   399, 36969,   529,  2041],\n",
              "       [    0,    33,   122,   342,   256,  4447, 15818,  1657],\n",
              "       [    3,    52,    81,   619,  2169,  3843,   627, 29891]])"
            ]
          },
          "metadata": {},
          "execution_count": 42
        }
      ]
    },
    {
      "cell_type": "code",
      "source": [
        "np.unique(y_pred)\n",
        "np.unique(y_test)"
      ],
      "metadata": {
        "colab": {
          "base_uri": "https://localhost:8080/"
        },
        "id": "GY3i_irrzkmz",
        "outputId": "8b76196f-d1b6-4759-f881-ec8278fe090e"
      },
      "execution_count": null,
      "outputs": [
        {
          "output_type": "execute_result",
          "data": {
            "text/plain": [
              "array(['1', '2', '3', '4', '5', '7', '8', '9'], dtype=object)"
            ]
          },
          "metadata": {},
          "execution_count": 43
        }
      ]
    },
    {
      "cell_type": "markdown",
      "metadata": {
        "id": "dXUBb-OvzRQ5"
      },
      "source": [
        "## Linear Support Vector Machine\n",
        "Linear Support Vector Machine is widely regarded as one of the best text classification algorithms."
      ]
    },
    {
      "cell_type": "code",
      "execution_count": null,
      "metadata": {
        "colab": {
          "base_uri": "https://localhost:8080/"
        },
        "id": "57EbyB3CzRQ5",
        "outputId": "d4f9d45b-7a20-4c83-dbd6-7f64e7708c1e"
      },
      "outputs": [
        {
          "output_type": "stream",
          "name": "stdout",
          "text": [
            "CPU times: user 3 µs, sys: 0 ns, total: 3 µs\n",
            "Wall time: 5.48 µs\n",
            "accuracy 0.7945038760791222\n",
            "              precision    recall  f1-score   support\n",
            "\n",
            "           1       0.78      0.52      0.62      3440\n",
            "           2       0.79      0.80      0.79     22833\n",
            "           3       0.84      0.45      0.59     19783\n",
            "           4       0.77      0.82      0.79     23197\n",
            "           5       0.83      0.89      0.86     41669\n",
            "           7       0.76      0.88      0.81     40285\n",
            "           8       0.82      0.75      0.78     22675\n",
            "           9       0.79      0.81      0.80     37285\n",
            "\n",
            "    accuracy                           0.79    211167\n",
            "   macro avg       0.80      0.74      0.76    211167\n",
            "weighted avg       0.80      0.79      0.79    211167\n",
            "\n"
          ]
        }
      ],
      "source": [
        "from sklearn.linear_model import SGDClassifier\n",
        "\n",
        "sgd = Pipeline([('vect', CountVectorizer()),\n",
        "                ('tfidf', TfidfTransformer()),\n",
        "                ('clf', SGDClassifier(loss='hinge', penalty='l2',alpha=1e-3, random_state=42, max_iter=5, tol=None)),\n",
        "               ])\n",
        "sgd.fit(X_train, y_train)\n",
        "\n",
        "%time\n",
        "\n",
        "y_pred_svm = sgd.predict(X_test)\n",
        "\n",
        "print('accuracy %s' % accuracy_score(y_pred_svm, y_test))\n",
        "print(classification_report(y_test, y_pred_svm))"
      ]
    },
    {
      "cell_type": "code",
      "execution_count": null,
      "metadata": {
        "id": "30BYiV3TzfNh"
      },
      "outputs": [],
      "source": [
        "from sklearn.model_selection import cross_val_score\n",
        "scores_svm = cross_val_score(estimator=sgd, X=X_test, y=y_pred_svm, cv=kfold)"
      ]
    },
    {
      "cell_type": "code",
      "execution_count": null,
      "metadata": {
        "colab": {
          "base_uri": "https://localhost:8080/"
        },
        "id": "u1ga9yB8zlvZ",
        "outputId": "b4aebba8-48f6-475a-ab05-1d75a86c499d"
      },
      "outputs": [
        {
          "output_type": "execute_result",
          "data": {
            "text/plain": [
              "array([0.9292317 , 0.93074708, 0.92608729, 0.92915593, 0.92790574,\n",
              "       0.93010305, 0.92847401, 0.93135063])"
            ]
          },
          "metadata": {},
          "execution_count": 46
        }
      ],
      "source": [
        "scores_svm"
      ]
    },
    {
      "cell_type": "code",
      "execution_count": null,
      "metadata": {
        "colab": {
          "base_uri": "https://localhost:8080/"
        },
        "id": "cXS0KWOxzl1B",
        "outputId": "f7bb6e7e-beaa-4f69-86dc-d4b8a282f344"
      },
      "outputs": [
        {
          "output_type": "stream",
          "name": "stdout",
          "text": [
            "Średnia dokładność: 92.91%\n",
            "Odchylenie standardowe dokładności: 0.16%\n"
          ]
        }
      ],
      "source": [
        "print(f'Średnia dokładność: {scores_svm.mean():.2%}')\n",
        "print(f'Odchylenie standardowe dokładności: {scores_svm.std():.2%}')"
      ]
    },
    {
      "cell_type": "code",
      "execution_count": null,
      "metadata": {
        "colab": {
          "base_uri": "https://localhost:8080/",
          "height": 318
        },
        "id": "0SLpmyU3zl3s",
        "outputId": "dbce7c18-068e-44c7-d465-ebeb05476283"
      },
      "outputs": [
        {
          "output_type": "execute_result",
          "data": {
            "text/plain": [
              "Text(0.5, 12.5, 'Predicted Values')"
            ]
          },
          "metadata": {},
          "execution_count": 48
        },
        {
          "output_type": "display_data",
          "data": {
            "text/plain": [
              "<Figure size 432x288 with 2 Axes>"
            ],
            "image/png": "[encoded data removed]"
          },
          "metadata": {}
        }
      ],
      "source": [
        "cm_svm = confusion_matrix(y_test, y_pred_svm)\n",
        "\n",
        "fig, ax = plt.subplots()\n",
        "sns.heatmap(cm_svm, annot=True, fmt='d', ax=ax, cmap=plt.cm.Blues,\n",
        "            cbar=True)\n",
        "plt.title('Confusion Matrix')\n",
        "plt.ylabel('Actual Values')\n",
        "plt.xlabel('Predicted Values')"
      ]
    },
    {
      "cell_type": "code",
      "source": [
        "cm_svm_proc = confusion_matrix(y_test, y_pred_svm)\n",
        "\n",
        "fig, ax = plt.subplots()\n",
        "sns.heatmap(cm_svm_proc/np.sum(cm_svm_proc), annot=True, fmt='.2%', ax=ax, cmap=plt.cm.Blues,\n",
        "            cbar=True)\n",
        "plt.title('Confusion Matrix')\n",
        "plt.ylabel('Actual Values')\n",
        "plt.xlabel('Predicted Values')"
      ],
      "metadata": {
        "id": "ZMDC0n1CKKhg",
        "colab": {
          "base_uri": "https://localhost:8080/",
          "height": 318
        },
        "outputId": "ff94eed7-4439-467a-dbfb-b2dbd2159a0e"
      },
      "execution_count": null,
      "outputs": [
        {
          "output_type": "execute_result",
          "data": {
            "text/plain": [
              "Text(0.5, 12.5, 'Predicted Values')"
            ]
          },
          "metadata": {},
          "execution_count": 49
        },
        {
          "output_type": "display_data",
          "data": {
            "text/plain": [
              "<Figure size 432x288 with 2 Axes>"
            ],
            "image/png": "[encoded data removed]"
          },
          "metadata": {}
        }
      ]
    },
    {
      "cell_type": "markdown",
      "metadata": {
        "id": "kAVR1xVKzRQ6"
      },
      "source": [
        "## Logistic Regression\n",
        "Logistic regression can be easily generalized to multiple classes."
      ]
    },
    {
      "cell_type": "code",
      "execution_count": null,
      "metadata": {
        "colab": {
          "base_uri": "https://localhost:8080/"
        },
        "id": "5XRLTi5bzRQ6",
        "outputId": "ebd576a6-b379-4180-a170-aaa695b2a816"
      },
      "outputs": [
        {
          "output_type": "stream",
          "name": "stderr",
          "text": [
            "/usr/local/lib/python3.7/dist-packages/sklearn/linear_model/_logistic.py:818: ConvergenceWarning: lbfgs failed to converge (status=1):\n",
            "STOP: TOTAL NO. of ITERATIONS REACHED LIMIT.\n",
            "\n",
            "Increase the number of iterations (max_iter) or scale the data as shown in:\n",
            "    https://scikit-learn.org/stable/modules/preprocessing.html\n",
            "Please also refer to the documentation for alternative solver options:\n",
            "    https://scikit-learn.org/stable/modules/linear_model.html#logistic-regression\n",
            "  extra_warning_msg=_LOGISTIC_SOLVER_CONVERGENCE_MSG,\n"
          ]
        },
        {
          "output_type": "stream",
          "name": "stdout",
          "text": [
            "CPU times: user 3 µs, sys: 0 ns, total: 3 µs\n",
            "Wall time: 6.2 µs\n",
            "accuracy 0.8601722807067392\n",
            "              precision    recall  f1-score   support\n",
            "\n",
            "           1       0.77      0.77      0.77      3440\n",
            "           2       0.85      0.85      0.85     22833\n",
            "           3       0.78      0.72      0.75     19783\n",
            "           4       0.85      0.86      0.85     23197\n",
            "           5       0.91      0.91      0.91     41669\n",
            "           7       0.88      0.89      0.88     40285\n",
            "           8       0.85      0.85      0.85     22675\n",
            "           9       0.85      0.86      0.86     37285\n",
            "\n",
            "    accuracy                           0.86    211167\n",
            "   macro avg       0.84      0.84      0.84    211167\n",
            "weighted avg       0.86      0.86      0.86    211167\n",
            "\n"
          ]
        }
      ],
      "source": [
        "from sklearn.linear_model import LogisticRegression\n",
        "\n",
        "logreg = Pipeline([('vect', CountVectorizer()),\n",
        "                ('tfidf', TfidfTransformer()),\n",
        "                ('clf', LogisticRegression(n_jobs=1, C=1e5)),\n",
        "               ])\n",
        "logreg.fit(X_train, y_train)\n",
        "\n",
        "%time\n",
        "\n",
        "y_pred_logreg = logreg.predict(X_test)\n",
        "\n",
        "print('accuracy %s' % accuracy_score(y_pred_logreg, y_test))\n",
        "print(classification_report(y_test, y_pred_logreg))"
      ]
    },
    {
      "cell_type": "code",
      "execution_count": null,
      "metadata": {
        "colab": {
          "base_uri": "https://localhost:8080/",
          "height": 318
        },
        "id": "IRRNNOUQGTm-",
        "outputId": "2c5fefe1-89ae-4fe8-fd18-c42397233164"
      },
      "outputs": [
        {
          "output_type": "execute_result",
          "data": {
            "text/plain": [
              "Text(0.5, 12.5, 'Predicted Values')"
            ]
          },
          "metadata": {},
          "execution_count": 51
        },
        {
          "output_type": "display_data",
          "data": {
            "text/plain": [
              "<Figure size 432x288 with 2 Axes>"
            ],
            "image/png": "[encoded data removed]"
          },
          "metadata": {}
        }
      ],
      "source": [
        "cm_logreg = confusion_matrix(y_test, y_pred_logreg)\n",
        "\n",
        "fig, ax = plt.subplots()\n",
        "sns.heatmap(cm_logreg, annot=True, fmt='d', ax=ax, cmap=plt.cm.Blues,\n",
        "            cbar=True)\n",
        "plt.title('Confusion Matrix')\n",
        "plt.ylabel('Actal Values')\n",
        "plt.xlabel('Predicted Values')"
      ]
    },
    {
      "cell_type": "code",
      "source": [
        "cm_logreg_proc = confusion_matrix(y_test, y_pred_logreg)\n",
        "\n",
        "fig, ax = plt.subplots()\n",
        "sns.heatmap(cm_logreg_proc/np.sum(cm_logreg_proc), annot=True, fmt='.2%', ax=ax, cmap=plt.cm.Blues,\n",
        "            cbar=True)\n",
        "plt.title('Confusion Matrix')\n",
        "plt.ylabel('Actal Values')\n",
        "plt.xlabel('Predicted Values')"
      ],
      "metadata": {
        "id": "4Wc--P4MKfMf",
        "colab": {
          "base_uri": "https://localhost:8080/",
          "height": 318
        },
        "outputId": "a8188787-52b1-40d9-cae5-0b6ff4c860e7"
      },
      "execution_count": null,
      "outputs": [
        {
          "output_type": "execute_result",
          "data": {
            "text/plain": [
              "Text(0.5, 12.5, 'Predicted Values')"
            ]
          },
          "metadata": {},
          "execution_count": 52
        },
        {
          "output_type": "display_data",
          "data": {
            "text/plain": [
              "<Figure size 432x288 with 2 Axes>"
            ],
            "image/png": "[encoded data removed]"
          },
          "metadata": {}
        }
      ]
    },
    {
      "cell_type": "code",
      "execution_count": null,
      "metadata": {
        "colab": {
          "base_uri": "https://localhost:8080/"
        },
        "id": "LUoiZkrWz6Ku",
        "outputId": "49521641-f8a1-43ff-8877-f7756956b0eb"
      },
      "outputs": [
        {
          "output_type": "stream",
          "name": "stderr",
          "text": [
            "/usr/local/lib/python3.7/dist-packages/sklearn/linear_model/_logistic.py:818: ConvergenceWarning: lbfgs failed to converge (status=1):\n",
            "STOP: TOTAL NO. of ITERATIONS REACHED LIMIT.\n",
            "\n",
            "Increase the number of iterations (max_iter) or scale the data as shown in:\n",
            "    https://scikit-learn.org/stable/modules/preprocessing.html\n",
            "Please also refer to the documentation for alternative solver options:\n",
            "    https://scikit-learn.org/stable/modules/linear_model.html#logistic-regression\n",
            "  extra_warning_msg=_LOGISTIC_SOLVER_CONVERGENCE_MSG,\n",
            "/usr/local/lib/python3.7/dist-packages/sklearn/linear_model/_logistic.py:818: ConvergenceWarning: lbfgs failed to converge (status=1):\n",
            "STOP: TOTAL NO. of ITERATIONS REACHED LIMIT.\n",
            "\n",
            "Increase the number of iterations (max_iter) or scale the data as shown in:\n",
            "    https://scikit-learn.org/stable/modules/preprocessing.html\n",
            "Please also refer to the documentation for alternative solver options:\n",
            "    https://scikit-learn.org/stable/modules/linear_model.html#logistic-regression\n",
            "  extra_warning_msg=_LOGISTIC_SOLVER_CONVERGENCE_MSG,\n",
            "/usr/local/lib/python3.7/dist-packages/sklearn/linear_model/_logistic.py:818: ConvergenceWarning: lbfgs failed to converge (status=1):\n",
            "STOP: TOTAL NO. of ITERATIONS REACHED LIMIT.\n",
            "\n",
            "Increase the number of iterations (max_iter) or scale the data as shown in:\n",
            "    https://scikit-learn.org/stable/modules/preprocessing.html\n",
            "Please also refer to the documentation for alternative solver options:\n",
            "    https://scikit-learn.org/stable/modules/linear_model.html#logistic-regression\n",
            "  extra_warning_msg=_LOGISTIC_SOLVER_CONVERGENCE_MSG,\n",
            "/usr/local/lib/python3.7/dist-packages/sklearn/linear_model/_logistic.py:818: ConvergenceWarning: lbfgs failed to converge (status=1):\n",
            "STOP: TOTAL NO. of ITERATIONS REACHED LIMIT.\n",
            "\n",
            "Increase the number of iterations (max_iter) or scale the data as shown in:\n",
            "    https://scikit-learn.org/stable/modules/preprocessing.html\n",
            "Please also refer to the documentation for alternative solver options:\n",
            "    https://scikit-learn.org/stable/modules/linear_model.html#logistic-regression\n",
            "  extra_warning_msg=_LOGISTIC_SOLVER_CONVERGENCE_MSG,\n",
            "/usr/local/lib/python3.7/dist-packages/sklearn/linear_model/_logistic.py:818: ConvergenceWarning: lbfgs failed to converge (status=1):\n",
            "STOP: TOTAL NO. of ITERATIONS REACHED LIMIT.\n",
            "\n",
            "Increase the number of iterations (max_iter) or scale the data as shown in:\n",
            "    https://scikit-learn.org/stable/modules/preprocessing.html\n",
            "Please also refer to the documentation for alternative solver options:\n",
            "    https://scikit-learn.org/stable/modules/linear_model.html#logistic-regression\n",
            "  extra_warning_msg=_LOGISTIC_SOLVER_CONVERGENCE_MSG,\n",
            "/usr/local/lib/python3.7/dist-packages/sklearn/linear_model/_logistic.py:818: ConvergenceWarning: lbfgs failed to converge (status=1):\n",
            "STOP: TOTAL NO. of ITERATIONS REACHED LIMIT.\n",
            "\n",
            "Increase the number of iterations (max_iter) or scale the data as shown in:\n",
            "    https://scikit-learn.org/stable/modules/preprocessing.html\n",
            "Please also refer to the documentation for alternative solver options:\n",
            "    https://scikit-learn.org/stable/modules/linear_model.html#logistic-regression\n",
            "  extra_warning_msg=_LOGISTIC_SOLVER_CONVERGENCE_MSG,\n",
            "/usr/local/lib/python3.7/dist-packages/sklearn/linear_model/_logistic.py:818: ConvergenceWarning: lbfgs failed to converge (status=1):\n",
            "STOP: TOTAL NO. of ITERATIONS REACHED LIMIT.\n",
            "\n",
            "Increase the number of iterations (max_iter) or scale the data as shown in:\n",
            "    https://scikit-learn.org/stable/modules/preprocessing.html\n",
            "Please also refer to the documentation for alternative solver options:\n",
            "    https://scikit-learn.org/stable/modules/linear_model.html#logistic-regression\n",
            "  extra_warning_msg=_LOGISTIC_SOLVER_CONVERGENCE_MSG,\n",
            "/usr/local/lib/python3.7/dist-packages/sklearn/linear_model/_logistic.py:818: ConvergenceWarning: lbfgs failed to converge (status=1):\n",
            "STOP: TOTAL NO. of ITERATIONS REACHED LIMIT.\n",
            "\n",
            "Increase the number of iterations (max_iter) or scale the data as shown in:\n",
            "    https://scikit-learn.org/stable/modules/preprocessing.html\n",
            "Please also refer to the documentation for alternative solver options:\n",
            "    https://scikit-learn.org/stable/modules/linear_model.html#logistic-regression\n",
            "  extra_warning_msg=_LOGISTIC_SOLVER_CONVERGENCE_MSG,\n"
          ]
        }
      ],
      "source": [
        "from sklearn.model_selection import cross_val_score\n",
        "scores_logreg = cross_val_score(estimator=logreg, X=X_test, y=y_pred_logreg, cv=kfold)"
      ]
    },
    {
      "cell_type": "code",
      "execution_count": null,
      "metadata": {
        "colab": {
          "base_uri": "https://localhost:8080/"
        },
        "id": "42VN0e0Yz5sy",
        "outputId": "00fbced0-10f7-4e77-ce5e-2f5cc360327e"
      },
      "outputs": [
        {
          "output_type": "execute_result",
          "data": {
            "text/plain": [
              "array([0.95722837, 0.95586452, 0.95988028, 0.95844067, 0.95938779,\n",
              "       0.95654645, 0.95703895, 0.95662057])"
            ]
          },
          "metadata": {},
          "execution_count": 54
        }
      ],
      "source": [
        "scores_logreg"
      ]
    },
    {
      "cell_type": "code",
      "execution_count": null,
      "metadata": {
        "colab": {
          "base_uri": "https://localhost:8080/"
        },
        "id": "vLanq2v73asK",
        "outputId": "98966499-3a75-4df6-bd2a-bf1ce6534d47"
      },
      "outputs": [
        {
          "output_type": "stream",
          "name": "stdout",
          "text": [
            "Średnia dokładność: 95.76%\n",
            "Odchylenie standardowe dokładności: 0.14%\n"
          ]
        }
      ],
      "source": [
        "print(f'Średnia dokładność: {scores_logreg.mean():.2%}')\n",
        "print(f'Odchylenie standardowe dokładności: {scores_logreg.std():.2%}')"
      ]
    },
    {
      "cell_type": "code",
      "execution_count": null,
      "metadata": {
        "id": "LahgE6g9zRQ7"
      },
      "outputs": [],
      "source": [
        "from sklearn.svm import SVC\n",
        "from sklearn.naive_bayes import GaussianNB\n",
        "estimators = {\n",
        "    # 'SVC': SVC(gamma='scale'),\n",
        "    # 'GaussianNB': GaussianNB(),\n",
        "    'LogisticRegression': logreg,\n",
        "    'SGDClassifier': sgd,\n",
        "    'MultinomialNB': nb\n",
        "}"
      ]
    },
    {
      "cell_type": "code",
      "execution_count": null,
      "metadata": {
        "colab": {
          "base_uri": "https://localhost:8080/"
        },
        "id": "tQnyHRVZzRQ7",
        "outputId": "ef46a86a-1f4a-492e-d21d-b32bf8373c75"
      },
      "outputs": [
        {
          "output_type": "stream",
          "name": "stderr",
          "text": [
            "/usr/local/lib/python3.7/dist-packages/sklearn/linear_model/_logistic.py:818: ConvergenceWarning: lbfgs failed to converge (status=1):\n",
            "STOP: TOTAL NO. of ITERATIONS REACHED LIMIT.\n",
            "\n",
            "Increase the number of iterations (max_iter) or scale the data as shown in:\n",
            "    https://scikit-learn.org/stable/modules/preprocessing.html\n",
            "Please also refer to the documentation for alternative solver options:\n",
            "    https://scikit-learn.org/stable/modules/linear_model.html#logistic-regression\n",
            "  extra_warning_msg=_LOGISTIC_SOLVER_CONVERGENCE_MSG,\n",
            "/usr/local/lib/python3.7/dist-packages/sklearn/linear_model/_logistic.py:818: ConvergenceWarning: lbfgs failed to converge (status=1):\n",
            "STOP: TOTAL NO. of ITERATIONS REACHED LIMIT.\n",
            "\n",
            "Increase the number of iterations (max_iter) or scale the data as shown in:\n",
            "    https://scikit-learn.org/stable/modules/preprocessing.html\n",
            "Please also refer to the documentation for alternative solver options:\n",
            "    https://scikit-learn.org/stable/modules/linear_model.html#logistic-regression\n",
            "  extra_warning_msg=_LOGISTIC_SOLVER_CONVERGENCE_MSG,\n",
            "/usr/local/lib/python3.7/dist-packages/sklearn/linear_model/_logistic.py:818: ConvergenceWarning: lbfgs failed to converge (status=1):\n",
            "STOP: TOTAL NO. of ITERATIONS REACHED LIMIT.\n",
            "\n",
            "Increase the number of iterations (max_iter) or scale the data as shown in:\n",
            "    https://scikit-learn.org/stable/modules/preprocessing.html\n",
            "Please also refer to the documentation for alternative solver options:\n",
            "    https://scikit-learn.org/stable/modules/linear_model.html#logistic-regression\n",
            "  extra_warning_msg=_LOGISTIC_SOLVER_CONVERGENCE_MSG,\n"
          ]
        },
        {
          "output_type": "stream",
          "name": "stdout",
          "text": [
            "  LogisticRegression: Średnia dokładność=93.34%; Odchylenie standardowe dokładności= 0.10%\n",
            "       SGDClassifier: Średnia dokładność=84.48%; Odchylenie standardowe dokładności= 0.06%\n",
            "       MultinomialNB: Średnia dokładność=87.96%; Odchylenie standardowe dokładności= 0.09%\n"
          ]
        }
      ],
      "source": [
        "for estimator_name, estimator_object in estimators.items():\n",
        "  kfold = KFold(n_splits=3, random_state=11, shuffle=True)\n",
        "  scores = cross_val_score(estimator=estimator_object, X=X_test, y=y_pred, cv=kfold)\n",
        "  print(f'{estimator_name:>20}: '+\n",
        "        f'Średnia dokładność={scores.mean():.2%}; ' +\n",
        "        f'Odchylenie standardowe dokładności= {scores.std():.2%}')"
      ]
    },
    {
      "cell_type": "markdown",
      "metadata": {
        "id": "pD96TbNfoTG8"
      },
      "source": [
        "#Nowe dane\n"
      ]
    },
    {
      "cell_type": "code",
      "execution_count": null,
      "metadata": {
        "colab": {
          "base_uri": "https://localhost:8080/",
          "height": 424
        },
        "id": "z7SaZnClrGC6",
        "outputId": "24b6f159-cabd-4412-bb7d-d99cb76259a4"
      },
      "outputs": [
        {
          "output_type": "execute_result",
          "data": {
            "text/plain": [
              "       id_unit  id_oferty  id_os   class  \\\n",
              "0           44       3300      1  411090   \n",
              "1          208       3232      2  332203   \n",
              "2          368       3330      3  411090   \n",
              "3          368       3330      3  411004   \n",
              "4          505       3273      2  911290   \n",
              "...        ...        ...    ...     ...   \n",
              "10077  1390361       1944      1  911207   \n",
              "10078  1390530        680      2  912990   \n",
              "10079  1390655        402      3  912990   \n",
              "10080  1390781         51      3  912990   \n",
              "10081  1390923        422      1  911207   \n",
              "\n",
              "                                                    desc  \n",
              "0      pracownik obsługi biurowej Staż z urzędu pracy...  \n",
              "1      handlowiec pracownik biurowy Oferta pracy , pr...  \n",
              "2      pomoc biurowa Oferta pracy ,  Umowa zlecenie /...  \n",
              "3      pomoc biurowa Oferta pracy ,  Umowa zlecenie /...  \n",
              "4      sprzątaczka biurowa    INWEMER SYSTEM SPÓŁKA Z...  \n",
              "...                                                  ...  \n",
              "10077  sprzątaczka - praca dodatkowa pełny etat umowa...  \n",
              "10078  sprzątaczka, pracownik gospodarczy - warszawa ...  \n",
              "10079  sprzątaczka, pracownik gospodarczy Stała Umowa...  \n",
              "10080  praca sprzątanie sprzątaczka Stała Umowa zlece...  \n",
              "10081  sprzątacz pełny etat / część etatu umowa o pra...  \n",
              "\n",
              "[10082 rows x 5 columns]"
            ],
            "text/html": [
              "\n",
              "  <div id=\"df-b647846d-8cb0-4cea-b026-1f638e467706\">\n",
              "    <div class=\"colab-df-container\">\n",
              "      <div>\n",
              "<style scoped>\n",
              "    .dataframe tbody tr th:only-of-type {\n",
              "        vertical-align: middle;\n",
              "    }\n",
              "\n",
              "    .dataframe tbody tr th {\n",
              "        vertical-align: top;\n",
              "    }\n",
              "\n",
              "    .dataframe thead th {\n",
              "        text-align: right;\n",
              "    }\n",
              "</style>\n",
              "<table border=\"1\" class=\"dataframe\">\n",
              "  <thead>\n",
              "    <tr style=\"text-align: right;\">\n",
              "      <th></th>\n",
              "      <th>id_unit</th>\n",
              "      <th>id_oferty</th>\n",
              "      <th>id_os</th>\n",
              "      <th>class</th>\n",
              "      <th>desc</th>\n",
              "    </tr>\n",
              "  </thead>\n",
              "  <tbody>\n",
              "    <tr>\n",
              "      <th>0</th>\n",
              "      <td>44</td>\n",
              "      <td>3300</td>\n",
              "      <td>1</td>\n",
              "      <td>411090</td>\n",
              "      <td>pracownik obsługi biurowej Staż z urzędu pracy...</td>\n",
              "    </tr>\n",
              "    <tr>\n",
              "      <th>1</th>\n",
              "      <td>208</td>\n",
              "      <td>3232</td>\n",
              "      <td>2</td>\n",
              "      <td>332203</td>\n",
              "      <td>handlowiec pracownik biurowy Oferta pracy , pr...</td>\n",
              "    </tr>\n",
              "    <tr>\n",
              "      <th>2</th>\n",
              "      <td>368</td>\n",
              "      <td>3330</td>\n",
              "      <td>3</td>\n",
              "      <td>411090</td>\n",
              "      <td>pomoc biurowa Oferta pracy ,  Umowa zlecenie /...</td>\n",
              "    </tr>\n",
              "    <tr>\n",
              "      <th>3</th>\n",
              "      <td>368</td>\n",
              "      <td>3330</td>\n",
              "      <td>3</td>\n",
              "      <td>411004</td>\n",
              "      <td>pomoc biurowa Oferta pracy ,  Umowa zlecenie /...</td>\n",
              "    </tr>\n",
              "    <tr>\n",
              "      <th>4</th>\n",
              "      <td>505</td>\n",
              "      <td>3273</td>\n",
              "      <td>2</td>\n",
              "      <td>911290</td>\n",
              "      <td>sprzątaczka biurowa    INWEMER SYSTEM SPÓŁKA Z...</td>\n",
              "    </tr>\n",
              "    <tr>\n",
              "      <th>...</th>\n",
              "      <td>...</td>\n",
              "      <td>...</td>\n",
              "      <td>...</td>\n",
              "      <td>...</td>\n",
              "      <td>...</td>\n",
              "    </tr>\n",
              "    <tr>\n",
              "      <th>10077</th>\n",
              "      <td>1390361</td>\n",
              "      <td>1944</td>\n",
              "      <td>1</td>\n",
              "      <td>911207</td>\n",
              "      <td>sprzątaczka - praca dodatkowa pełny etat umowa...</td>\n",
              "    </tr>\n",
              "    <tr>\n",
              "      <th>10078</th>\n",
              "      <td>1390530</td>\n",
              "      <td>680</td>\n",
              "      <td>2</td>\n",
              "      <td>912990</td>\n",
              "      <td>sprzątaczka, pracownik gospodarczy - warszawa ...</td>\n",
              "    </tr>\n",
              "    <tr>\n",
              "      <th>10079</th>\n",
              "      <td>1390655</td>\n",
              "      <td>402</td>\n",
              "      <td>3</td>\n",
              "      <td>912990</td>\n",
              "      <td>sprzątaczka, pracownik gospodarczy Stała Umowa...</td>\n",
              "    </tr>\n",
              "    <tr>\n",
              "      <th>10080</th>\n",
              "      <td>1390781</td>\n",
              "      <td>51</td>\n",
              "      <td>3</td>\n",
              "      <td>912990</td>\n",
              "      <td>praca sprzątanie sprzątaczka Stała Umowa zlece...</td>\n",
              "    </tr>\n",
              "    <tr>\n",
              "      <th>10081</th>\n",
              "      <td>1390923</td>\n",
              "      <td>422</td>\n",
              "      <td>1</td>\n",
              "      <td>911207</td>\n",
              "      <td>sprzątacz pełny etat / część etatu umowa o pra...</td>\n",
              "    </tr>\n",
              "  </tbody>\n",
              "</table>\n",
              "<p>10082 rows × 5 columns</p>\n",
              "</div>\n",
              "      <button class=\"colab-df-convert\" onclick=\"convertToInteractive('df-b647846d-8cb0-4cea-b026-1f638e467706')\"\n",
              "              title=\"Convert this dataframe to an interactive table.\"\n",
              "              style=\"display:none;\">\n",
              "        \n",
              "  <svg xmlns=\"http://www.w3.org/2000/svg\" height=\"24px\"viewBox=\"0 0 24 24\"\n",
              "       width=\"24px\">\n",
              "    <path d=\"M0 0h24v24H0V0z\" fill=\"none\"/>\n",
              "    <path d=\"M18.56 5.44l.94 2.06.94-2.06 2.06-.94-2.06-.94-.94-2.06-.94 2.06-2.06.94zm-11 1L8.5 8.5l.94-2.06 2.06-.94-2.06-.94L8.5 2.5l-.94 2.06-2.06.94zm10 10l.94 2.06.94-2.06 2.06-.94-2.06-.94-.94-2.06-.94 2.06-2.06.94z\"/><path d=\"M17.41 7.96l-1.37-1.37c-.4-.4-.92-.59-1.43-.59-.52 0-1.04.2-1.43.59L10.3 9.45l-7.72 7.72c-.78.78-.78 2.05 0 2.83L4 21.41c.39.39.9.59 1.41.59.51 0 1.02-.2 1.41-.59l7.78-7.78 2.81-2.81c.8-.78.8-2.07 0-2.86zM5.41 20L4 18.59l7.72-7.72 1.47 1.35L5.41 20z\"/>\n",
              "  </svg>\n",
              "      </button>\n",
              "      \n",
              "  <style>\n",
              "    .colab-df-container {\n",
              "      display:flex;\n",
              "      flex-wrap:wrap;\n",
              "      gap: 12px;\n",
              "    }\n",
              "\n",
              "    .colab-df-convert {\n",
              "      background-color: #E8F0FE;\n",
              "      border: none;\n",
              "      border-radius: 50%;\n",
              "      cursor: pointer;\n",
              "      display: none;\n",
              "      fill: #1967D2;\n",
              "      height: 32px;\n",
              "      padding: 0 0 0 0;\n",
              "      width: 32px;\n",
              "    }\n",
              "\n",
              "    .colab-df-convert:hover {\n",
              "      background-color: #E2EBFA;\n",
              "      box-shadow: 0px 1px 2px rgba(60, 64, 67, 0.3), 0px 1px 3px 1px rgba(60, 64, 67, 0.15);\n",
              "      fill: #174EA6;\n",
              "    }\n",
              "\n",
              "    [theme=dark] .colab-df-convert {\n",
              "      background-color: #3B4455;\n",
              "      fill: #D2E3FC;\n",
              "    }\n",
              "\n",
              "    [theme=dark] .colab-df-convert:hover {\n",
              "      background-color: #434B5C;\n",
              "      box-shadow: 0px 1px 3px 1px rgba(0, 0, 0, 0.15);\n",
              "      filter: drop-shadow(0px 1px 2px rgba(0, 0, 0, 0.3));\n",
              "      fill: #FFFFFF;\n",
              "    }\n",
              "  </style>\n",
              "\n",
              "      <script>\n",
              "        const buttonEl =\n",
              "          document.querySelector('#df-b647846d-8cb0-4cea-b026-1f638e467706 button.colab-df-convert');\n",
              "        buttonEl.style.display =\n",
              "          google.colab.kernel.accessAllowed ? 'block' : 'none';\n",
              "\n",
              "        async function convertToInteractive(key) {\n",
              "          const element = document.querySelector('#df-b647846d-8cb0-4cea-b026-1f638e467706');\n",
              "          const dataTable =\n",
              "            await google.colab.kernel.invokeFunction('convertToInteractive',\n",
              "                                                     [key], {});\n",
              "          if (!dataTable) return;\n",
              "\n",
              "          const docLinkHtml = 'Like what you see? Visit the ' +\n",
              "            '<a target=\"_blank\" href=https://colab.research.google.com/notebooks/data_table.ipynb>data table notebook</a>'\n",
              "            + ' to learn more about interactive tables.';\n",
              "          element.innerHTML = '';\n",
              "          dataTable['output_type'] = 'display_data';\n",
              "          await google.colab.output.renderOutput(dataTable, element);\n",
              "          const docLink = document.createElement('div');\n",
              "          docLink.innerHTML = docLinkHtml;\n",
              "          element.appendChild(docLink);\n",
              "        }\n",
              "      </script>\n",
              "    </div>\n",
              "  </div>\n",
              "  "
            ]
          },
          "metadata": {},
          "execution_count": 58
        }
      ],
      "source": [
        "new_data = pd.read_csv('/content/drive/MyDrive/Praca_licencjacka/new_data.csv')\n",
        "new_data"
      ]
    },
    {
      "cell_type": "code",
      "execution_count": null,
      "metadata": {
        "colab": {
          "base_uri": "https://localhost:8080/"
        },
        "id": "2vD9DTFHsqib",
        "outputId": "e3f7c8c1-601b-49f0-ee10-9017e402f7d8"
      },
      "outputs": [
        {
          "output_type": "stream",
          "name": "stdout",
          "text": [
            "<class 'pandas.core.frame.DataFrame'>\n",
            "RangeIndex: 10082 entries, 0 to 10081\n",
            "Data columns (total 5 columns):\n",
            " #   Column     Non-Null Count  Dtype \n",
            "---  ------     --------------  ----- \n",
            " 0   id_unit    10082 non-null  int64 \n",
            " 1   id_oferty  10082 non-null  int64 \n",
            " 2   id_os      10082 non-null  int64 \n",
            " 3   class      10082 non-null  int64 \n",
            " 4   desc       10082 non-null  object\n",
            "dtypes: int64(4), object(1)\n",
            "memory usage: 394.0+ KB\n"
          ]
        },
        {
          "output_type": "execute_result",
          "data": {
            "text/plain": [
              "(10082, 5)"
            ]
          },
          "metadata": {},
          "execution_count": 59
        }
      ],
      "source": [
        "# getting basic info about the dataset\n",
        "new_data.info()\n",
        "new_data.shape"
      ]
    },
    {
      "cell_type": "code",
      "execution_count": null,
      "metadata": {
        "colab": {
          "base_uri": "https://localhost:8080/"
        },
        "id": "uQ4QgCJJsrFB",
        "outputId": "4c14ec2e-eb00-4f1d-d4ed-6e71d2f35c85"
      },
      "outputs": [
        {
          "output_type": "execute_result",
          "data": {
            "text/plain": [
              "text    0\n",
              "cat     0\n",
              "dtype: int64"
            ]
          },
          "metadata": {},
          "execution_count": 60
        }
      ],
      "source": [
        "# checking for null values, if any\n",
        "df.isnull().sum()"
      ]
    },
    {
      "cell_type": "code",
      "execution_count": null,
      "metadata": {
        "id": "NYn1R8S9trMq"
      },
      "outputs": [],
      "source": [
        "#Droping unnecessary columns\n",
        "new_data = new_data[['class','desc']]"
      ]
    },
    {
      "cell_type": "code",
      "execution_count": null,
      "metadata": {
        "colab": {
          "base_uri": "https://localhost:8080/",
          "height": 571
        },
        "id": "BRC3xcFOtEu-",
        "outputId": "a1bcd160-7aaa-4a06-ecf7-39ffcb18b890"
      },
      "outputs": [
        {
          "output_type": "stream",
          "name": "stderr",
          "text": [
            "/usr/local/lib/python3.7/dist-packages/ipykernel_launcher.py:2: SettingWithCopyWarning: \n",
            "A value is trying to be set on a copy of a slice from a DataFrame.\n",
            "Try using .loc[row_indexer,col_indexer] = value instead\n",
            "\n",
            "See the caveats in the documentation: https://pandas.pydata.org/pandas-docs/stable/user_guide/indexing.html#returning-a-view-versus-a-copy\n",
            "  \n",
            "/usr/local/lib/python3.7/dist-packages/ipykernel_launcher.py:3: SettingWithCopyWarning: \n",
            "A value is trying to be set on a copy of a slice from a DataFrame.\n",
            "Try using .loc[row_indexer,col_indexer] = value instead\n",
            "\n",
            "See the caveats in the documentation: https://pandas.pydata.org/pandas-docs/stable/user_guide/indexing.html#returning-a-view-versus-a-copy\n",
            "  This is separate from the ipykernel package so we can avoid doing imports until\n"
          ]
        },
        {
          "output_type": "execute_result",
          "data": {
            "text/plain": [
              "       class                                               desc\n",
              "4420  242204  inspektor  projektant audytor w dziale inspekc...\n",
              "2111  741103  elektrykautomatyk do wyposażania przemysłowych...\n",
              "3211  142004  kierownik sklepu pełny etat umowa o pracę kier...\n",
              "6745  132301  kierownik projektu  budownictwo infrastruktura...\n",
              "4623  242390  koordynator zmiany contact center pełny etat u...\n",
              "3803  721204  spawaczmonter nr 4469    centralna baza ofert ...\n",
              "6939  524990  koordynator stoiska pełny etat umowa o pracę k...\n",
              "1987  722308  operator maszyn cnc stała  szczegóły ogłoszeni...\n",
              "3688  232004  nauczyciel technik masażysta    centrum nauki ...\n",
              "7876  311211  starszy inspektor ds kontroli    główny urząd ..."
            ],
            "text/html": [
              "\n",
              "  <div id=\"df-bc063db3-9f84-4c28-8904-098f917f0f86\">\n",
              "    <div class=\"colab-df-container\">\n",
              "      <div>\n",
              "<style scoped>\n",
              "    .dataframe tbody tr th:only-of-type {\n",
              "        vertical-align: middle;\n",
              "    }\n",
              "\n",
              "    .dataframe tbody tr th {\n",
              "        vertical-align: top;\n",
              "    }\n",
              "\n",
              "    .dataframe thead th {\n",
              "        text-align: right;\n",
              "    }\n",
              "</style>\n",
              "<table border=\"1\" class=\"dataframe\">\n",
              "  <thead>\n",
              "    <tr style=\"text-align: right;\">\n",
              "      <th></th>\n",
              "      <th>class</th>\n",
              "      <th>desc</th>\n",
              "    </tr>\n",
              "  </thead>\n",
              "  <tbody>\n",
              "    <tr>\n",
              "      <th>4420</th>\n",
              "      <td>242204</td>\n",
              "      <td>inspektor  projektant audytor w dziale inspekc...</td>\n",
              "    </tr>\n",
              "    <tr>\n",
              "      <th>2111</th>\n",
              "      <td>741103</td>\n",
              "      <td>elektrykautomatyk do wyposażania przemysłowych...</td>\n",
              "    </tr>\n",
              "    <tr>\n",
              "      <th>3211</th>\n",
              "      <td>142004</td>\n",
              "      <td>kierownik sklepu pełny etat umowa o pracę kier...</td>\n",
              "    </tr>\n",
              "    <tr>\n",
              "      <th>6745</th>\n",
              "      <td>132301</td>\n",
              "      <td>kierownik projektu  budownictwo infrastruktura...</td>\n",
              "    </tr>\n",
              "    <tr>\n",
              "      <th>4623</th>\n",
              "      <td>242390</td>\n",
              "      <td>koordynator zmiany contact center pełny etat u...</td>\n",
              "    </tr>\n",
              "    <tr>\n",
              "      <th>3803</th>\n",
              "      <td>721204</td>\n",
              "      <td>spawaczmonter nr 4469    centralna baza ofert ...</td>\n",
              "    </tr>\n",
              "    <tr>\n",
              "      <th>6939</th>\n",
              "      <td>524990</td>\n",
              "      <td>koordynator stoiska pełny etat umowa o pracę k...</td>\n",
              "    </tr>\n",
              "    <tr>\n",
              "      <th>1987</th>\n",
              "      <td>722308</td>\n",
              "      <td>operator maszyn cnc stała  szczegóły ogłoszeni...</td>\n",
              "    </tr>\n",
              "    <tr>\n",
              "      <th>3688</th>\n",
              "      <td>232004</td>\n",
              "      <td>nauczyciel technik masażysta    centrum nauki ...</td>\n",
              "    </tr>\n",
              "    <tr>\n",
              "      <th>7876</th>\n",
              "      <td>311211</td>\n",
              "      <td>starszy inspektor ds kontroli    główny urząd ...</td>\n",
              "    </tr>\n",
              "  </tbody>\n",
              "</table>\n",
              "</div>\n",
              "      <button class=\"colab-df-convert\" onclick=\"convertToInteractive('df-bc063db3-9f84-4c28-8904-098f917f0f86')\"\n",
              "              title=\"Convert this dataframe to an interactive table.\"\n",
              "              style=\"display:none;\">\n",
              "        \n",
              "  <svg xmlns=\"http://www.w3.org/2000/svg\" height=\"24px\"viewBox=\"0 0 24 24\"\n",
              "       width=\"24px\">\n",
              "    <path d=\"M0 0h24v24H0V0z\" fill=\"none\"/>\n",
              "    <path d=\"M18.56 5.44l.94 2.06.94-2.06 2.06-.94-2.06-.94-.94-2.06-.94 2.06-2.06.94zm-11 1L8.5 8.5l.94-2.06 2.06-.94-2.06-.94L8.5 2.5l-.94 2.06-2.06.94zm10 10l.94 2.06.94-2.06 2.06-.94-2.06-.94-.94-2.06-.94 2.06-2.06.94z\"/><path d=\"M17.41 7.96l-1.37-1.37c-.4-.4-.92-.59-1.43-.59-.52 0-1.04.2-1.43.59L10.3 9.45l-7.72 7.72c-.78.78-.78 2.05 0 2.83L4 21.41c.39.39.9.59 1.41.59.51 0 1.02-.2 1.41-.59l7.78-7.78 2.81-2.81c.8-.78.8-2.07 0-2.86zM5.41 20L4 18.59l7.72-7.72 1.47 1.35L5.41 20z\"/>\n",
              "  </svg>\n",
              "      </button>\n",
              "      \n",
              "  <style>\n",
              "    .colab-df-container {\n",
              "      display:flex;\n",
              "      flex-wrap:wrap;\n",
              "      gap: 12px;\n",
              "    }\n",
              "\n",
              "    .colab-df-convert {\n",
              "      background-color: #E8F0FE;\n",
              "      border: none;\n",
              "      border-radius: 50%;\n",
              "      cursor: pointer;\n",
              "      display: none;\n",
              "      fill: #1967D2;\n",
              "      height: 32px;\n",
              "      padding: 0 0 0 0;\n",
              "      width: 32px;\n",
              "    }\n",
              "\n",
              "    .colab-df-convert:hover {\n",
              "      background-color: #E2EBFA;\n",
              "      box-shadow: 0px 1px 2px rgba(60, 64, 67, 0.3), 0px 1px 3px 1px rgba(60, 64, 67, 0.15);\n",
              "      fill: #174EA6;\n",
              "    }\n",
              "\n",
              "    [theme=dark] .colab-df-convert {\n",
              "      background-color: #3B4455;\n",
              "      fill: #D2E3FC;\n",
              "    }\n",
              "\n",
              "    [theme=dark] .colab-df-convert:hover {\n",
              "      background-color: #434B5C;\n",
              "      box-shadow: 0px 1px 3px 1px rgba(0, 0, 0, 0.15);\n",
              "      filter: drop-shadow(0px 1px 2px rgba(0, 0, 0, 0.3));\n",
              "      fill: #FFFFFF;\n",
              "    }\n",
              "  </style>\n",
              "\n",
              "      <script>\n",
              "        const buttonEl =\n",
              "          document.querySelector('#df-bc063db3-9f84-4c28-8904-098f917f0f86 button.colab-df-convert');\n",
              "        buttonEl.style.display =\n",
              "          google.colab.kernel.accessAllowed ? 'block' : 'none';\n",
              "\n",
              "        async function convertToInteractive(key) {\n",
              "          const element = document.querySelector('#df-bc063db3-9f84-4c28-8904-098f917f0f86');\n",
              "          const dataTable =\n",
              "            await google.colab.kernel.invokeFunction('convertToInteractive',\n",
              "                                                     [key], {});\n",
              "          if (!dataTable) return;\n",
              "\n",
              "          const docLinkHtml = 'Like what you see? Visit the ' +\n",
              "            '<a target=\"_blank\" href=https://colab.research.google.com/notebooks/data_table.ipynb>data table notebook</a>'\n",
              "            + ' to learn more about interactive tables.';\n",
              "          element.innerHTML = '';\n",
              "          dataTable['output_type'] = 'display_data';\n",
              "          await google.colab.output.renderOutput(dataTable, element);\n",
              "          const docLink = document.createElement('div');\n",
              "          docLink.innerHTML = docLinkHtml;\n",
              "          element.appendChild(docLink);\n",
              "        }\n",
              "      </script>\n",
              "    </div>\n",
              "  </div>\n",
              "  "
            ]
          },
          "metadata": {},
          "execution_count": 62
        }
      ],
      "source": [
        "# Noise Cleaning - spacing, special characters, lowercasing\n",
        "new_data['desc'] = new_data['desc'].str.lower()\n",
        "new_data['desc'] = new_data['desc'].apply(lambda x: re.sub(r'[^\\w\\d\\s\\']+', '', x))\n",
        "new_data.sample(10, random_state = 5)"
      ]
    },
    {
      "cell_type": "code",
      "execution_count": null,
      "metadata": {
        "colab": {
          "base_uri": "https://localhost:8080/"
        },
        "id": "3YyLAfFDzYxu",
        "outputId": "fbf16864-42d9-481e-e78d-11964bd38706"
      },
      "outputs": [
        {
          "output_type": "stream",
          "name": "stderr",
          "text": [
            "/usr/local/lib/python3.7/dist-packages/ipykernel_launcher.py:2: SettingWithCopyWarning: \n",
            "A value is trying to be set on a copy of a slice from a DataFrame.\n",
            "Try using .loc[row_indexer,col_indexer] = value instead\n",
            "\n",
            "See the caveats in the documentation: https://pandas.pydata.org/pandas-docs/stable/user_guide/indexing.html#returning-a-view-versus-a-copy\n",
            "  \n"
          ]
        }
      ],
      "source": [
        "#changing 'class' for string data stype\n",
        "new_data['class'] = new_data['class'].astype(str)"
      ]
    },
    {
      "cell_type": "code",
      "execution_count": null,
      "metadata": {
        "colab": {
          "base_uri": "https://localhost:8080/",
          "height": 467
        },
        "id": "QfO8sk9SzyaQ",
        "outputId": "df04d4cc-be9c-4911-be7c-feccc02d299b"
      },
      "outputs": [
        {
          "output_type": "stream",
          "name": "stderr",
          "text": [
            "/usr/local/lib/python3.7/dist-packages/ipykernel_launcher.py:2: SettingWithCopyWarning: \n",
            "A value is trying to be set on a copy of a slice from a DataFrame.\n",
            "Try using .loc[row_indexer,col_indexer] = value instead\n",
            "\n",
            "See the caveats in the documentation: https://pandas.pydata.org/pandas-docs/stable/user_guide/indexing.html#returning-a-view-versus-a-copy\n",
            "  \n"
          ]
        },
        {
          "output_type": "execute_result",
          "data": {
            "text/plain": [
              "       class                                               desc\n",
              "9221  522301  specjalista  mkiosk pełny etat umowa zlecenie ...\n",
              "6013  235919  przedszkole poszukiwany nauczyciel wspomagając...\n",
              "8883  332203  przedstawiciel handlowy pełny etat umowa o pra...\n",
              "9927  251202  główny specjalista ds systemów informatycznych...\n",
              "497   522301  sprzedawca    netto sp z oo  kto szuka netto s...\n",
              "9782  242108  starszy specjalista ds oceny dostawców w biurz...\n",
              "9998  213105  specjalista badawczotechniczny pełny etat umow...\n",
              "1000  311514  płatny staż w dziale utrzymania ruchu    sylva...\n",
              "1021  221236  lekarz internista  medycyny rodzinnej część et...\n",
              "7882  242211  ekspert    komenda stołeczna policji  zakres o..."
            ],
            "text/html": [
              "\n",
              "  <div id=\"df-ef04bf8f-a926-42af-9e8a-dfad29b299c0\">\n",
              "    <div class=\"colab-df-container\">\n",
              "      <div>\n",
              "<style scoped>\n",
              "    .dataframe tbody tr th:only-of-type {\n",
              "        vertical-align: middle;\n",
              "    }\n",
              "\n",
              "    .dataframe tbody tr th {\n",
              "        vertical-align: top;\n",
              "    }\n",
              "\n",
              "    .dataframe thead th {\n",
              "        text-align: right;\n",
              "    }\n",
              "</style>\n",
              "<table border=\"1\" class=\"dataframe\">\n",
              "  <thead>\n",
              "    <tr style=\"text-align: right;\">\n",
              "      <th></th>\n",
              "      <th>class</th>\n",
              "      <th>desc</th>\n",
              "    </tr>\n",
              "  </thead>\n",
              "  <tbody>\n",
              "    <tr>\n",
              "      <th>9221</th>\n",
              "      <td>522301</td>\n",
              "      <td>specjalista  mkiosk pełny etat umowa zlecenie ...</td>\n",
              "    </tr>\n",
              "    <tr>\n",
              "      <th>6013</th>\n",
              "      <td>235919</td>\n",
              "      <td>przedszkole poszukiwany nauczyciel wspomagając...</td>\n",
              "    </tr>\n",
              "    <tr>\n",
              "      <th>8883</th>\n",
              "      <td>332203</td>\n",
              "      <td>przedstawiciel handlowy pełny etat umowa o pra...</td>\n",
              "    </tr>\n",
              "    <tr>\n",
              "      <th>9927</th>\n",
              "      <td>251202</td>\n",
              "      <td>główny specjalista ds systemów informatycznych...</td>\n",
              "    </tr>\n",
              "    <tr>\n",
              "      <th>497</th>\n",
              "      <td>522301</td>\n",
              "      <td>sprzedawca    netto sp z oo  kto szuka netto s...</td>\n",
              "    </tr>\n",
              "    <tr>\n",
              "      <th>9782</th>\n",
              "      <td>242108</td>\n",
              "      <td>starszy specjalista ds oceny dostawców w biurz...</td>\n",
              "    </tr>\n",
              "    <tr>\n",
              "      <th>9998</th>\n",
              "      <td>213105</td>\n",
              "      <td>specjalista badawczotechniczny pełny etat umow...</td>\n",
              "    </tr>\n",
              "    <tr>\n",
              "      <th>1000</th>\n",
              "      <td>311514</td>\n",
              "      <td>płatny staż w dziale utrzymania ruchu    sylva...</td>\n",
              "    </tr>\n",
              "    <tr>\n",
              "      <th>1021</th>\n",
              "      <td>221236</td>\n",
              "      <td>lekarz internista  medycyny rodzinnej część et...</td>\n",
              "    </tr>\n",
              "    <tr>\n",
              "      <th>7882</th>\n",
              "      <td>242211</td>\n",
              "      <td>ekspert    komenda stołeczna policji  zakres o...</td>\n",
              "    </tr>\n",
              "  </tbody>\n",
              "</table>\n",
              "</div>\n",
              "      <button class=\"colab-df-convert\" onclick=\"convertToInteractive('df-ef04bf8f-a926-42af-9e8a-dfad29b299c0')\"\n",
              "              title=\"Convert this dataframe to an interactive table.\"\n",
              "              style=\"display:none;\">\n",
              "        \n",
              "  <svg xmlns=\"http://www.w3.org/2000/svg\" height=\"24px\"viewBox=\"0 0 24 24\"\n",
              "       width=\"24px\">\n",
              "    <path d=\"M0 0h24v24H0V0z\" fill=\"none\"/>\n",
              "    <path d=\"M18.56 5.44l.94 2.06.94-2.06 2.06-.94-2.06-.94-.94-2.06-.94 2.06-2.06.94zm-11 1L8.5 8.5l.94-2.06 2.06-.94-2.06-.94L8.5 2.5l-.94 2.06-2.06.94zm10 10l.94 2.06.94-2.06 2.06-.94-2.06-.94-.94-2.06-.94 2.06-2.06.94z\"/><path d=\"M17.41 7.96l-1.37-1.37c-.4-.4-.92-.59-1.43-.59-.52 0-1.04.2-1.43.59L10.3 9.45l-7.72 7.72c-.78.78-.78 2.05 0 2.83L4 21.41c.39.39.9.59 1.41.59.51 0 1.02-.2 1.41-.59l7.78-7.78 2.81-2.81c.8-.78.8-2.07 0-2.86zM5.41 20L4 18.59l7.72-7.72 1.47 1.35L5.41 20z\"/>\n",
              "  </svg>\n",
              "      </button>\n",
              "      \n",
              "  <style>\n",
              "    .colab-df-container {\n",
              "      display:flex;\n",
              "      flex-wrap:wrap;\n",
              "      gap: 12px;\n",
              "    }\n",
              "\n",
              "    .colab-df-convert {\n",
              "      background-color: #E8F0FE;\n",
              "      border: none;\n",
              "      border-radius: 50%;\n",
              "      cursor: pointer;\n",
              "      display: none;\n",
              "      fill: #1967D2;\n",
              "      height: 32px;\n",
              "      padding: 0 0 0 0;\n",
              "      width: 32px;\n",
              "    }\n",
              "\n",
              "    .colab-df-convert:hover {\n",
              "      background-color: #E2EBFA;\n",
              "      box-shadow: 0px 1px 2px rgba(60, 64, 67, 0.3), 0px 1px 3px 1px rgba(60, 64, 67, 0.15);\n",
              "      fill: #174EA6;\n",
              "    }\n",
              "\n",
              "    [theme=dark] .colab-df-convert {\n",
              "      background-color: #3B4455;\n",
              "      fill: #D2E3FC;\n",
              "    }\n",
              "\n",
              "    [theme=dark] .colab-df-convert:hover {\n",
              "      background-color: #434B5C;\n",
              "      box-shadow: 0px 1px 3px 1px rgba(0, 0, 0, 0.15);\n",
              "      filter: drop-shadow(0px 1px 2px rgba(0, 0, 0, 0.3));\n",
              "      fill: #FFFFFF;\n",
              "    }\n",
              "  </style>\n",
              "\n",
              "      <script>\n",
              "        const buttonEl =\n",
              "          document.querySelector('#df-ef04bf8f-a926-42af-9e8a-dfad29b299c0 button.colab-df-convert');\n",
              "        buttonEl.style.display =\n",
              "          google.colab.kernel.accessAllowed ? 'block' : 'none';\n",
              "\n",
              "        async function convertToInteractive(key) {\n",
              "          const element = document.querySelector('#df-ef04bf8f-a926-42af-9e8a-dfad29b299c0');\n",
              "          const dataTable =\n",
              "            await google.colab.kernel.invokeFunction('convertToInteractive',\n",
              "                                                     [key], {});\n",
              "          if (!dataTable) return;\n",
              "\n",
              "          const docLinkHtml = 'Like what you see? Visit the ' +\n",
              "            '<a target=\"_blank\" href=https://colab.research.google.com/notebooks/data_table.ipynb>data table notebook</a>'\n",
              "            + ' to learn more about interactive tables.';\n",
              "          element.innerHTML = '';\n",
              "          dataTable['output_type'] = 'display_data';\n",
              "          await google.colab.output.renderOutput(dataTable, element);\n",
              "          const docLink = document.createElement('div');\n",
              "          docLink.innerHTML = docLinkHtml;\n",
              "          element.appendChild(docLink);\n",
              "        }\n",
              "      </script>\n",
              "    </div>\n",
              "  </div>\n",
              "  "
            ]
          },
          "metadata": {},
          "execution_count": 64
        }
      ],
      "source": [
        "#formating 'class' for 6-digit numbers\n",
        "new_data['class']=new_data['class'].str.pad(width=6, side='right', fillchar='0')\n",
        "new_data.sample(10)"
      ]
    },
    {
      "cell_type": "code",
      "execution_count": null,
      "metadata": {
        "colab": {
          "base_uri": "https://localhost:8080/",
          "height": 467
        },
        "id": "2a2jgB1G0BJo",
        "outputId": "15df6d2a-3cb6-4d26-f478-5a2c12f99a44"
      },
      "outputs": [
        {
          "output_type": "stream",
          "name": "stderr",
          "text": [
            "/usr/local/lib/python3.7/dist-packages/ipykernel_launcher.py:2: SettingWithCopyWarning: \n",
            "A value is trying to be set on a copy of a slice from a DataFrame.\n",
            "Try using .loc[row_indexer,col_indexer] = value instead\n",
            "\n",
            "See the caveats in the documentation: https://pandas.pydata.org/pandas-docs/stable/user_guide/indexing.html#returning-a-view-versus-a-copy\n",
            "  \n"
          ]
        },
        {
          "output_type": "execute_result",
          "data": {
            "text/plain": [
              "       class                                               desc  \\\n",
              "4420  242204  inspektor  projektant audytor w dziale inspekc...   \n",
              "2111  741103  elektrykautomatyk do wyposażania przemysłowych...   \n",
              "3211  142004  kierownik sklepu pełny etat umowa o pracę kier...   \n",
              "6745  132301  kierownik projektu  budownictwo infrastruktura...   \n",
              "4623  242390  koordynator zmiany contact center pełny etat u...   \n",
              "3803  721204  spawaczmonter nr 4469    centralna baza ofert ...   \n",
              "6939  524990  koordynator stoiska pełny etat umowa o pracę k...   \n",
              "1987  722308  operator maszyn cnc stała  szczegóły ogłoszeni...   \n",
              "3688  232004  nauczyciel technik masażysta    centrum nauki ...   \n",
              "7876  311211  starszy inspektor ds kontroli    główny urząd ...   \n",
              "\n",
              "                                         desc_tokenized  \n",
              "4420  [inspektor, projektant, audytor, w, dziale, in...  \n",
              "2111  [elektrykautomatyk, do, wyposażania, przemysło...  \n",
              "3211  [kierownik, sklepu, pełny, etat, umowa, o, pra...  \n",
              "6745  [kierownik, projektu, budownictwo, infrastrukt...  \n",
              "4623  [koordynator, zmiany, contact, center, pełny, ...  \n",
              "3803  [spawaczmonter, nr, 4469, centralna, baza, ofe...  \n",
              "6939  [koordynator, stoiska, pełny, etat, umowa, o, ...  \n",
              "1987  [operator, maszyn, cnc, stała, szczegóły, ogło...  \n",
              "3688  [nauczyciel, technik, masażysta, centrum, nauk...  \n",
              "7876  [starszy, inspektor, ds, kontroli, główny, urz...  "
            ],
            "text/html": [
              "\n",
              "  <div id=\"df-e35591ab-b3f9-4c0b-b57b-8fc7770fee6f\">\n",
              "    <div class=\"colab-df-container\">\n",
              "      <div>\n",
              "<style scoped>\n",
              "    .dataframe tbody tr th:only-of-type {\n",
              "        vertical-align: middle;\n",
              "    }\n",
              "\n",
              "    .dataframe tbody tr th {\n",
              "        vertical-align: top;\n",
              "    }\n",
              "\n",
              "    .dataframe thead th {\n",
              "        text-align: right;\n",
              "    }\n",
              "</style>\n",
              "<table border=\"1\" class=\"dataframe\">\n",
              "  <thead>\n",
              "    <tr style=\"text-align: right;\">\n",
              "      <th></th>\n",
              "      <th>class</th>\n",
              "      <th>desc</th>\n",
              "      <th>desc_tokenized</th>\n",
              "    </tr>\n",
              "  </thead>\n",
              "  <tbody>\n",
              "    <tr>\n",
              "      <th>4420</th>\n",
              "      <td>242204</td>\n",
              "      <td>inspektor  projektant audytor w dziale inspekc...</td>\n",
              "      <td>[inspektor, projektant, audytor, w, dziale, in...</td>\n",
              "    </tr>\n",
              "    <tr>\n",
              "      <th>2111</th>\n",
              "      <td>741103</td>\n",
              "      <td>elektrykautomatyk do wyposażania przemysłowych...</td>\n",
              "      <td>[elektrykautomatyk, do, wyposażania, przemysło...</td>\n",
              "    </tr>\n",
              "    <tr>\n",
              "      <th>3211</th>\n",
              "      <td>142004</td>\n",
              "      <td>kierownik sklepu pełny etat umowa o pracę kier...</td>\n",
              "      <td>[kierownik, sklepu, pełny, etat, umowa, o, pra...</td>\n",
              "    </tr>\n",
              "    <tr>\n",
              "      <th>6745</th>\n",
              "      <td>132301</td>\n",
              "      <td>kierownik projektu  budownictwo infrastruktura...</td>\n",
              "      <td>[kierownik, projektu, budownictwo, infrastrukt...</td>\n",
              "    </tr>\n",
              "    <tr>\n",
              "      <th>4623</th>\n",
              "      <td>242390</td>\n",
              "      <td>koordynator zmiany contact center pełny etat u...</td>\n",
              "      <td>[koordynator, zmiany, contact, center, pełny, ...</td>\n",
              "    </tr>\n",
              "    <tr>\n",
              "      <th>3803</th>\n",
              "      <td>721204</td>\n",
              "      <td>spawaczmonter nr 4469    centralna baza ofert ...</td>\n",
              "      <td>[spawaczmonter, nr, 4469, centralna, baza, ofe...</td>\n",
              "    </tr>\n",
              "    <tr>\n",
              "      <th>6939</th>\n",
              "      <td>524990</td>\n",
              "      <td>koordynator stoiska pełny etat umowa o pracę k...</td>\n",
              "      <td>[koordynator, stoiska, pełny, etat, umowa, o, ...</td>\n",
              "    </tr>\n",
              "    <tr>\n",
              "      <th>1987</th>\n",
              "      <td>722308</td>\n",
              "      <td>operator maszyn cnc stała  szczegóły ogłoszeni...</td>\n",
              "      <td>[operator, maszyn, cnc, stała, szczegóły, ogło...</td>\n",
              "    </tr>\n",
              "    <tr>\n",
              "      <th>3688</th>\n",
              "      <td>232004</td>\n",
              "      <td>nauczyciel technik masażysta    centrum nauki ...</td>\n",
              "      <td>[nauczyciel, technik, masażysta, centrum, nauk...</td>\n",
              "    </tr>\n",
              "    <tr>\n",
              "      <th>7876</th>\n",
              "      <td>311211</td>\n",
              "      <td>starszy inspektor ds kontroli    główny urząd ...</td>\n",
              "      <td>[starszy, inspektor, ds, kontroli, główny, urz...</td>\n",
              "    </tr>\n",
              "  </tbody>\n",
              "</table>\n",
              "</div>\n",
              "      <button class=\"colab-df-convert\" onclick=\"convertToInteractive('df-e35591ab-b3f9-4c0b-b57b-8fc7770fee6f')\"\n",
              "              title=\"Convert this dataframe to an interactive table.\"\n",
              "              style=\"display:none;\">\n",
              "        \n",
              "  <svg xmlns=\"http://www.w3.org/2000/svg\" height=\"24px\"viewBox=\"0 0 24 24\"\n",
              "       width=\"24px\">\n",
              "    <path d=\"M0 0h24v24H0V0z\" fill=\"none\"/>\n",
              "    <path d=\"M18.56 5.44l.94 2.06.94-2.06 2.06-.94-2.06-.94-.94-2.06-.94 2.06-2.06.94zm-11 1L8.5 8.5l.94-2.06 2.06-.94-2.06-.94L8.5 2.5l-.94 2.06-2.06.94zm10 10l.94 2.06.94-2.06 2.06-.94-2.06-.94-.94-2.06-.94 2.06-2.06.94z\"/><path d=\"M17.41 7.96l-1.37-1.37c-.4-.4-.92-.59-1.43-.59-.52 0-1.04.2-1.43.59L10.3 9.45l-7.72 7.72c-.78.78-.78 2.05 0 2.83L4 21.41c.39.39.9.59 1.41.59.51 0 1.02-.2 1.41-.59l7.78-7.78 2.81-2.81c.8-.78.8-2.07 0-2.86zM5.41 20L4 18.59l7.72-7.72 1.47 1.35L5.41 20z\"/>\n",
              "  </svg>\n",
              "      </button>\n",
              "      \n",
              "  <style>\n",
              "    .colab-df-container {\n",
              "      display:flex;\n",
              "      flex-wrap:wrap;\n",
              "      gap: 12px;\n",
              "    }\n",
              "\n",
              "    .colab-df-convert {\n",
              "      background-color: #E8F0FE;\n",
              "      border: none;\n",
              "      border-radius: 50%;\n",
              "      cursor: pointer;\n",
              "      display: none;\n",
              "      fill: #1967D2;\n",
              "      height: 32px;\n",
              "      padding: 0 0 0 0;\n",
              "      width: 32px;\n",
              "    }\n",
              "\n",
              "    .colab-df-convert:hover {\n",
              "      background-color: #E2EBFA;\n",
              "      box-shadow: 0px 1px 2px rgba(60, 64, 67, 0.3), 0px 1px 3px 1px rgba(60, 64, 67, 0.15);\n",
              "      fill: #174EA6;\n",
              "    }\n",
              "\n",
              "    [theme=dark] .colab-df-convert {\n",
              "      background-color: #3B4455;\n",
              "      fill: #D2E3FC;\n",
              "    }\n",
              "\n",
              "    [theme=dark] .colab-df-convert:hover {\n",
              "      background-color: #434B5C;\n",
              "      box-shadow: 0px 1px 3px 1px rgba(0, 0, 0, 0.15);\n",
              "      filter: drop-shadow(0px 1px 2px rgba(0, 0, 0, 0.3));\n",
              "      fill: #FFFFFF;\n",
              "    }\n",
              "  </style>\n",
              "\n",
              "      <script>\n",
              "        const buttonEl =\n",
              "          document.querySelector('#df-e35591ab-b3f9-4c0b-b57b-8fc7770fee6f button.colab-df-convert');\n",
              "        buttonEl.style.display =\n",
              "          google.colab.kernel.accessAllowed ? 'block' : 'none';\n",
              "\n",
              "        async function convertToInteractive(key) {\n",
              "          const element = document.querySelector('#df-e35591ab-b3f9-4c0b-b57b-8fc7770fee6f');\n",
              "          const dataTable =\n",
              "            await google.colab.kernel.invokeFunction('convertToInteractive',\n",
              "                                                     [key], {});\n",
              "          if (!dataTable) return;\n",
              "\n",
              "          const docLinkHtml = 'Like what you see? Visit the ' +\n",
              "            '<a target=\"_blank\" href=https://colab.research.google.com/notebooks/data_table.ipynb>data table notebook</a>'\n",
              "            + ' to learn more about interactive tables.';\n",
              "          element.innerHTML = '';\n",
              "          dataTable['output_type'] = 'display_data';\n",
              "          await google.colab.output.renderOutput(dataTable, element);\n",
              "          const docLink = document.createElement('div');\n",
              "          docLink.innerHTML = docLinkHtml;\n",
              "          element.appendChild(docLink);\n",
              "        }\n",
              "      </script>\n",
              "    </div>\n",
              "  </div>\n",
              "  "
            ]
          },
          "metadata": {},
          "execution_count": 65
        }
      ],
      "source": [
        "#nltk tokenization\n",
        "new_data['desc_tokenized'] = new_data['desc'].apply(word_tokenize)\n",
        "new_data.sample(10, random_state = 5)"
      ]
    },
    {
      "cell_type": "code",
      "execution_count": null,
      "metadata": {
        "colab": {
          "base_uri": "https://localhost:8080/",
          "height": 632
        },
        "id": "TOlV5kq_0NPj",
        "outputId": "0c3cf2dc-bd38-47a3-b813-157f9b04ae02"
      },
      "outputs": [
        {
          "output_type": "stream",
          "name": "stderr",
          "text": [
            "/usr/local/lib/python3.7/dist-packages/ipykernel_launcher.py:3: SettingWithCopyWarning: \n",
            "A value is trying to be set on a copy of a slice from a DataFrame.\n",
            "Try using .loc[row_indexer,col_indexer] = value instead\n",
            "\n",
            "See the caveats in the documentation: https://pandas.pydata.org/pandas-docs/stable/user_guide/indexing.html#returning-a-view-versus-a-copy\n",
            "  This is separate from the ipykernel package so we can avoid doing imports until\n",
            "/usr/local/lib/python3.7/dist-packages/ipykernel_launcher.py:4: SettingWithCopyWarning: \n",
            "A value is trying to be set on a copy of a slice from a DataFrame.\n",
            "Try using .loc[row_indexer,col_indexer] = value instead\n",
            "\n",
            "See the caveats in the documentation: https://pandas.pydata.org/pandas-docs/stable/user_guide/indexing.html#returning-a-view-versus-a-copy\n",
            "  after removing the cwd from sys.path.\n"
          ]
        },
        {
          "output_type": "execute_result",
          "data": {
            "text/plain": [
              "       class                                               desc  \\\n",
              "4420  242204  inspektor  projektant audytor w dziale inspekc...   \n",
              "2111  741103  elektrykautomatyk do wyposażania przemysłowych...   \n",
              "3211  142004  kierownik sklepu pełny etat umowa o pracę kier...   \n",
              "6745  132301  kierownik projektu  budownictwo infrastruktura...   \n",
              "4623  242390  koordynator zmiany contact center pełny etat u...   \n",
              "3803  721204  spawaczmonter nr 4469    centralna baza ofert ...   \n",
              "6939  524990  koordynator stoiska pełny etat umowa o pracę k...   \n",
              "1987  722308  operator maszyn cnc stała  szczegóły ogłoszeni...   \n",
              "3688  232004  nauczyciel technik masażysta    centrum nauki ...   \n",
              "7876  311211  starszy inspektor ds kontroli    główny urząd ...   \n",
              "\n",
              "                                         desc_tokenized  \\\n",
              "4420  [inspektor, projektant, audytor, w, dziale, in...   \n",
              "2111  [elektrykautomatyk, do, wyposażania, przemysło...   \n",
              "3211  [kierownik, sklepu, pełny, etat, umowa, o, pra...   \n",
              "6745  [kierownik, projektu, budownictwo, infrastrukt...   \n",
              "4623  [koordynator, zmiany, contact, center, pełny, ...   \n",
              "3803  [spawaczmonter, nr, 4469, centralna, baza, ofe...   \n",
              "6939  [koordynator, stoiska, pełny, etat, umowa, o, ...   \n",
              "1987  [operator, maszyn, cnc, stała, szczegóły, ogło...   \n",
              "3688  [nauczyciel, technik, masażysta, centrum, nauk...   \n",
              "7876  [starszy, inspektor, ds, kontroli, główny, urz...   \n",
              "\n",
              "                                  desc_tokenized&joined  \n",
              "4420  inspektor projektant audytor w dziale inspekcj...  \n",
              "2111  elektrykautomatyk do wyposażania przemysłowych...  \n",
              "3211  kierownik sklepu pełny etat umowa o pracę kier...  \n",
              "6745  kierownik projektu budownictwo infrastruktural...  \n",
              "4623  koordynator zmiany contact center pełny etat u...  \n",
              "3803  spawaczmonter nr 4469 centralna baza ofert pra...  \n",
              "6939  koordynator stoiska pełny etat umowa o pracę k...  \n",
              "1987  operator maszyn cnc stała szczegóły ogłoszenia...  \n",
              "3688  nauczyciel technik masażysta centrum nauki i b...  \n",
              "7876  starszy inspektor ds kontroli główny urząd nad...  "
            ],
            "text/html": [
              "\n",
              "  <div id=\"df-d19743ed-ebcf-4753-8038-49ab38c49d62\">\n",
              "    <div class=\"colab-df-container\">\n",
              "      <div>\n",
              "<style scoped>\n",
              "    .dataframe tbody tr th:only-of-type {\n",
              "        vertical-align: middle;\n",
              "    }\n",
              "\n",
              "    .dataframe tbody tr th {\n",
              "        vertical-align: top;\n",
              "    }\n",
              "\n",
              "    .dataframe thead th {\n",
              "        text-align: right;\n",
              "    }\n",
              "</style>\n",
              "<table border=\"1\" class=\"dataframe\">\n",
              "  <thead>\n",
              "    <tr style=\"text-align: right;\">\n",
              "      <th></th>\n",
              "      <th>class</th>\n",
              "      <th>desc</th>\n",
              "      <th>desc_tokenized</th>\n",
              "      <th>desc_tokenized&amp;joined</th>\n",
              "    </tr>\n",
              "  </thead>\n",
              "  <tbody>\n",
              "    <tr>\n",
              "      <th>4420</th>\n",
              "      <td>242204</td>\n",
              "      <td>inspektor  projektant audytor w dziale inspekc...</td>\n",
              "      <td>[inspektor, projektant, audytor, w, dziale, in...</td>\n",
              "      <td>inspektor projektant audytor w dziale inspekcj...</td>\n",
              "    </tr>\n",
              "    <tr>\n",
              "      <th>2111</th>\n",
              "      <td>741103</td>\n",
              "      <td>elektrykautomatyk do wyposażania przemysłowych...</td>\n",
              "      <td>[elektrykautomatyk, do, wyposażania, przemysło...</td>\n",
              "      <td>elektrykautomatyk do wyposażania przemysłowych...</td>\n",
              "    </tr>\n",
              "    <tr>\n",
              "      <th>3211</th>\n",
              "      <td>142004</td>\n",
              "      <td>kierownik sklepu pełny etat umowa o pracę kier...</td>\n",
              "      <td>[kierownik, sklepu, pełny, etat, umowa, o, pra...</td>\n",
              "      <td>kierownik sklepu pełny etat umowa o pracę kier...</td>\n",
              "    </tr>\n",
              "    <tr>\n",
              "      <th>6745</th>\n",
              "      <td>132301</td>\n",
              "      <td>kierownik projektu  budownictwo infrastruktura...</td>\n",
              "      <td>[kierownik, projektu, budownictwo, infrastrukt...</td>\n",
              "      <td>kierownik projektu budownictwo infrastruktural...</td>\n",
              "    </tr>\n",
              "    <tr>\n",
              "      <th>4623</th>\n",
              "      <td>242390</td>\n",
              "      <td>koordynator zmiany contact center pełny etat u...</td>\n",
              "      <td>[koordynator, zmiany, contact, center, pełny, ...</td>\n",
              "      <td>koordynator zmiany contact center pełny etat u...</td>\n",
              "    </tr>\n",
              "    <tr>\n",
              "      <th>3803</th>\n",
              "      <td>721204</td>\n",
              "      <td>spawaczmonter nr 4469    centralna baza ofert ...</td>\n",
              "      <td>[spawaczmonter, nr, 4469, centralna, baza, ofe...</td>\n",
              "      <td>spawaczmonter nr 4469 centralna baza ofert pra...</td>\n",
              "    </tr>\n",
              "    <tr>\n",
              "      <th>6939</th>\n",
              "      <td>524990</td>\n",
              "      <td>koordynator stoiska pełny etat umowa o pracę k...</td>\n",
              "      <td>[koordynator, stoiska, pełny, etat, umowa, o, ...</td>\n",
              "      <td>koordynator stoiska pełny etat umowa o pracę k...</td>\n",
              "    </tr>\n",
              "    <tr>\n",
              "      <th>1987</th>\n",
              "      <td>722308</td>\n",
              "      <td>operator maszyn cnc stała  szczegóły ogłoszeni...</td>\n",
              "      <td>[operator, maszyn, cnc, stała, szczegóły, ogło...</td>\n",
              "      <td>operator maszyn cnc stała szczegóły ogłoszenia...</td>\n",
              "    </tr>\n",
              "    <tr>\n",
              "      <th>3688</th>\n",
              "      <td>232004</td>\n",
              "      <td>nauczyciel technik masażysta    centrum nauki ...</td>\n",
              "      <td>[nauczyciel, technik, masażysta, centrum, nauk...</td>\n",
              "      <td>nauczyciel technik masażysta centrum nauki i b...</td>\n",
              "    </tr>\n",
              "    <tr>\n",
              "      <th>7876</th>\n",
              "      <td>311211</td>\n",
              "      <td>starszy inspektor ds kontroli    główny urząd ...</td>\n",
              "      <td>[starszy, inspektor, ds, kontroli, główny, urz...</td>\n",
              "      <td>starszy inspektor ds kontroli główny urząd nad...</td>\n",
              "    </tr>\n",
              "  </tbody>\n",
              "</table>\n",
              "</div>\n",
              "      <button class=\"colab-df-convert\" onclick=\"convertToInteractive('df-d19743ed-ebcf-4753-8038-49ab38c49d62')\"\n",
              "              title=\"Convert this dataframe to an interactive table.\"\n",
              "              style=\"display:none;\">\n",
              "        \n",
              "  <svg xmlns=\"http://www.w3.org/2000/svg\" height=\"24px\"viewBox=\"0 0 24 24\"\n",
              "       width=\"24px\">\n",
              "    <path d=\"M0 0h24v24H0V0z\" fill=\"none\"/>\n",
              "    <path d=\"M18.56 5.44l.94 2.06.94-2.06 2.06-.94-2.06-.94-.94-2.06-.94 2.06-2.06.94zm-11 1L8.5 8.5l.94-2.06 2.06-.94-2.06-.94L8.5 2.5l-.94 2.06-2.06.94zm10 10l.94 2.06.94-2.06 2.06-.94-2.06-.94-.94-2.06-.94 2.06-2.06.94z\"/><path d=\"M17.41 7.96l-1.37-1.37c-.4-.4-.92-.59-1.43-.59-.52 0-1.04.2-1.43.59L10.3 9.45l-7.72 7.72c-.78.78-.78 2.05 0 2.83L4 21.41c.39.39.9.59 1.41.59.51 0 1.02-.2 1.41-.59l7.78-7.78 2.81-2.81c.8-.78.8-2.07 0-2.86zM5.41 20L4 18.59l7.72-7.72 1.47 1.35L5.41 20z\"/>\n",
              "  </svg>\n",
              "      </button>\n",
              "      \n",
              "  <style>\n",
              "    .colab-df-container {\n",
              "      display:flex;\n",
              "      flex-wrap:wrap;\n",
              "      gap: 12px;\n",
              "    }\n",
              "\n",
              "    .colab-df-convert {\n",
              "      background-color: #E8F0FE;\n",
              "      border: none;\n",
              "      border-radius: 50%;\n",
              "      cursor: pointer;\n",
              "      display: none;\n",
              "      fill: #1967D2;\n",
              "      height: 32px;\n",
              "      padding: 0 0 0 0;\n",
              "      width: 32px;\n",
              "    }\n",
              "\n",
              "    .colab-df-convert:hover {\n",
              "      background-color: #E2EBFA;\n",
              "      box-shadow: 0px 1px 2px rgba(60, 64, 67, 0.3), 0px 1px 3px 1px rgba(60, 64, 67, 0.15);\n",
              "      fill: #174EA6;\n",
              "    }\n",
              "\n",
              "    [theme=dark] .colab-df-convert {\n",
              "      background-color: #3B4455;\n",
              "      fill: #D2E3FC;\n",
              "    }\n",
              "\n",
              "    [theme=dark] .colab-df-convert:hover {\n",
              "      background-color: #434B5C;\n",
              "      box-shadow: 0px 1px 3px 1px rgba(0, 0, 0, 0.15);\n",
              "      filter: drop-shadow(0px 1px 2px rgba(0, 0, 0, 0.3));\n",
              "      fill: #FFFFFF;\n",
              "    }\n",
              "  </style>\n",
              "\n",
              "      <script>\n",
              "        const buttonEl =\n",
              "          document.querySelector('#df-d19743ed-ebcf-4753-8038-49ab38c49d62 button.colab-df-convert');\n",
              "        buttonEl.style.display =\n",
              "          google.colab.kernel.accessAllowed ? 'block' : 'none';\n",
              "\n",
              "        async function convertToInteractive(key) {\n",
              "          const element = document.querySelector('#df-d19743ed-ebcf-4753-8038-49ab38c49d62');\n",
              "          const dataTable =\n",
              "            await google.colab.kernel.invokeFunction('convertToInteractive',\n",
              "                                                     [key], {});\n",
              "          if (!dataTable) return;\n",
              "\n",
              "          const docLinkHtml = 'Like what you see? Visit the ' +\n",
              "            '<a target=\"_blank\" href=https://colab.research.google.com/notebooks/data_table.ipynb>data table notebook</a>'\n",
              "            + ' to learn more about interactive tables.';\n",
              "          element.innerHTML = '';\n",
              "          dataTable['output_type'] = 'display_data';\n",
              "          await google.colab.output.renderOutput(dataTable, element);\n",
              "          const docLink = document.createElement('div');\n",
              "          docLink.innerHTML = docLinkHtml;\n",
              "          element.appendChild(docLink);\n",
              "        }\n",
              "      </script>\n",
              "    </div>\n",
              "  </div>\n",
              "  "
            ]
          },
          "metadata": {},
          "execution_count": 66
        }
      ],
      "source": [
        "#removing stopwords\n",
        "\n",
        "new_data['desc_tokenized'] = new_data['desc_tokenized'].apply(lambda x: [word for word in x if word not in stop_words])\n",
        "new_data['desc_tokenized&joined'] = [' '.join(map(str, l)) for l in new_data['desc_tokenized']]\n",
        "\n",
        "new_data.sample(10, random_state = 5)"
      ]
    },
    {
      "cell_type": "code",
      "execution_count": null,
      "metadata": {
        "colab": {
          "base_uri": "https://localhost:8080/",
          "height": 363
        },
        "id": "DY0IZdF21oJV",
        "outputId": "a098f575-11b5-45d2-951a-ac7125aa6400"
      },
      "outputs": [
        {
          "output_type": "execute_result",
          "data": {
            "text/plain": [
              "    class                              desc_tokenized&joined\n",
              "0  411090  pracownik obsługi biurowej staż z urzędu pracy...\n",
              "1  332203  handlowiec pracownik biurowy oferta pracy prac...\n",
              "2  411090  pomoc biurowa oferta pracy umowa zlecenie umow...\n",
              "3  411004  pomoc biurowa oferta pracy umowa zlecenie umow...\n",
              "4  911290  sprzątaczka biurowa inwemer system spółka z og...\n",
              "5  411090  pozostali pracownicy obsługi biurowej pełny et...\n",
              "6  911290  sprzątaczka biurowapracownik do pracy lekkiej ...\n",
              "7  911207  sprzątaczka biurowa staż pełny etat stażprakty...\n",
              "8  411003  pozostali pracownicy obsługi biurowej pracowni...\n",
              "9  411004  pracownik obsługi biurowej oferta pracy umowa ..."
            ],
            "text/html": [
              "\n",
              "  <div id=\"df-d04f5308-727b-43f4-8bc9-872f2ec560bd\">\n",
              "    <div class=\"colab-df-container\">\n",
              "      <div>\n",
              "<style scoped>\n",
              "    .dataframe tbody tr th:only-of-type {\n",
              "        vertical-align: middle;\n",
              "    }\n",
              "\n",
              "    .dataframe tbody tr th {\n",
              "        vertical-align: top;\n",
              "    }\n",
              "\n",
              "    .dataframe thead th {\n",
              "        text-align: right;\n",
              "    }\n",
              "</style>\n",
              "<table border=\"1\" class=\"dataframe\">\n",
              "  <thead>\n",
              "    <tr style=\"text-align: right;\">\n",
              "      <th></th>\n",
              "      <th>class</th>\n",
              "      <th>desc_tokenized&amp;joined</th>\n",
              "    </tr>\n",
              "  </thead>\n",
              "  <tbody>\n",
              "    <tr>\n",
              "      <th>0</th>\n",
              "      <td>411090</td>\n",
              "      <td>pracownik obsługi biurowej staż z urzędu pracy...</td>\n",
              "    </tr>\n",
              "    <tr>\n",
              "      <th>1</th>\n",
              "      <td>332203</td>\n",
              "      <td>handlowiec pracownik biurowy oferta pracy prac...</td>\n",
              "    </tr>\n",
              "    <tr>\n",
              "      <th>2</th>\n",
              "      <td>411090</td>\n",
              "      <td>pomoc biurowa oferta pracy umowa zlecenie umow...</td>\n",
              "    </tr>\n",
              "    <tr>\n",
              "      <th>3</th>\n",
              "      <td>411004</td>\n",
              "      <td>pomoc biurowa oferta pracy umowa zlecenie umow...</td>\n",
              "    </tr>\n",
              "    <tr>\n",
              "      <th>4</th>\n",
              "      <td>911290</td>\n",
              "      <td>sprzątaczka biurowa inwemer system spółka z og...</td>\n",
              "    </tr>\n",
              "    <tr>\n",
              "      <th>5</th>\n",
              "      <td>411090</td>\n",
              "      <td>pozostali pracownicy obsługi biurowej pełny et...</td>\n",
              "    </tr>\n",
              "    <tr>\n",
              "      <th>6</th>\n",
              "      <td>911290</td>\n",
              "      <td>sprzątaczka biurowapracownik do pracy lekkiej ...</td>\n",
              "    </tr>\n",
              "    <tr>\n",
              "      <th>7</th>\n",
              "      <td>911207</td>\n",
              "      <td>sprzątaczka biurowa staż pełny etat stażprakty...</td>\n",
              "    </tr>\n",
              "    <tr>\n",
              "      <th>8</th>\n",
              "      <td>411003</td>\n",
              "      <td>pozostali pracownicy obsługi biurowej pracowni...</td>\n",
              "    </tr>\n",
              "    <tr>\n",
              "      <th>9</th>\n",
              "      <td>411004</td>\n",
              "      <td>pracownik obsługi biurowej oferta pracy umowa ...</td>\n",
              "    </tr>\n",
              "  </tbody>\n",
              "</table>\n",
              "</div>\n",
              "      <button class=\"colab-df-convert\" onclick=\"convertToInteractive('df-d04f5308-727b-43f4-8bc9-872f2ec560bd')\"\n",
              "              title=\"Convert this dataframe to an interactive table.\"\n",
              "              style=\"display:none;\">\n",
              "        \n",
              "  <svg xmlns=\"http://www.w3.org/2000/svg\" height=\"24px\"viewBox=\"0 0 24 24\"\n",
              "       width=\"24px\">\n",
              "    <path d=\"M0 0h24v24H0V0z\" fill=\"none\"/>\n",
              "    <path d=\"M18.56 5.44l.94 2.06.94-2.06 2.06-.94-2.06-.94-.94-2.06-.94 2.06-2.06.94zm-11 1L8.5 8.5l.94-2.06 2.06-.94-2.06-.94L8.5 2.5l-.94 2.06-2.06.94zm10 10l.94 2.06.94-2.06 2.06-.94-2.06-.94-.94-2.06-.94 2.06-2.06.94z\"/><path d=\"M17.41 7.96l-1.37-1.37c-.4-.4-.92-.59-1.43-.59-.52 0-1.04.2-1.43.59L10.3 9.45l-7.72 7.72c-.78.78-.78 2.05 0 2.83L4 21.41c.39.39.9.59 1.41.59.51 0 1.02-.2 1.41-.59l7.78-7.78 2.81-2.81c.8-.78.8-2.07 0-2.86zM5.41 20L4 18.59l7.72-7.72 1.47 1.35L5.41 20z\"/>\n",
              "  </svg>\n",
              "      </button>\n",
              "      \n",
              "  <style>\n",
              "    .colab-df-container {\n",
              "      display:flex;\n",
              "      flex-wrap:wrap;\n",
              "      gap: 12px;\n",
              "    }\n",
              "\n",
              "    .colab-df-convert {\n",
              "      background-color: #E8F0FE;\n",
              "      border: none;\n",
              "      border-radius: 50%;\n",
              "      cursor: pointer;\n",
              "      display: none;\n",
              "      fill: #1967D2;\n",
              "      height: 32px;\n",
              "      padding: 0 0 0 0;\n",
              "      width: 32px;\n",
              "    }\n",
              "\n",
              "    .colab-df-convert:hover {\n",
              "      background-color: #E2EBFA;\n",
              "      box-shadow: 0px 1px 2px rgba(60, 64, 67, 0.3), 0px 1px 3px 1px rgba(60, 64, 67, 0.15);\n",
              "      fill: #174EA6;\n",
              "    }\n",
              "\n",
              "    [theme=dark] .colab-df-convert {\n",
              "      background-color: #3B4455;\n",
              "      fill: #D2E3FC;\n",
              "    }\n",
              "\n",
              "    [theme=dark] .colab-df-convert:hover {\n",
              "      background-color: #434B5C;\n",
              "      box-shadow: 0px 1px 3px 1px rgba(0, 0, 0, 0.15);\n",
              "      filter: drop-shadow(0px 1px 2px rgba(0, 0, 0, 0.3));\n",
              "      fill: #FFFFFF;\n",
              "    }\n",
              "  </style>\n",
              "\n",
              "      <script>\n",
              "        const buttonEl =\n",
              "          document.querySelector('#df-d04f5308-727b-43f4-8bc9-872f2ec560bd button.colab-df-convert');\n",
              "        buttonEl.style.display =\n",
              "          google.colab.kernel.accessAllowed ? 'block' : 'none';\n",
              "\n",
              "        async function convertToInteractive(key) {\n",
              "          const element = document.querySelector('#df-d04f5308-727b-43f4-8bc9-872f2ec560bd');\n",
              "          const dataTable =\n",
              "            await google.colab.kernel.invokeFunction('convertToInteractive',\n",
              "                                                     [key], {});\n",
              "          if (!dataTable) return;\n",
              "\n",
              "          const docLinkHtml = 'Like what you see? Visit the ' +\n",
              "            '<a target=\"_blank\" href=https://colab.research.google.com/notebooks/data_table.ipynb>data table notebook</a>'\n",
              "            + ' to learn more about interactive tables.';\n",
              "          element.innerHTML = '';\n",
              "          dataTable['output_type'] = 'display_data';\n",
              "          await google.colab.output.renderOutput(dataTable, element);\n",
              "          const docLink = document.createElement('div');\n",
              "          docLink.innerHTML = docLinkHtml;\n",
              "          element.appendChild(docLink);\n",
              "        }\n",
              "      </script>\n",
              "    </div>\n",
              "  </div>\n",
              "  "
            ]
          },
          "metadata": {},
          "execution_count": 67
        }
      ],
      "source": [
        "#Clean data\n",
        "data = new_data[['class','desc_tokenized&joined']]\n",
        "data.head(10)"
      ]
    },
    {
      "cell_type": "code",
      "execution_count": null,
      "metadata": {
        "colab": {
          "base_uri": "https://localhost:8080/",
          "height": 206
        },
        "id": "kVTKSJzE2aAx",
        "outputId": "5e976892-c361-409b-fa8c-78825a332ff5"
      },
      "outputs": [
        {
          "output_type": "execute_result",
          "data": {
            "text/plain": [
              "    class                              desc_tokenized&joined\n",
              "0  411090  pracownik obsługi biurowej staż z urzędu pracy...\n",
              "1  332203  handlowiec pracownik biurowy oferta pracy prac...\n",
              "2  411090  pomoc biurowa oferta pracy umowa zlecenie umow...\n",
              "3  411004  pomoc biurowa oferta pracy umowa zlecenie umow...\n",
              "4  911290  sprzątaczka biurowa inwemer system spółka z og..."
            ],
            "text/html": [
              "\n",
              "  <div id=\"df-06651373-9b69-44e6-adc8-6a1c4878edcb\">\n",
              "    <div class=\"colab-df-container\">\n",
              "      <div>\n",
              "<style scoped>\n",
              "    .dataframe tbody tr th:only-of-type {\n",
              "        vertical-align: middle;\n",
              "    }\n",
              "\n",
              "    .dataframe tbody tr th {\n",
              "        vertical-align: top;\n",
              "    }\n",
              "\n",
              "    .dataframe thead th {\n",
              "        text-align: right;\n",
              "    }\n",
              "</style>\n",
              "<table border=\"1\" class=\"dataframe\">\n",
              "  <thead>\n",
              "    <tr style=\"text-align: right;\">\n",
              "      <th></th>\n",
              "      <th>class</th>\n",
              "      <th>desc_tokenized&amp;joined</th>\n",
              "    </tr>\n",
              "  </thead>\n",
              "  <tbody>\n",
              "    <tr>\n",
              "      <th>0</th>\n",
              "      <td>411090</td>\n",
              "      <td>pracownik obsługi biurowej staż z urzędu pracy...</td>\n",
              "    </tr>\n",
              "    <tr>\n",
              "      <th>1</th>\n",
              "      <td>332203</td>\n",
              "      <td>handlowiec pracownik biurowy oferta pracy prac...</td>\n",
              "    </tr>\n",
              "    <tr>\n",
              "      <th>2</th>\n",
              "      <td>411090</td>\n",
              "      <td>pomoc biurowa oferta pracy umowa zlecenie umow...</td>\n",
              "    </tr>\n",
              "    <tr>\n",
              "      <th>3</th>\n",
              "      <td>411004</td>\n",
              "      <td>pomoc biurowa oferta pracy umowa zlecenie umow...</td>\n",
              "    </tr>\n",
              "    <tr>\n",
              "      <th>4</th>\n",
              "      <td>911290</td>\n",
              "      <td>sprzątaczka biurowa inwemer system spółka z og...</td>\n",
              "    </tr>\n",
              "  </tbody>\n",
              "</table>\n",
              "</div>\n",
              "      <button class=\"colab-df-convert\" onclick=\"convertToInteractive('df-06651373-9b69-44e6-adc8-6a1c4878edcb')\"\n",
              "              title=\"Convert this dataframe to an interactive table.\"\n",
              "              style=\"display:none;\">\n",
              "        \n",
              "  <svg xmlns=\"http://www.w3.org/2000/svg\" height=\"24px\"viewBox=\"0 0 24 24\"\n",
              "       width=\"24px\">\n",
              "    <path d=\"M0 0h24v24H0V0z\" fill=\"none\"/>\n",
              "    <path d=\"M18.56 5.44l.94 2.06.94-2.06 2.06-.94-2.06-.94-.94-2.06-.94 2.06-2.06.94zm-11 1L8.5 8.5l.94-2.06 2.06-.94-2.06-.94L8.5 2.5l-.94 2.06-2.06.94zm10 10l.94 2.06.94-2.06 2.06-.94-2.06-.94-.94-2.06-.94 2.06-2.06.94z\"/><path d=\"M17.41 7.96l-1.37-1.37c-.4-.4-.92-.59-1.43-.59-.52 0-1.04.2-1.43.59L10.3 9.45l-7.72 7.72c-.78.78-.78 2.05 0 2.83L4 21.41c.39.39.9.59 1.41.59.51 0 1.02-.2 1.41-.59l7.78-7.78 2.81-2.81c.8-.78.8-2.07 0-2.86zM5.41 20L4 18.59l7.72-7.72 1.47 1.35L5.41 20z\"/>\n",
              "  </svg>\n",
              "      </button>\n",
              "      \n",
              "  <style>\n",
              "    .colab-df-container {\n",
              "      display:flex;\n",
              "      flex-wrap:wrap;\n",
              "      gap: 12px;\n",
              "    }\n",
              "\n",
              "    .colab-df-convert {\n",
              "      background-color: #E8F0FE;\n",
              "      border: none;\n",
              "      border-radius: 50%;\n",
              "      cursor: pointer;\n",
              "      display: none;\n",
              "      fill: #1967D2;\n",
              "      height: 32px;\n",
              "      padding: 0 0 0 0;\n",
              "      width: 32px;\n",
              "    }\n",
              "\n",
              "    .colab-df-convert:hover {\n",
              "      background-color: #E2EBFA;\n",
              "      box-shadow: 0px 1px 2px rgba(60, 64, 67, 0.3), 0px 1px 3px 1px rgba(60, 64, 67, 0.15);\n",
              "      fill: #174EA6;\n",
              "    }\n",
              "\n",
              "    [theme=dark] .colab-df-convert {\n",
              "      background-color: #3B4455;\n",
              "      fill: #D2E3FC;\n",
              "    }\n",
              "\n",
              "    [theme=dark] .colab-df-convert:hover {\n",
              "      background-color: #434B5C;\n",
              "      box-shadow: 0px 1px 3px 1px rgba(0, 0, 0, 0.15);\n",
              "      filter: drop-shadow(0px 1px 2px rgba(0, 0, 0, 0.3));\n",
              "      fill: #FFFFFF;\n",
              "    }\n",
              "  </style>\n",
              "\n",
              "      <script>\n",
              "        const buttonEl =\n",
              "          document.querySelector('#df-06651373-9b69-44e6-adc8-6a1c4878edcb button.colab-df-convert');\n",
              "        buttonEl.style.display =\n",
              "          google.colab.kernel.accessAllowed ? 'block' : 'none';\n",
              "\n",
              "        async function convertToInteractive(key) {\n",
              "          const element = document.querySelector('#df-06651373-9b69-44e6-adc8-6a1c4878edcb');\n",
              "          const dataTable =\n",
              "            await google.colab.kernel.invokeFunction('convertToInteractive',\n",
              "                                                     [key], {});\n",
              "          if (!dataTable) return;\n",
              "\n",
              "          const docLinkHtml = 'Like what you see? Visit the ' +\n",
              "            '<a target=\"_blank\" href=https://colab.research.google.com/notebooks/data_table.ipynb>data table notebook</a>'\n",
              "            + ' to learn more about interactive tables.';\n",
              "          element.innerHTML = '';\n",
              "          dataTable['output_type'] = 'display_data';\n",
              "          await google.colab.output.renderOutput(dataTable, element);\n",
              "          const docLink = document.createElement('div');\n",
              "          docLink.innerHTML = docLinkHtml;\n",
              "          element.appendChild(docLink);\n",
              "        }\n",
              "      </script>\n",
              "    </div>\n",
              "  </div>\n",
              "  "
            ]
          },
          "metadata": {},
          "execution_count": 68
        }
      ],
      "source": [
        "#usuwamy wszystkie wiersze, dla których occupation code nie zaczyna się od 6 lub 10 i 0\n",
        "data=data.loc[~data['class'].astype(str).str.startswith(('0','6', '10'))]\n",
        "data.head(5)"
      ]
    },
    {
      "cell_type": "code",
      "execution_count": null,
      "metadata": {
        "colab": {
          "base_uri": "https://localhost:8080/",
          "height": 467
        },
        "id": "JZ6POXtI0pMR",
        "outputId": "f0b2fdac-b9b2-487d-e2c6-fda491f5a4c9"
      },
      "outputs": [
        {
          "output_type": "stream",
          "name": "stderr",
          "text": [
            "/usr/local/lib/python3.7/dist-packages/ipykernel_launcher.py:2: SettingWithCopyWarning: \n",
            "A value is trying to be set on a copy of a slice from a DataFrame.\n",
            "Try using .loc[row_indexer,col_indexer] = value instead\n",
            "\n",
            "See the caveats in the documentation: https://pandas.pydata.org/pandas-docs/stable/user_guide/indexing.html#returning-a-view-versus-a-copy\n",
            "  \n"
          ]
        },
        {
          "output_type": "execute_result",
          "data": {
            "text/plain": [
              "       class                              desc_tokenized&joined KZiS_category\n",
              "5731  333190  asystentka spedytora międzynarodowego pełny et...             3\n",
              "7226  251401  frontend angular developer pełny etat umowa o ...             2\n",
              "5262  712614  pomocnik montera pomp ciepła columbus energy s...             7\n",
              "4254  112010  dyrektor marketingu pełny etat umowa o pracę k...             1\n",
              "7397  352122  technik sceny pełny etat umowa zlecenie specja...             3\n",
              "7543  234108  nauczyciel szkoła podstawowa język polski w sz...             2\n",
              "8818  754903  pracownik produkcji pomocnik pełny etat umowa ...             7\n",
              "7548  112012  zastępca dyrektora produkcji apsmes hrk sa hrk...             1\n",
              "943   411003  asystent ds administracyjnych z językiem angie...             4\n",
              "3778  721204  spawacz ślusarz tns sp z oo kto szuka tns sp z...             7"
            ],
            "text/html": [
              "\n",
              "  <div id=\"df-416ec0b5-b706-4be7-b5f6-a1a35690b422\">\n",
              "    <div class=\"colab-df-container\">\n",
              "      <div>\n",
              "<style scoped>\n",
              "    .dataframe tbody tr th:only-of-type {\n",
              "        vertical-align: middle;\n",
              "    }\n",
              "\n",
              "    .dataframe tbody tr th {\n",
              "        vertical-align: top;\n",
              "    }\n",
              "\n",
              "    .dataframe thead th {\n",
              "        text-align: right;\n",
              "    }\n",
              "</style>\n",
              "<table border=\"1\" class=\"dataframe\">\n",
              "  <thead>\n",
              "    <tr style=\"text-align: right;\">\n",
              "      <th></th>\n",
              "      <th>class</th>\n",
              "      <th>desc_tokenized&amp;joined</th>\n",
              "      <th>KZiS_category</th>\n",
              "    </tr>\n",
              "  </thead>\n",
              "  <tbody>\n",
              "    <tr>\n",
              "      <th>5731</th>\n",
              "      <td>333190</td>\n",
              "      <td>asystentka spedytora międzynarodowego pełny et...</td>\n",
              "      <td>3</td>\n",
              "    </tr>\n",
              "    <tr>\n",
              "      <th>7226</th>\n",
              "      <td>251401</td>\n",
              "      <td>frontend angular developer pełny etat umowa o ...</td>\n",
              "      <td>2</td>\n",
              "    </tr>\n",
              "    <tr>\n",
              "      <th>5262</th>\n",
              "      <td>712614</td>\n",
              "      <td>pomocnik montera pomp ciepła columbus energy s...</td>\n",
              "      <td>7</td>\n",
              "    </tr>\n",
              "    <tr>\n",
              "      <th>4254</th>\n",
              "      <td>112010</td>\n",
              "      <td>dyrektor marketingu pełny etat umowa o pracę k...</td>\n",
              "      <td>1</td>\n",
              "    </tr>\n",
              "    <tr>\n",
              "      <th>7397</th>\n",
              "      <td>352122</td>\n",
              "      <td>technik sceny pełny etat umowa zlecenie specja...</td>\n",
              "      <td>3</td>\n",
              "    </tr>\n",
              "    <tr>\n",
              "      <th>7543</th>\n",
              "      <td>234108</td>\n",
              "      <td>nauczyciel szkoła podstawowa język polski w sz...</td>\n",
              "      <td>2</td>\n",
              "    </tr>\n",
              "    <tr>\n",
              "      <th>8818</th>\n",
              "      <td>754903</td>\n",
              "      <td>pracownik produkcji pomocnik pełny etat umowa ...</td>\n",
              "      <td>7</td>\n",
              "    </tr>\n",
              "    <tr>\n",
              "      <th>7548</th>\n",
              "      <td>112012</td>\n",
              "      <td>zastępca dyrektora produkcji apsmes hrk sa hrk...</td>\n",
              "      <td>1</td>\n",
              "    </tr>\n",
              "    <tr>\n",
              "      <th>943</th>\n",
              "      <td>411003</td>\n",
              "      <td>asystent ds administracyjnych z językiem angie...</td>\n",
              "      <td>4</td>\n",
              "    </tr>\n",
              "    <tr>\n",
              "      <th>3778</th>\n",
              "      <td>721204</td>\n",
              "      <td>spawacz ślusarz tns sp z oo kto szuka tns sp z...</td>\n",
              "      <td>7</td>\n",
              "    </tr>\n",
              "  </tbody>\n",
              "</table>\n",
              "</div>\n",
              "      <button class=\"colab-df-convert\" onclick=\"convertToInteractive('df-416ec0b5-b706-4be7-b5f6-a1a35690b422')\"\n",
              "              title=\"Convert this dataframe to an interactive table.\"\n",
              "              style=\"display:none;\">\n",
              "        \n",
              "  <svg xmlns=\"http://www.w3.org/2000/svg\" height=\"24px\"viewBox=\"0 0 24 24\"\n",
              "       width=\"24px\">\n",
              "    <path d=\"M0 0h24v24H0V0z\" fill=\"none\"/>\n",
              "    <path d=\"M18.56 5.44l.94 2.06.94-2.06 2.06-.94-2.06-.94-.94-2.06-.94 2.06-2.06.94zm-11 1L8.5 8.5l.94-2.06 2.06-.94-2.06-.94L8.5 2.5l-.94 2.06-2.06.94zm10 10l.94 2.06.94-2.06 2.06-.94-2.06-.94-.94-2.06-.94 2.06-2.06.94z\"/><path d=\"M17.41 7.96l-1.37-1.37c-.4-.4-.92-.59-1.43-.59-.52 0-1.04.2-1.43.59L10.3 9.45l-7.72 7.72c-.78.78-.78 2.05 0 2.83L4 21.41c.39.39.9.59 1.41.59.51 0 1.02-.2 1.41-.59l7.78-7.78 2.81-2.81c.8-.78.8-2.07 0-2.86zM5.41 20L4 18.59l7.72-7.72 1.47 1.35L5.41 20z\"/>\n",
              "  </svg>\n",
              "      </button>\n",
              "      \n",
              "  <style>\n",
              "    .colab-df-container {\n",
              "      display:flex;\n",
              "      flex-wrap:wrap;\n",
              "      gap: 12px;\n",
              "    }\n",
              "\n",
              "    .colab-df-convert {\n",
              "      background-color: #E8F0FE;\n",
              "      border: none;\n",
              "      border-radius: 50%;\n",
              "      cursor: pointer;\n",
              "      display: none;\n",
              "      fill: #1967D2;\n",
              "      height: 32px;\n",
              "      padding: 0 0 0 0;\n",
              "      width: 32px;\n",
              "    }\n",
              "\n",
              "    .colab-df-convert:hover {\n",
              "      background-color: #E2EBFA;\n",
              "      box-shadow: 0px 1px 2px rgba(60, 64, 67, 0.3), 0px 1px 3px 1px rgba(60, 64, 67, 0.15);\n",
              "      fill: #174EA6;\n",
              "    }\n",
              "\n",
              "    [theme=dark] .colab-df-convert {\n",
              "      background-color: #3B4455;\n",
              "      fill: #D2E3FC;\n",
              "    }\n",
              "\n",
              "    [theme=dark] .colab-df-convert:hover {\n",
              "      background-color: #434B5C;\n",
              "      box-shadow: 0px 1px 3px 1px rgba(0, 0, 0, 0.15);\n",
              "      filter: drop-shadow(0px 1px 2px rgba(0, 0, 0, 0.3));\n",
              "      fill: #FFFFFF;\n",
              "    }\n",
              "  </style>\n",
              "\n",
              "      <script>\n",
              "        const buttonEl =\n",
              "          document.querySelector('#df-416ec0b5-b706-4be7-b5f6-a1a35690b422 button.colab-df-convert');\n",
              "        buttonEl.style.display =\n",
              "          google.colab.kernel.accessAllowed ? 'block' : 'none';\n",
              "\n",
              "        async function convertToInteractive(key) {\n",
              "          const element = document.querySelector('#df-416ec0b5-b706-4be7-b5f6-a1a35690b422');\n",
              "          const dataTable =\n",
              "            await google.colab.kernel.invokeFunction('convertToInteractive',\n",
              "                                                     [key], {});\n",
              "          if (!dataTable) return;\n",
              "\n",
              "          const docLinkHtml = 'Like what you see? Visit the ' +\n",
              "            '<a target=\"_blank\" href=https://colab.research.google.com/notebooks/data_table.ipynb>data table notebook</a>'\n",
              "            + ' to learn more about interactive tables.';\n",
              "          element.innerHTML = '';\n",
              "          dataTable['output_type'] = 'display_data';\n",
              "          await google.colab.output.renderOutput(dataTable, element);\n",
              "          const docLink = document.createElement('div');\n",
              "          docLink.innerHTML = docLinkHtml;\n",
              "          element.appendChild(docLink);\n",
              "        }\n",
              "      </script>\n",
              "    </div>\n",
              "  </div>\n",
              "  "
            ]
          },
          "metadata": {},
          "execution_count": 69
        }
      ],
      "source": [
        "#przypisanie do kat\n",
        "data['KZiS_category'] = data['class'].astype(str).str[0]\n",
        "data.sample(10, random_state = 5)"
      ]
    },
    {
      "cell_type": "code",
      "execution_count": null,
      "metadata": {
        "colab": {
          "base_uri": "https://localhost:8080/"
        },
        "id": "fNjoGDIg2v8y",
        "outputId": "4fc05aa9-c62b-4b11-8540-10cca7941c11"
      },
      "outputs": [
        {
          "output_type": "execute_result",
          "data": {
            "text/plain": [
              "2    3152\n",
              "7    1504\n",
              "3    1346\n",
              "5    1251\n",
              "4     827\n",
              "8     719\n",
              "9     681\n",
              "1     582\n",
              "Name: KZiS_category, dtype: int64"
            ]
          },
          "metadata": {},
          "execution_count": 70
        }
      ],
      "source": [
        "#Ile jest rekordów w każdej kategorii\n",
        "newdata_count = data['KZiS_category'].value_counts()\n",
        "newdata_count"
      ]
    },
    {
      "cell_type": "code",
      "execution_count": null,
      "metadata": {
        "colab": {
          "base_uri": "https://localhost:8080/",
          "height": 302
        },
        "id": "wkzuxRsW4FYA",
        "outputId": "ae9abc37-0c49-4852-ec67-271e33be4c62"
      },
      "outputs": [
        {
          "output_type": "execute_result",
          "data": {
            "text/plain": [
              "<matplotlib.axes._subplots.AxesSubplot at 0x7fcdf8240c50>"
            ]
          },
          "metadata": {},
          "execution_count": 71
        },
        {
          "output_type": "display_data",
          "data": {
            "text/plain": [
              "<Figure size 432x288 with 1 Axes>"
            ],
            "image/png": "[encoded data removed]"
          },
          "metadata": {}
        }
      ],
      "source": [
        "sns.countplot(x=\"KZiS_category\",data=data)"
      ]
    },
    {
      "cell_type": "code",
      "execution_count": null,
      "metadata": {
        "colab": {
          "base_uri": "https://localhost:8080/"
        },
        "id": "74fJ5nwQ4P8p",
        "outputId": "ea59b43b-5cfb-475a-f1cd-500bd87809d1"
      },
      "outputs": [
        {
          "output_type": "stream",
          "name": "stdout",
          "text": [
            "<class 'pandas.core.frame.DataFrame'>\n",
            "Int64Index: 10062 entries, 0 to 10081\n",
            "Data columns (total 3 columns):\n",
            " #   Column                 Non-Null Count  Dtype \n",
            "---  ------                 --------------  ----- \n",
            " 0   class                  10062 non-null  object\n",
            " 1   desc_tokenized&joined  10062 non-null  object\n",
            " 2   KZiS_category          10062 non-null  object\n",
            "dtypes: object(3)\n",
            "memory usage: 572.5+ KB\n"
          ]
        },
        {
          "output_type": "execute_result",
          "data": {
            "text/plain": [
              "(10062, 3)"
            ]
          },
          "metadata": {},
          "execution_count": 72
        }
      ],
      "source": [
        "# getting basic info about the dataset\n",
        "# na początku było 10082 rekordów i 5 kolumn)\n",
        "data.info()\n",
        "data.shape"
      ]
    },
    {
      "cell_type": "code",
      "execution_count": null,
      "metadata": {
        "id": "wyHcmkhQ4Pmo"
      },
      "outputs": [],
      "source": [
        "data.drop('class', axis=1, inplace=True)"
      ]
    },
    {
      "cell_type": "code",
      "execution_count": null,
      "metadata": {
        "colab": {
          "base_uri": "https://localhost:8080/",
          "height": 206
        },
        "id": "6RCzTp6y4YXX",
        "outputId": "34060904-7982-4db1-ec9e-583c6e25f515"
      },
      "outputs": [
        {
          "output_type": "execute_result",
          "data": {
            "text/plain": [
              "                                                text cat\n",
              "0  pracownik obsługi biurowej staż z urzędu pracy...   4\n",
              "1  handlowiec pracownik biurowy oferta pracy prac...   3\n",
              "2  pomoc biurowa oferta pracy umowa zlecenie umow...   4\n",
              "3  pomoc biurowa oferta pracy umowa zlecenie umow...   4\n",
              "4  sprzątaczka biurowa inwemer system spółka z og...   9"
            ],
            "text/html": [
              "\n",
              "  <div id=\"df-c2309746-15c3-4ca7-9bac-1ecac93e600c\">\n",
              "    <div class=\"colab-df-container\">\n",
              "      <div>\n",
              "<style scoped>\n",
              "    .dataframe tbody tr th:only-of-type {\n",
              "        vertical-align: middle;\n",
              "    }\n",
              "\n",
              "    .dataframe tbody tr th {\n",
              "        vertical-align: top;\n",
              "    }\n",
              "\n",
              "    .dataframe thead th {\n",
              "        text-align: right;\n",
              "    }\n",
              "</style>\n",
              "<table border=\"1\" class=\"dataframe\">\n",
              "  <thead>\n",
              "    <tr style=\"text-align: right;\">\n",
              "      <th></th>\n",
              "      <th>text</th>\n",
              "      <th>cat</th>\n",
              "    </tr>\n",
              "  </thead>\n",
              "  <tbody>\n",
              "    <tr>\n",
              "      <th>0</th>\n",
              "      <td>pracownik obsługi biurowej staż z urzędu pracy...</td>\n",
              "      <td>4</td>\n",
              "    </tr>\n",
              "    <tr>\n",
              "      <th>1</th>\n",
              "      <td>handlowiec pracownik biurowy oferta pracy prac...</td>\n",
              "      <td>3</td>\n",
              "    </tr>\n",
              "    <tr>\n",
              "      <th>2</th>\n",
              "      <td>pomoc biurowa oferta pracy umowa zlecenie umow...</td>\n",
              "      <td>4</td>\n",
              "    </tr>\n",
              "    <tr>\n",
              "      <th>3</th>\n",
              "      <td>pomoc biurowa oferta pracy umowa zlecenie umow...</td>\n",
              "      <td>4</td>\n",
              "    </tr>\n",
              "    <tr>\n",
              "      <th>4</th>\n",
              "      <td>sprzątaczka biurowa inwemer system spółka z og...</td>\n",
              "      <td>9</td>\n",
              "    </tr>\n",
              "  </tbody>\n",
              "</table>\n",
              "</div>\n",
              "      <button class=\"colab-df-convert\" onclick=\"convertToInteractive('df-c2309746-15c3-4ca7-9bac-1ecac93e600c')\"\n",
              "              title=\"Convert this dataframe to an interactive table.\"\n",
              "              style=\"display:none;\">\n",
              "        \n",
              "  <svg xmlns=\"http://www.w3.org/2000/svg\" height=\"24px\"viewBox=\"0 0 24 24\"\n",
              "       width=\"24px\">\n",
              "    <path d=\"M0 0h24v24H0V0z\" fill=\"none\"/>\n",
              "    <path d=\"M18.56 5.44l.94 2.06.94-2.06 2.06-.94-2.06-.94-.94-2.06-.94 2.06-2.06.94zm-11 1L8.5 8.5l.94-2.06 2.06-.94-2.06-.94L8.5 2.5l-.94 2.06-2.06.94zm10 10l.94 2.06.94-2.06 2.06-.94-2.06-.94-.94-2.06-.94 2.06-2.06.94z\"/><path d=\"M17.41 7.96l-1.37-1.37c-.4-.4-.92-.59-1.43-.59-.52 0-1.04.2-1.43.59L10.3 9.45l-7.72 7.72c-.78.78-.78 2.05 0 2.83L4 21.41c.39.39.9.59 1.41.59.51 0 1.02-.2 1.41-.59l7.78-7.78 2.81-2.81c.8-.78.8-2.07 0-2.86zM5.41 20L4 18.59l7.72-7.72 1.47 1.35L5.41 20z\"/>\n",
              "  </svg>\n",
              "      </button>\n",
              "      \n",
              "  <style>\n",
              "    .colab-df-container {\n",
              "      display:flex;\n",
              "      flex-wrap:wrap;\n",
              "      gap: 12px;\n",
              "    }\n",
              "\n",
              "    .colab-df-convert {\n",
              "      background-color: #E8F0FE;\n",
              "      border: none;\n",
              "      border-radius: 50%;\n",
              "      cursor: pointer;\n",
              "      display: none;\n",
              "      fill: #1967D2;\n",
              "      height: 32px;\n",
              "      padding: 0 0 0 0;\n",
              "      width: 32px;\n",
              "    }\n",
              "\n",
              "    .colab-df-convert:hover {\n",
              "      background-color: #E2EBFA;\n",
              "      box-shadow: 0px 1px 2px rgba(60, 64, 67, 0.3), 0px 1px 3px 1px rgba(60, 64, 67, 0.15);\n",
              "      fill: #174EA6;\n",
              "    }\n",
              "\n",
              "    [theme=dark] .colab-df-convert {\n",
              "      background-color: #3B4455;\n",
              "      fill: #D2E3FC;\n",
              "    }\n",
              "\n",
              "    [theme=dark] .colab-df-convert:hover {\n",
              "      background-color: #434B5C;\n",
              "      box-shadow: 0px 1px 3px 1px rgba(0, 0, 0, 0.15);\n",
              "      filter: drop-shadow(0px 1px 2px rgba(0, 0, 0, 0.3));\n",
              "      fill: #FFFFFF;\n",
              "    }\n",
              "  </style>\n",
              "\n",
              "      <script>\n",
              "        const buttonEl =\n",
              "          document.querySelector('#df-c2309746-15c3-4ca7-9bac-1ecac93e600c button.colab-df-convert');\n",
              "        buttonEl.style.display =\n",
              "          google.colab.kernel.accessAllowed ? 'block' : 'none';\n",
              "\n",
              "        async function convertToInteractive(key) {\n",
              "          const element = document.querySelector('#df-c2309746-15c3-4ca7-9bac-1ecac93e600c');\n",
              "          const dataTable =\n",
              "            await google.colab.kernel.invokeFunction('convertToInteractive',\n",
              "                                                     [key], {});\n",
              "          if (!dataTable) return;\n",
              "\n",
              "          const docLinkHtml = 'Like what you see? Visit the ' +\n",
              "            '<a target=\"_blank\" href=https://colab.research.google.com/notebooks/data_table.ipynb>data table notebook</a>'\n",
              "            + ' to learn more about interactive tables.';\n",
              "          element.innerHTML = '';\n",
              "          dataTable['output_type'] = 'display_data';\n",
              "          await google.colab.output.renderOutput(dataTable, element);\n",
              "          const docLink = document.createElement('div');\n",
              "          docLink.innerHTML = docLinkHtml;\n",
              "          element.appendChild(docLink);\n",
              "        }\n",
              "      </script>\n",
              "    </div>\n",
              "  </div>\n",
              "  "
            ]
          },
          "metadata": {},
          "execution_count": 74
        }
      ],
      "source": [
        "data.rename(columns={'desc_tokenized&joined':'text', 'KZiS_category':'cat'}, inplace=True)\n",
        "data.head(5)"
      ]
    },
    {
      "cell_type": "markdown",
      "metadata": {
        "id": "2nDPmseg5FCY"
      },
      "source": [
        "##Logistic Regression model for our new dataset"
      ]
    },
    {
      "cell_type": "code",
      "execution_count": null,
      "metadata": {
        "id": "JCVEThzy5Sew"
      },
      "outputs": [],
      "source": [
        "# X = data.text\n",
        "# y = df.cat\n",
        "# X_train, X_test, y_train, y_test = train_test_split(X, y, test_size=0.3, random_state = 42)\n",
        "X_train=df['text']\n",
        "y_train=df['cat']\n",
        "X_test=data['text']\n",
        "y_test=data['cat']"
      ]
    },
    {
      "cell_type": "code",
      "execution_count": null,
      "metadata": {
        "colab": {
          "base_uri": "https://localhost:8080/"
        },
        "id": "VChtTEdH7xui",
        "outputId": "d2984508-7e8a-4979-b4c0-0013a0f11f1a"
      },
      "outputs": [
        {
          "output_type": "stream",
          "name": "stdout",
          "text": [
            "(703887,)\n",
            "(703887,)\n",
            "(10062,)\n",
            "(10062,)\n"
          ]
        }
      ],
      "source": [
        "print(X_train.shape)\n",
        "print(y_train.shape)\n",
        "print(X_test.shape)\n",
        "print(y_test.shape)"
      ]
    },
    {
      "cell_type": "code",
      "execution_count": null,
      "metadata": {
        "colab": {
          "base_uri": "https://localhost:8080/"
        },
        "id": "BYHOlD915D8i",
        "outputId": "ed57c462-c290-4adc-97f5-9a22ab384ca1"
      },
      "outputs": [
        {
          "output_type": "stream",
          "name": "stderr",
          "text": [
            "/usr/local/lib/python3.7/dist-packages/sklearn/linear_model/_logistic.py:818: ConvergenceWarning: lbfgs failed to converge (status=1):\n",
            "STOP: TOTAL NO. of ITERATIONS REACHED LIMIT.\n",
            "\n",
            "Increase the number of iterations (max_iter) or scale the data as shown in:\n",
            "    https://scikit-learn.org/stable/modules/preprocessing.html\n",
            "Please also refer to the documentation for alternative solver options:\n",
            "    https://scikit-learn.org/stable/modules/linear_model.html#logistic-regression\n",
            "  extra_warning_msg=_LOGISTIC_SOLVER_CONVERGENCE_MSG,\n"
          ]
        },
        {
          "output_type": "stream",
          "name": "stdout",
          "text": [
            "CPU times: user 2 µs, sys: 1e+03 ns, total: 3 µs\n",
            "Wall time: 5.96 µs\n",
            "accuracy 0.7405088451600079\n",
            "              precision    recall  f1-score   support\n",
            "\n",
            "           1       0.80      0.59      0.68       582\n",
            "           2       0.74      0.90      0.81      3152\n",
            "           3       0.65      0.50      0.57      1346\n",
            "           4       0.68      0.65      0.67       827\n",
            "           5       0.79      0.74      0.76      1251\n",
            "           7       0.81      0.74      0.78      1504\n",
            "           8       0.82      0.73      0.77       719\n",
            "           9       0.64      0.74      0.69       681\n",
            "\n",
            "    accuracy                           0.74     10062\n",
            "   macro avg       0.74      0.70      0.71     10062\n",
            "weighted avg       0.74      0.74      0.74     10062\n",
            "\n"
          ]
        }
      ],
      "source": [
        "logreg1 = Pipeline([('vect', CountVectorizer()),\n",
        "                ('tfidf', TfidfTransformer()),\n",
        "                ('clf', LogisticRegression(n_jobs=1, C=1e5)),\n",
        "               ])\n",
        "logreg1.fit(X_train, y_train)\n",
        "\n",
        "%time\n",
        "\n",
        "y_pred_logreg = logreg1.predict(X_test)\n",
        "\n",
        "print('accuracy %s' % accuracy_score(y_pred_logreg, y_test))\n",
        "print(classification_report(y_test, y_pred_logreg))"
      ]
    },
    {
      "cell_type": "markdown",
      "source": [
        "##SVM model fro new dataset"
      ],
      "metadata": {
        "id": "G0gVh6lh9onf"
      }
    },
    {
      "cell_type": "code",
      "source": [
        "sgd1 = Pipeline([('vect', CountVectorizer()),\n",
        "                ('tfidf', TfidfTransformer()),\n",
        "                ('clf', SGDClassifier(loss='hinge', penalty='l2',alpha=1e-3, random_state=42, max_iter=5, tol=None)),\n",
        "               ])\n",
        "sgd1.fit(X_train, y_train)\n",
        "\n",
        "%time\n",
        "\n",
        "y_pred_svm = sgd1.predict(X_test)\n",
        "\n",
        "print('accuracy %s' % accuracy_score(y_pred_svm, y_test))\n",
        "print(classification_report(y_test, y_pred_svm))"
      ],
      "metadata": {
        "colab": {
          "base_uri": "https://localhost:8080/"
        },
        "id": "0XF7fup39u3U",
        "outputId": "fcccea85-c7be-466f-d6cb-721f9c4e97e6"
      },
      "execution_count": null,
      "outputs": [
        {
          "output_type": "stream",
          "name": "stdout",
          "text": [
            "CPU times: user 4 µs, sys: 1 µs, total: 5 µs\n",
            "Wall time: 9.3 µs\n",
            "accuracy 0.693500298151461\n",
            "              precision    recall  f1-score   support\n",
            "\n",
            "           1       0.77      0.42      0.55       582\n",
            "           2       0.72      0.83      0.77      3152\n",
            "           3       0.81      0.31      0.45      1346\n",
            "           4       0.69      0.65      0.67       827\n",
            "           5       0.69      0.80      0.74      1251\n",
            "           7       0.64      0.73      0.68      1504\n",
            "           8       0.70      0.78      0.74       719\n",
            "           9       0.61      0.73      0.66       681\n",
            "\n",
            "    accuracy                           0.69     10062\n",
            "   macro avg       0.70      0.66      0.66     10062\n",
            "weighted avg       0.71      0.69      0.68     10062\n",
            "\n"
          ]
        }
      ]
    },
    {
      "cell_type": "markdown",
      "source": [
        "##NB for our new dataset"
      ],
      "metadata": {
        "id": "h2U1f8Dh9_MK"
      }
    },
    {
      "cell_type": "code",
      "execution_count": null,
      "metadata": {
        "colab": {
          "base_uri": "https://localhost:8080/"
        },
        "outputId": "297ab419-2c12-42b8-89c0-53dbeaffb1f8",
        "id": "sFtQqhGM-CrN"
      },
      "outputs": [
        {
          "output_type": "stream",
          "name": "stdout",
          "text": [
            "CPU times: user 2 µs, sys: 1e+03 ns, total: 3 µs\n",
            "Wall time: 6.68 µs\n",
            "accuracy 0.6158815344861857\n",
            "              precision    recall  f1-score   support\n",
            "\n",
            "           1       0.00      0.00      0.00       582\n",
            "           2       0.56      0.95      0.71      3152\n",
            "           3       0.55      0.30      0.39      1346\n",
            "           4       0.68      0.50      0.58       827\n",
            "           5       0.71      0.56      0.63      1251\n",
            "           7       0.78      0.61      0.68      1504\n",
            "           8       0.88      0.48      0.62       719\n",
            "           9       0.52      0.63      0.57       681\n",
            "\n",
            "    accuracy                           0.62     10062\n",
            "   macro avg       0.58      0.50      0.52     10062\n",
            "weighted avg       0.61      0.62      0.58     10062\n",
            "\n"
          ]
        },
        {
          "output_type": "stream",
          "name": "stderr",
          "text": [
            "/usr/local/lib/python3.7/dist-packages/sklearn/metrics/_classification.py:1318: UndefinedMetricWarning: Precision and F-score are ill-defined and being set to 0.0 in labels with no predicted samples. Use `zero_division` parameter to control this behavior.\n",
            "  _warn_prf(average, modifier, msg_start, len(result))\n",
            "/usr/local/lib/python3.7/dist-packages/sklearn/metrics/_classification.py:1318: UndefinedMetricWarning: Precision and F-score are ill-defined and being set to 0.0 in labels with no predicted samples. Use `zero_division` parameter to control this behavior.\n",
            "  _warn_prf(average, modifier, msg_start, len(result))\n",
            "/usr/local/lib/python3.7/dist-packages/sklearn/metrics/_classification.py:1318: UndefinedMetricWarning: Precision and F-score are ill-defined and being set to 0.0 in labels with no predicted samples. Use `zero_division` parameter to control this behavior.\n",
            "  _warn_prf(average, modifier, msg_start, len(result))\n"
          ]
        }
      ],
      "source": [
        "nb1 = Pipeline([('vect', CountVectorizer()),\n",
        "               ('tfidf', TfidfTransformer()),\n",
        "               ('clf', MultinomialNB()),\n",
        "              ])\n",
        "nb1.fit(X_train, y_train)\n",
        "\n",
        "%time\n",
        "from sklearn.metrics import classification_report\n",
        "y_pred = nb1.predict(X_test)\n",
        "\n",
        "print('accuracy %s' % accuracy_score(y_pred, y_test))\n",
        "print(classification_report(y_test, y_pred))"
      ]
    }
  ],
  "metadata": {
    "colab": {
      "provenance": [],
      "toc_visible": true
    },
    "kernelspec": {
      "display_name": "Python 3",
      "language": "python",
      "name": "python3"
    },
    "language_info": {
      "codemirror_mode": {
        "name": "ipython",
        "version": 3
      },
      "file_extension": ".py",
      "mimetype": "text/x-python",
      "name": "python",
      "nbconvert_exporter": "python",
      "pygments_lexer": "ipython3",
      "version": "3.8.3"
    }
  },
  "nbformat": 4,
  "nbformat_minor": 0
}